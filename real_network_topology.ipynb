{
 "cells": [
  {
   "cell_type": "code",
   "execution_count": 1,
   "metadata": {},
   "outputs": [],
   "source": [
    "%load_ext autoreload\n",
    "%autoreload 2"
   ]
  },
  {
   "cell_type": "code",
   "execution_count": 2,
   "metadata": {},
   "outputs": [],
   "source": [
    "import argparse\n",
    "import helpers\n",
    "import networkx as nx\n",
    "import numpy as np\n",
    "import os\n",
    "\n",
    "from matplotlib import pyplot as plt\n",
    "from sklearn.metrics import log_loss\n",
    "from networkx.algorithms.distance_measures import diameter\n",
    "from decentralized_SGD_logistic import DecentralizedSGDLogistic\n",
    "from sklearn.linear_model import SGDClassifier"
   ]
  },
  {
   "cell_type": "markdown",
   "metadata": {},
   "source": [
    "## Load Higgs Boson dataset"
   ]
  },
  {
   "cell_type": "code",
   "execution_count": 3,
   "metadata": {},
   "outputs": [],
   "source": [
    "y, A = helpers.load_data()"
   ]
  },
  {
   "cell_type": "markdown",
   "metadata": {},
   "source": [
    "## Compute the baseline with SGD classifier "
   ]
  },
  {
   "cell_type": "code",
   "execution_count": 4,
   "metadata": {},
   "outputs": [
    {
     "name": "stdout",
     "output_type": "stream",
     "text": [
      "Accuracy: 0.7444\n",
      "Final loss: 0.5063267378689544\n"
     ]
    }
   ],
   "source": [
    "# Fit a SGD\n",
    "clf = SGDClassifier(loss='log', penalty='l2',alpha =1/A.shape[0], tol=1e-4, n_jobs=1, random_state=2)\n",
    "clf.fit(A, y)\n",
    "\n",
    "accuracy = clf.score(A, y)\n",
    "optimum_x = clf.predict_proba(A)[:, 1]\n",
    "\n",
    "# Optimal loss, useful for plots\n",
    "optimum_loss = (-(y.T.dot(np.log(optimum_x)) + (1 - y).T.dot(np.log(1 - optimum_x))) / A.shape[0])\n",
    "\n",
    "print('Accuracy:', accuracy)\n",
    "print('Final loss:', optimum_loss)"
   ]
  },
  {
   "cell_type": "markdown",
   "metadata": {},
   "source": [
    "## Computing with Decentralized SGD"
   ]
  },
  {
   "cell_type": "markdown",
   "metadata": {},
   "source": [
    "### Real Social Network Graph"
   ]
  },
  {
   "cell_type": "code",
   "execution_count": 47,
   "metadata": {},
   "outputs": [
    {
     "name": "stdout",
     "output_type": "stream",
     "text": [
      "Number of nodes: 4941\n",
      "Number of edges: 6594\n"
     ]
    }
   ],
   "source": [
    "G = nx.read_gml('power.gml', label='id')\n",
    "G = G.to_undirected()\n",
    "n_machines = G.number_of_nodes()\n",
    "real_network_topology = nx.adjacency_matrix(G).toarray() + np.eye(n_machines)\n",
    "\n",
    "print('Number of nodes: ' + str(n_machines))\n",
    "print('Number of edges: ' + str(G.number_of_edges()))"
   ]
  },
  {
   "cell_type": "code",
   "execution_count": 43,
   "metadata": {},
   "outputs": [],
   "source": [
    "reg = 1 / A.shape[0]\n",
    "n_features = A.shape[1]\n",
    "compute_loss_every = 5\n",
    "\n",
    "params = dict(num_epoch=15, lr_type='bottou',\n",
    "                           initial_lr=0.4, regularizer=reg,\n",
    "                           quantization_method='full', n_machines=n_machines,\n",
    "                           communication_method='plain',\n",
    "                           data_distribution_random_seed=2, random_seed=2,\n",
    "                           data_distribution_strategy='random', \n",
    "                           compute_loss_every=compute_loss_every, tol=1e-10)"
   ]
  },
  {
   "cell_type": "markdown",
   "metadata": {},
   "source": [
    "### Compute the losses of complete topology (lr = 0.6)"
   ]
  },
  {
   "cell_type": "code",
   "execution_count": 27,
   "metadata": {},
   "outputs": [
    {
     "name": "stdout",
     "output_type": "stream",
     "text": [
      "Decentralized optimization, run number 1 \n",
      "\n",
      "\u001b[32mEpoch      Iteration      Time      Loss      Accuracy      \u001b[0m\n",
      "[1/15]     [50/50]        21s       0.5790    0.7217        \u001b[0m\n",
      "[2/15]     [50/50]        42s       0.5729    0.7249        \u001b[0m\n",
      "[3/15]     [50/50]        63s       0.5718    0.7268        \u001b[0m\n",
      "[4/15]     [50/50]        84s       0.5730    0.7271        \u001b[0m\n",
      "[5/15]     [50/50]        105s      0.5719    0.7282        \u001b[0m\n",
      "[6/15]     [50/50]        126s      0.5737    0.7292        \u001b[0m\n",
      "[7/15]     [50/50]        146s      0.5733    0.7279        \u001b[0m\n",
      "[8/15]     [50/50]        164s      0.5736    0.7278        \u001b[0m\n",
      "[9/15]     [50/50]        183s      0.5734    0.7278        \u001b[0m\n",
      "[10/15]    [50/50]        202s      0.5735    0.7277        \u001b[0m\n",
      "[11/15]    [50/50]        222s      0.5735    0.7280        \u001b[0m\n",
      "[12/15]    [50/50]        245s      0.5757    0.7280        \u001b[0m\n",
      "[13/15]    [50/50]        265s      0.5740    0.7281        \u001b[0m\n",
      "[14/15]    [50/50]        283s      0.5752    0.7286        \u001b[0m\n",
      "[15/15]    [50/50]        304s      0.5742    0.7281        \u001b[0m\n",
      "\n",
      "Final score: 0.7281\n",
      "Decentralized optimization, run number 2 \n",
      "\n",
      "\u001b[32mEpoch      Iteration      Time      Loss      Accuracy      \u001b[0m\n",
      "[1/15]     [50/50]        20s       0.5792    0.7229        \u001b[0m\n",
      "[2/15]     [50/50]        41s       0.5739    0.7259        \u001b[0m\n",
      "[3/15]     [50/50]        64s       0.5751    0.7238        \u001b[0m\n",
      "[4/15]     [50/50]        85s       0.5732    0.7283        \u001b[0m\n",
      "[5/15]     [50/50]        106s      0.5713    0.7280        \u001b[0m\n",
      "[6/15]     [50/50]        126s      0.5737    0.7269        \u001b[0m\n",
      "[7/15]     [50/50]        146s      0.5729    0.7289        \u001b[0m\n",
      "[8/15]     [50/50]        167s      0.5731    0.7285        \u001b[0m\n",
      "[9/15]     [50/50]        187s      0.5739    0.7271        \u001b[0m\n",
      "[10/15]    [50/50]        208s      0.5747    0.7276        \u001b[0m\n",
      "[11/15]    [50/50]        228s      0.5759    0.7293        \u001b[0m\n",
      "[12/15]    [50/50]        249s      0.5753    0.7295        \u001b[0m\n",
      "[13/15]    [50/50]        269s      0.5749    0.7275        \u001b[0m\n",
      "[14/15]    [50/50]        290s      0.5745    0.7276        \u001b[0m\n",
      "[15/15]    [50/50]        312s      0.5741    0.7271        \u001b[0m\n",
      "\n",
      "Final score: 0.7271\n",
      "Decentralized optimization, run number 3 \n",
      "\n",
      "\u001b[32mEpoch      Iteration      Time      Loss      Accuracy      \u001b[0m\n",
      "[1/15]     [50/50]        21s       0.5797    0.7223        \u001b[0m\n",
      "[2/15]     [50/50]        41s       0.5740    0.7262        \u001b[0m\n",
      "[3/15]     [50/50]        64s       0.5727    0.7270        \u001b[0m\n",
      "[4/15]     [50/50]        87s       0.5727    0.7264        \u001b[0m\n",
      "[5/15]     [50/50]        110s      0.5724    0.7271        \u001b[0m\n",
      "[6/15]     [50/50]        133s      0.5728    0.7270        \u001b[0m\n",
      "[7/15]     [50/50]        154s      0.5739    0.7283        \u001b[0m\n",
      "[8/15]     [50/50]        174s      0.5726    0.7277        \u001b[0m\n",
      "[9/15]     [50/50]        195s      0.5742    0.7274        \u001b[0m\n",
      "[10/15]    [50/50]        214s      0.5765    0.7262        \u001b[0m\n",
      "[11/15]    [50/50]        235s      0.5737    0.7286        \u001b[0m\n",
      "[12/15]    [50/50]        255s      0.5734    0.7276        \u001b[0m\n",
      "[13/15]    [50/50]        276s      0.5738    0.7281        \u001b[0m\n",
      "[14/15]    [50/50]        297s      0.5744    0.7283        \u001b[0m\n",
      "[15/15]    [50/50]        318s      0.5752    0.7278        \u001b[0m\n",
      "\n",
      "Final score: 0.7278\n"
     ]
    }
   ],
   "source": [
    "params_complete = params.copy()\n",
    "params_complete['topology'] = 'complete'\n",
    "losses_complete = helpers.run_logistic_n_times(A, y, params_complete, 3)"
   ]
  },
  {
   "cell_type": "markdown",
   "metadata": {},
   "source": [
    "### Compute the losses of real topology (lr = 0.6)"
   ]
  },
  {
   "cell_type": "code",
   "execution_count": 40,
   "metadata": {},
   "outputs": [
    {
     "name": "stdout",
     "output_type": "stream",
     "text": [
      "Decentralized optimization, run number 1 \n",
      "\n",
      "\u001b[32mEpoch      Iteration      Time      Loss      Accuracy      \u001b[0m\n",
      "[1/15]     [50/50]        8s        0.5790    0.7217        \u001b[0m\n",
      "[2/15]     [50/50]        16s       0.5729    0.7249        \u001b[0m\n",
      "[3/15]     [50/50]        25s       0.5718    0.7268        \u001b[0m\n",
      "[4/15]     [50/50]        34s       0.5730    0.7271        \u001b[0m\n",
      "[5/15]     [50/50]        42s       0.5719    0.7282        \u001b[0m\n",
      "[6/15]     [50/50]        51s       0.5737    0.7292        \u001b[0m\n",
      "[7/15]     [50/50]        61s       0.5733    0.7279        \u001b[0m\n",
      "[8/15]     [50/50]        70s       0.5736    0.7278        \u001b[0m\n",
      "[9/15]     [50/50]        80s       0.5734    0.7278        \u001b[0m\n",
      "[10/15]    [50/50]        89s       0.5735    0.7277        \u001b[0m\n",
      "[11/15]    [50/50]        98s       0.5735    0.7280        \u001b[0m\n",
      "[12/15]    [50/50]        107s      0.5757    0.7280        \u001b[0m\n",
      "[13/15]    [50/50]        116s      0.5740    0.7281        \u001b[0m\n",
      "[14/15]    [50/50]        126s      0.5752    0.7286        \u001b[0m\n",
      "[15/15]    [50/50]        136s      0.5742    0.7281        \u001b[0m\n",
      "\n",
      "Final score: 0.7281\n",
      "Decentralized optimization, run number 2 \n",
      "\n",
      "\u001b[32mEpoch      Iteration      Time      Loss      Accuracy      \u001b[0m\n",
      "[1/15]     [50/50]        10s       0.5792    0.7229        \u001b[0m\n",
      "[2/15]     [50/50]        19s       0.5739    0.7259        \u001b[0m\n",
      "[3/15]     [50/50]        29s       0.5751    0.7238        \u001b[0m\n",
      "[4/15]     [50/50]        38s       0.5732    0.7283        \u001b[0m\n",
      "[5/15]     [50/50]        48s       0.5713    0.7280        \u001b[0m\n",
      "[6/15]     [50/50]        58s       0.5737    0.7269        \u001b[0m\n",
      "[7/15]     [50/50]        69s       0.5729    0.7289        \u001b[0m\n",
      "[8/15]     [50/50]        78s       0.5731    0.7285        \u001b[0m\n",
      "[9/15]     [50/50]        88s       0.5739    0.7271        \u001b[0m\n",
      "[10/15]    [50/50]        98s       0.5747    0.7276        \u001b[0m\n",
      "[11/15]    [50/50]        107s      0.5759    0.7293        \u001b[0m\n",
      "[12/15]    [50/50]        117s      0.5753    0.7295        \u001b[0m\n",
      "[13/15]    [50/50]        127s      0.5749    0.7275        \u001b[0m\n",
      "[14/15]    [50/50]        137s      0.5745    0.7276        \u001b[0m\n",
      "[15/15]    [50/50]        147s      0.5741    0.7271        \u001b[0m\n",
      "\n",
      "Final score: 0.7271\n",
      "Decentralized optimization, run number 3 \n",
      "\n",
      "\u001b[32mEpoch      Iteration      Time      Loss      Accuracy      \u001b[0m\n",
      "[1/15]     [50/50]        10s       0.5797    0.7223        \u001b[0m\n",
      "[2/15]     [50/50]        19s       0.5740    0.7262        \u001b[0m\n",
      "[3/15]     [50/50]        29s       0.5727    0.7270        \u001b[0m\n",
      "[4/15]     [50/50]        38s       0.5727    0.7264        \u001b[0m\n",
      "[5/15]     [50/50]        49s       0.5724    0.7271        \u001b[0m\n",
      "[6/15]     [50/50]        59s       0.5728    0.7270        \u001b[0m\n",
      "[7/15]     [50/50]        69s       0.5739    0.7283        \u001b[0m\n",
      "[8/15]     [50/50]        78s       0.5726    0.7277        \u001b[0m\n",
      "[9/15]     [50/50]        88s       0.5742    0.7274        \u001b[0m\n",
      "[10/15]    [50/50]        98s       0.5765    0.7262        \u001b[0m\n",
      "[11/15]    [50/50]        109s      0.5737    0.7286        \u001b[0m\n",
      "[12/15]    [50/50]        119s      0.5734    0.7276        \u001b[0m\n",
      "[13/15]    [50/50]        129s      0.5738    0.7281        \u001b[0m\n",
      "[14/15]    [50/50]        139s      0.5744    0.7283        \u001b[0m\n",
      "[15/15]    [50/50]        149s      0.5752    0.7278        \u001b[0m\n",
      "\n",
      "Final score: 0.7278\n"
     ]
    }
   ],
   "source": [
    "params_real = params.copy()\n",
    "params_real['topology'] = real_network_topology\n",
    "losses_real = helpers.run_logistic_n_times(A, y, params_complete, 3)"
   ]
  },
  {
   "cell_type": "markdown",
   "metadata": {},
   "source": [
    "### Results for lr=0.6"
   ]
  },
  {
   "cell_type": "code",
   "execution_count": 73,
   "metadata": {},
   "outputs": [
    {
     "data": {
      "image/png": "[encoded data removed]",
      "text/plain": [
       "<Figure size 288x216 with 1 Axes>"
      ]
     },
     "metadata": {
      "needs_background": "light"
     },
     "output_type": "display_data"
    }
   ],
   "source": [
    "iterations_indices = np.arange(0, losses_real[0].shape[0] * compute_loss_every, \n",
    "                               compute_loss_every)\n",
    "helpers.plot_losses_with_std([losses_complete, losses_real],\n",
    "            iterations_indices, optimum_loss=optimum_loss,\n",
    "            labels=[\"Complete\",\"Real\"], title=\"Real power grid network (initial $lr=0.6$)\", \n",
    "            figsize=(4,3))#, save_as_pdf=True, pdf_name=\"real_net_high_lr\")"
   ]
  },
  {
   "cell_type": "markdown",
   "metadata": {},
   "source": [
    "### Compute the losses of complete topology (lr=0.05)"
   ]
  },
  {
   "cell_type": "code",
   "execution_count": 61,
   "metadata": {},
   "outputs": [
    {
     "name": "stdout",
     "output_type": "stream",
     "text": [
      "Decentralized optimization, run number 1 \n",
      "\n",
      "\u001b[32mEpoch      Iteration      Time      Loss      Accuracy      \u001b[0m\n",
      "[1/15]     [50/50]        9s        0.6035    0.7070        \u001b[0m\n",
      "[2/15]     [50/50]        18s       0.5900    0.7103        \u001b[0m\n",
      "[3/15]     [50/50]        28s       0.5848    0.7122        \u001b[0m\n",
      "[4/15]     [50/50]        37s       0.5816    0.7143        \u001b[0m\n",
      "[5/15]     [50/50]        47s       0.5793    0.7153        \u001b[0m\n",
      "[6/15]     [50/50]        57s       0.5775    0.7167        \u001b[0m\n",
      "[7/15]     [50/50]        66s       0.5759    0.7179        \u001b[0m\n",
      "[8/15]     [50/50]        76s       0.5746    0.7186        \u001b[0m\n",
      "[9/15]     [50/50]        86s       0.5735    0.7195        \u001b[0m\n",
      "[10/15]    [50/50]        96s       0.5725    0.7200        \u001b[0m\n",
      "[11/15]    [50/50]        105s      0.5717    0.7205        \u001b[0m\n",
      "[12/15]    [50/50]        116s      0.5709    0.7212        \u001b[0m\n",
      "[13/15]    [50/50]        126s      0.5702    0.7216        \u001b[0m\n",
      "[14/15]    [50/50]        136s      0.5696    0.7222        \u001b[0m\n",
      "[15/15]    [50/50]        146s      0.5690    0.7225        \u001b[0m\n",
      "\n",
      "Final score: 0.7225\n",
      "Decentralized optimization, run number 2 \n",
      "\n",
      "\u001b[32mEpoch      Iteration      Time      Loss      Accuracy      \u001b[0m\n",
      "[1/15]     [50/50]        10s       0.6036    0.7071        \u001b[0m\n",
      "[2/15]     [50/50]        20s       0.5899    0.7110        \u001b[0m\n",
      "[3/15]     [50/50]        30s       0.5846    0.7129        \u001b[0m\n",
      "[4/15]     [50/50]        40s       0.5815    0.7143        \u001b[0m\n",
      "[5/15]     [50/50]        50s       0.5792    0.7156        \u001b[0m\n",
      "[6/15]     [50/50]        60s       0.5774    0.7167        \u001b[0m\n",
      "[7/15]     [50/50]        70s       0.5759    0.7180        \u001b[0m\n",
      "[8/15]     [50/50]        80s       0.5746    0.7188        \u001b[0m\n",
      "[9/15]     [50/50]        91s       0.5735    0.7197        \u001b[0m\n",
      "[10/15]    [50/50]        101s      0.5724    0.7203        \u001b[0m\n",
      "[11/15]    [50/50]        111s      0.5716    0.7209        \u001b[0m\n",
      "[12/15]    [50/50]        121s      0.5708    0.7215        \u001b[0m\n",
      "[13/15]    [50/50]        132s      0.5701    0.7218        \u001b[0m\n",
      "[14/15]    [50/50]        142s      0.5695    0.7225        \u001b[0m\n",
      "[15/15]    [50/50]        152s      0.5690    0.7228        \u001b[0m\n",
      "\n",
      "Final score: 0.7228\n",
      "Decentralized optimization, run number 3 \n",
      "\n",
      "\u001b[32mEpoch      Iteration      Time      Loss      Accuracy      \u001b[0m\n",
      "[1/15]     [50/50]        11s       0.6036    0.7076        \u001b[0m\n",
      "[2/15]     [50/50]        20s       0.5899    0.7105        \u001b[0m\n",
      "[3/15]     [50/50]        30s       0.5847    0.7129        \u001b[0m\n",
      "[4/15]     [50/50]        40s       0.5816    0.7144        \u001b[0m\n",
      "[5/15]     [50/50]        52s       0.5793    0.7152        \u001b[0m\n",
      "[6/15]     [50/50]        62s       0.5774    0.7169        \u001b[0m\n",
      "[7/15]     [50/50]        72s       0.5759    0.7179        \u001b[0m\n",
      "[8/15]     [50/50]        82s       0.5746    0.7186        \u001b[0m\n",
      "[9/15]     [50/50]        92s       0.5735    0.7196        \u001b[0m\n",
      "[10/15]    [50/50]        102s      0.5725    0.7200        \u001b[0m\n",
      "[11/15]    [50/50]        113s      0.5716    0.7207        \u001b[0m\n",
      "[12/15]    [50/50]        122s      0.5708    0.7213        \u001b[0m\n",
      "[13/15]    [50/50]        133s      0.5701    0.7219        \u001b[0m\n",
      "[14/15]    [50/50]        143s      0.5695    0.7224        \u001b[0m\n",
      "[15/15]    [50/50]        153s      0.5690    0.7228        \u001b[0m\n",
      "\n",
      "Final score: 0.7228\n"
     ]
    }
   ],
   "source": [
    "params_complete2 = params.copy()\n",
    "params_complete2['topology'] = 'complete'\n",
    "params_complete2['initial_lr'] = 0.05\n",
    "losses_complete2 = helpers.run_logistic_n_times(A, y, params_complete2, 3)"
   ]
  },
  {
   "cell_type": "markdown",
   "metadata": {},
   "source": [
    "### Compute the losses of real network topology (lr=0.05)"
   ]
  },
  {
   "cell_type": "code",
   "execution_count": 62,
   "metadata": {},
   "outputs": [
    {
     "name": "stdout",
     "output_type": "stream",
     "text": [
      "Decentralized optimization, run number 1 \n",
      "\n",
      "\u001b[32mEpoch      Iteration      Time      Loss      Accuracy      \u001b[0m\n",
      "[1/15]     [50/50]        9s        0.6023    0.7065        \u001b[0m\n",
      "[2/15]     [50/50]        19s       0.5893    0.7100        \u001b[0m\n",
      "[3/15]     [50/50]        29s       0.5861    0.7118        \u001b[0m\n",
      "[4/15]     [50/50]        40s       0.5857    0.7139        \u001b[0m\n",
      "[5/15]     [50/50]        50s       0.5875    0.7147        \u001b[0m\n",
      "[6/15]     [50/50]        60s       0.5895    0.7159        \u001b[0m\n",
      "[7/15]     [50/50]        70s       0.5895    0.7173        \u001b[0m\n",
      "[8/15]     [50/50]        80s       0.5900    0.7183        \u001b[0m\n",
      "[9/15]     [50/50]        90s       0.5898    0.7192        \u001b[0m\n",
      "[10/15]    [50/50]        99s       0.5906    0.7201        \u001b[0m\n",
      "[11/15]    [50/50]        109s      0.5898    0.7206        \u001b[0m\n",
      "[12/15]    [50/50]        119s      0.5904    0.7213        \u001b[0m\n",
      "[13/15]    [50/50]        129s      0.5899    0.7219        \u001b[0m\n",
      "[14/15]    [50/50]        139s      0.5899    0.7225        \u001b[0m\n",
      "[15/15]    [50/50]        148s      0.5886    0.7231        \u001b[0m\n",
      "\n",
      "Final score: 0.7231\n",
      "Decentralized optimization, run number 2 \n",
      "\n",
      "\u001b[32mEpoch      Iteration      Time      Loss      Accuracy      \u001b[0m\n",
      "[1/15]     [50/50]        9s        0.6025    0.7065        \u001b[0m\n",
      "[2/15]     [50/50]        19s       0.5896    0.7104        \u001b[0m\n",
      "[3/15]     [50/50]        28s       0.5866    0.7123        \u001b[0m\n",
      "[4/15]     [50/50]        37s       0.5867    0.7137        \u001b[0m\n",
      "[5/15]     [50/50]        47s       0.5870    0.7153        \u001b[0m\n",
      "[6/15]     [50/50]        57s       0.5878    0.7166        \u001b[0m\n",
      "[7/15]     [50/50]        66s       0.5893    0.7172        \u001b[0m\n",
      "[8/15]     [50/50]        75s       0.5900    0.7182        \u001b[0m\n",
      "[9/15]     [50/50]        85s       0.5901    0.7192        \u001b[0m\n",
      "[10/15]    [50/50]        94s       0.5905    0.7201        \u001b[0m\n",
      "[11/15]    [50/50]        104s      0.5907    0.7209        \u001b[0m\n",
      "[12/15]    [50/50]        113s      0.5900    0.7215        \u001b[0m\n",
      "[13/15]    [50/50]        123s      0.5896    0.7224        \u001b[0m\n",
      "[14/15]    [50/50]        132s      0.5895    0.7229        \u001b[0m\n",
      "[15/15]    [50/50]        142s      0.5889    0.7234        \u001b[0m\n",
      "\n",
      "Final score: 0.7234\n",
      "Decentralized optimization, run number 3 \n",
      "\n",
      "\u001b[32mEpoch      Iteration      Time      Loss      Accuracy      \u001b[0m\n",
      "[1/15]     [50/50]        9s        0.6025    0.7072        \u001b[0m\n",
      "[2/15]     [50/50]        19s       0.5894    0.7100        \u001b[0m\n",
      "[3/15]     [50/50]        29s       0.5860    0.7124        \u001b[0m\n",
      "[4/15]     [50/50]        38s       0.5855    0.7141        \u001b[0m\n",
      "[5/15]     [50/50]        49s       0.5865    0.7150        \u001b[0m\n",
      "[6/15]     [50/50]        58s       0.5882    0.7163        \u001b[0m\n",
      "[7/15]     [50/50]        68s       0.5896    0.7173        \u001b[0m\n",
      "[8/15]     [50/50]        77s       0.5910    0.7181        \u001b[0m\n",
      "[9/15]     [50/50]        87s       0.5910    0.7193        \u001b[0m\n",
      "[10/15]    [50/50]        96s       0.5911    0.7200        \u001b[0m\n",
      "[11/15]    [50/50]        106s      0.5902    0.7210        \u001b[0m\n",
      "[12/15]    [50/50]        116s      0.5895    0.7217        \u001b[0m\n",
      "[13/15]    [50/50]        125s      0.5891    0.7224        \u001b[0m\n",
      "[14/15]    [50/50]        135s      0.5882    0.7232        \u001b[0m\n",
      "[15/15]    [50/50]        145s      0.5880    0.7237        \u001b[0m\n",
      "\n",
      "Final score: 0.7237\n"
     ]
    }
   ],
   "source": [
    "params_real2 = params.copy()\n",
    "params_real2['topology'] = nx.adjacency_matrix(G).toarray()\n",
    "params_real2['initial_lr'] = 0.05\n",
    "losses_real2 = helpers.run_logistic_n_times(A, y, params_real2, 3)"
   ]
  },
  {
   "cell_type": "markdown",
   "metadata": {},
   "source": [
    "### Results for lr=0.05"
   ]
  },
  {
   "cell_type": "code",
   "execution_count": 72,
   "metadata": {},
   "outputs": [
    {
     "data": {
      "image/png": "[encoded data removed]",
      "text/plain": [
       "<Figure size 288x216 with 1 Axes>"
      ]
     },
     "metadata": {
      "needs_background": "light"
     },
     "output_type": "display_data"
    }
   ],
   "source": [
    "iterations_indices = np.arange(0, losses_real2[0].shape[0] * compute_loss_every, \n",
    "                               compute_loss_every)\n",
    "helpers.plot_losses_with_std([losses_complete2, losses_real2],\n",
    "            iterations_indices, optimum_loss=optimum_loss,\n",
    "            labels=[\"Complete\",\"Real\"], title=\"Real power grid network (initial $lr=0.05$)\", \n",
    "            figsize=(4,3))#, save_as_pdf=True, pdf_name=\"real_net_low_lr\")"
   ]
  }
 ],
 "metadata": {
  "kernelspec": {
   "display_name": "Python [default]",
   "language": "python",
   "name": "python3"
  },
  "language_info": {
   "codemirror_mode": {
    "name": "ipython",
    "version": 3
   },
   "file_extension": ".py",
   "mimetype": "text/x-python",
   "name": "python",
   "nbconvert_exporter": "python",
   "pygments_lexer": "ipython3",
   "version": "3.6.6"
  }
 },
 "nbformat": 4,
 "nbformat_minor": 2
}
