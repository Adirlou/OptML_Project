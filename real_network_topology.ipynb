{
 "cells": [
  {
   "cell_type": "code",
   "execution_count": 1,
   "metadata": {},
   "outputs": [],
   "source": [
    "%load_ext autoreload\n",
    "%autoreload 2"
   ]
  },
  {
   "cell_type": "code",
   "execution_count": 5,
   "metadata": {},
   "outputs": [],
   "source": [
    "import argparse\n",
    "import helpers\n",
    "import networkx as nx\n",
    "import numpy as np\n",
    "import os\n",
    "\n",
    "from matplotlib import pyplot as plt\n",
    "from sklearn.metrics import log_loss\n",
    "from networkx.algorithms.distance_measures import diameter\n",
    "from decentralized_SGD_logistic import DecentralizedSGDLogistic\n",
    "from sklearn.linear_model import SGDClassifier"
   ]
  },
  {
   "cell_type": "code",
   "execution_count": 6,
   "metadata": {},
   "outputs": [],
   "source": [
    "def run_logistic(A, y, param, logging=False):\n",
    "    m = DecentralizedSGDLogistic(**param)\n",
    "    list_losses = m.fit(A, y, logging=logging)\n",
    "    if logging:\n",
    "        print()\n",
    "        print('Final score: {0:.4f}'.format(m.score(A, y)))\n",
    "    return list_losses"
   ]
  },
  {
   "cell_type": "markdown",
   "metadata": {},
   "source": [
    "### Load Higgs Boson dataset"
   ]
  },
  {
   "cell_type": "code",
   "execution_count": 7,
   "metadata": {},
   "outputs": [],
   "source": [
    "y, A = helpers.load_data()"
   ]
  },
  {
   "cell_type": "markdown",
   "metadata": {},
   "source": [
    "### Compute the baseline with SGD classifier "
   ]
  },
  {
   "cell_type": "code",
   "execution_count": 8,
   "metadata": {},
   "outputs": [
    {
     "name": "stdout",
     "output_type": "stream",
     "text": [
      "Accuracy: 0.7444\n",
      "Final loss: 0.5063267378689561\n"
     ]
    }
   ],
   "source": [
    "# Fit a SGD\n",
    "clf = SGDClassifier(loss='log', penalty='l2',alpha =1/A.shape[0], tol=1e-4, n_jobs=1, random_state=2)\n",
    "clf.fit(A, y)\n",
    "\n",
    "accuracy = clf.score(A, y)\n",
    "optimum_x = clf.predict_proba(A)[:, 1]\n",
    "\n",
    "# Optimal loss, useful for plots\n",
    "optimum_loss = (-(y.T.dot(np.log(optimum_x)) + (1 - y).T.dot(np.log(1 - optimum_x))) / A.shape[0])\n",
    "\n",
    "print('Accuracy:', accuracy)\n",
    "print('Final loss:', optimum_loss)"
   ]
  },
  {
   "cell_type": "markdown",
   "metadata": {},
   "source": [
    "### Computing with Decentralized SGD"
   ]
  },
  {
   "cell_type": "code",
   "execution_count": 9,
   "metadata": {},
   "outputs": [],
   "source": [
    "reg = 1 / A.shape[0]\n",
    "n_features = A.shape[1]\n",
    "compute_loss_every = 10\n",
    "params_disconnected = dict(num_epoch=15, lr_type='bottou',\n",
    "                           initial_lr=0.05, tau=n_features, regularizer=reg,\n",
    "                           quantization='full', n_machines=2048,\n",
    "                           method='plain', topology='disconnected', estimate='final',\n",
    "                           split_data_random_seed=2, distribute_data=True,\n",
    "                           split_data_strategy='naive', \n",
    "                           compute_loss_every=compute_loss_every, tol=1e-10)"
   ]
  },
  {
   "cell_type": "code",
   "execution_count": 20,
   "metadata": {},
   "outputs": [],
   "source": [
    "reg = 1 / A.shape[0]\n",
    "n_features = A.shape[1]\n",
    "compute_loss_every = 5\n",
    "\n",
    "params = dict(num_epoch=15, lr_type='bottou',\n",
    "                           initial_lr=0.05, regularizer=reg,\n",
    "                           quantization_method='full', n_machines=8100,\n",
    "                           communication_method='plain',\n",
    "                           data_distribution_random_seed=2, random_seed=2,\n",
    "                           data_distribution_strategy='random', \n",
    "                           compute_loss_every=compute_loss_every, tol=1e-10)"
   ]
  },
  {
   "cell_type": "markdown",
   "metadata": {},
   "source": [
    "### Real Social Network Graph"
   ]
  },
  {
   "cell_type": "code",
   "execution_count": 21,
   "metadata": {},
   "outputs": [
    {
     "name": "stdout",
     "output_type": "stream",
     "text": [
      "number of nodes 4941\n",
      "number of edges 6594\n"
     ]
    }
   ],
   "source": [
    "G = nx.read_gml('power.gml', label=None)\n",
    "G = G.to_undirected()\n",
    "\n",
    "print(\"number of nodes \" + str(G.number_of_nodes()))\n",
    "print(\"number of edges \" + str(G.number_of_edges()))"
   ]
  },
  {
   "cell_type": "markdown",
   "metadata": {},
   "source": [
    "#### Compute the losses of complete topology"
   ]
  },
  {
   "cell_type": "code",
   "execution_count": 22,
   "metadata": {},
   "outputs": [
    {
     "name": "stdout",
     "output_type": "stream",
     "text": [
      "\u001b[32mEpoch      Iteration      Time      Loss      Accuracy      \u001b[0m\n",
      "[1/15]     [50/50]        20s       0.6036    0.7071        \u001b[0m\n",
      "[2/15]     [50/50]        40s       0.5899    0.7110        \u001b[0m\n",
      "[3/15]     [50/50]        60s       0.5846    0.7129        \u001b[0m\n",
      "[4/15]     [50/50]        80s       0.5815    0.7143        \u001b[0m\n",
      "[5/15]     [50/50]        100s      0.5792    0.7156        \u001b[0m\n",
      "[6/15]     [50/50]        120s      0.5774    0.7167        \u001b[0m\n",
      "[7/15]     [50/50]        139s      0.5759    0.7180        \u001b[0m\n",
      "[8/15]     [50/50]        161s      0.5746    0.7188        \u001b[0m\n",
      "[9/15]     [50/50]        178s      0.5735    0.7197        \u001b[0m\n",
      "[10/15]    [50/50]        194s      0.5724    0.7203        \u001b[0m\n",
      "[11/15]    [50/50]        210s      0.5716    0.7209        \u001b[0m\n",
      "[12/15]    [50/50]        229s      0.5708    0.7215        \u001b[0m\n",
      "[13/15]    [50/50]        246s      0.5701    0.7218        \u001b[0m\n",
      "[14/15]    [50/50]        264s      0.5695    0.7225        \u001b[0m\n",
      "[15/15]    [50/50]        281s      0.5690    0.7228        \u001b[0m\n",
      "\n",
      "Final score: 0.7228\n"
     ]
    }
   ],
   "source": [
    "params_complete = params.copy()\n",
    "params_complete['topology'] = 'complete'\n",
    "params_complete['n_machines'] = G.number_of_nodes()\n",
    "losses_complete = run_logistic(A, y, params_complete, logging=True)"
   ]
  },
  {
   "cell_type": "markdown",
   "metadata": {},
   "source": [
    "#### Compute the losses of real network topology"
   ]
  },
  {
   "cell_type": "code",
   "execution_count": 23,
   "metadata": {},
   "outputs": [
    {
     "name": "stdout",
     "output_type": "stream",
     "text": [
      "\u001b[32mEpoch      Iteration      Time      Loss      Accuracy      \u001b[0m\n",
      "[1/15]     [50/50]        19s       0.6025    0.7065        \u001b[0m\n",
      "[2/15]     [50/50]        36s       0.5896    0.7104        \u001b[0m\n",
      "[3/15]     [50/50]        54s       0.5866    0.7123        \u001b[0m\n",
      "[4/15]     [50/50]        71s       0.5867    0.7137        \u001b[0m\n",
      "[5/15]     [50/50]        90s       0.5870    0.7153        \u001b[0m\n",
      "[6/15]     [50/50]        108s      0.5878    0.7166        \u001b[0m\n",
      "[7/15]     [50/50]        125s      0.5893    0.7172        \u001b[0m\n",
      "[8/15]     [50/50]        143s      0.5900    0.7182        \u001b[0m\n",
      "[9/15]     [50/50]        162s      0.5901    0.7192        \u001b[0m\n",
      "[10/15]    [50/50]        179s      0.5905    0.7201        \u001b[0m\n",
      "[11/15]    [50/50]        197s      0.5907    0.7209        \u001b[0m\n",
      "[12/15]    [50/50]        215s      0.5900    0.7215        \u001b[0m\n",
      "[13/15]    [50/50]        233s      0.5896    0.7224        \u001b[0m\n",
      "[14/15]    [50/50]        250s      0.5895    0.7229        \u001b[0m\n",
      "[15/15]    [50/50]        268s      0.5889    0.7234        \u001b[0m\n",
      "\n",
      "Final score: 0.7234\n"
     ]
    }
   ],
   "source": [
    "params_real = params.copy()\n",
    "params_real['topology'] = nx.adjacency_matrix(G).toarray()\n",
    "params_real['n_machines'] = G.number_of_nodes()\n",
    "losses_real = run_logistic(A, y, params_real, logging=True)"
   ]
  },
  {
   "cell_type": "markdown",
   "metadata": {},
   "source": [
    "## Plots of results"
   ]
  },
  {
   "cell_type": "code",
   "execution_count": 24,
   "metadata": {},
   "outputs": [
    {
     "data": {
      "image/png": "[encoded data removed]",
      "text/plain": [
       "<Figure size 288x216 with 1 Axes>"
      ]
     },
     "metadata": {
      "needs_background": "light"
     },
     "output_type": "display_data"
    }
   ],
   "source": [
    "iterations_indices = np.arange(0, losses_real.shape[0] * compute_loss_every, \n",
    "                               compute_loss_every)\n",
    "plot_losses(np.stack((losses_complete[:-1], losses_real[:-1])),\n",
    "            iterations_indices[:-1], optimum_loss=optimum_loss,\n",
    "            labels=[\"Complete\",\"Real\"], title=\"Real power grid network\", \n",
    "            figsize=(4,3), save_as_pdf=True, pdf_name=\"real_net\")"
   ]
  }
 ],
 "metadata": {
  "kernelspec": {
   "display_name": "Python 3",
   "language": "python",
   "name": "python3"
  },
  "language_info": {
   "codemirror_mode": {
    "name": "ipython",
    "version": 3
   },
   "file_extension": ".py",
   "mimetype": "text/x-python",
   "name": "python",
   "nbconvert_exporter": "python",
   "pygments_lexer": "ipython3",
   "version": "3.7.6"
  }
 },
 "nbformat": 4,
 "nbformat_minor": 2
}
