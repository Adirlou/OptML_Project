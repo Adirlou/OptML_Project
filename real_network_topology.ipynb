{
 "cells": [
  {
   "cell_type": "code",
   "execution_count": 2,
   "metadata": {},
   "outputs": [],
   "source": [
    "%load_ext autoreload\n",
    "%autoreload 2"
   ]
  },
  {
   "cell_type": "code",
   "execution_count": 3,
   "metadata": {},
   "outputs": [],
   "source": [
    "import argparse\n",
    "import os\n",
    "from matplotlib import pyplot as plt\n",
    "\n",
    "import numpy as np\n",
    "from sklearn.datasets import load_svmlight_file\n",
    "from sklearn.metrics import log_loss\n",
    "from decentralized_SGD_logistic import DecentralizedSGDLogistic\n",
    "from sklearn.linear_model import SGDClassifier\n",
    "from scipy.special import expit as sigmoid\n",
    "\n",
    "from helpers import plot_losses"
   ]
  },
  {
   "cell_type": "code",
   "execution_count": 4,
   "metadata": {},
   "outputs": [],
   "source": [
    "def run_logistic(A, y, param, logging=False):\n",
    "    m = DecentralizedSGDLogistic(**param)\n",
    "    list_losses = m.fit(A, y, logging=logging)\n",
    "    if logging:\n",
    "        print()\n",
    "        print('{0} - score: {1:.4f}'.format(param, m.score(A, y)))\n",
    "    return list_losses"
   ]
  },
  {
   "cell_type": "code",
   "execution_count": 5,
   "metadata": {},
   "outputs": [],
   "source": [
    "def load_csv_data(data_path):\n",
    "    \"\"\"Loads data and returns y (class labels), tX (features) and ids (event ids)\"\"\"\n",
    "    y = np.genfromtxt(data_path, delimiter=\",\", skip_header=1, dtype=str, usecols=1)\n",
    "    x = np.genfromtxt(data_path, delimiter=\",\", skip_header=1)\n",
    "    input_data = x[:, 2:]\n",
    "\n",
    "    # convert class labels from strings to binary (-1,1)\n",
    "    yb = np.ones(len(y))\n",
    "    yb[np.where(y=='b')] = -1\n",
    "\n",
    "    return yb, input_data"
   ]
  },
  {
   "cell_type": "code",
   "execution_count": 6,
   "metadata": {},
   "outputs": [],
   "source": [
    "def clean(input_data, mean=False):\n",
    "\n",
    "    #Replace -999 by most frequent value of column\n",
    "    for i in range(input_data.shape[1]):\n",
    "        current_col = input_data[:, i]\n",
    "\n",
    "        if -999.0 in current_col:\n",
    "            indices_to_change = (current_col == -999.0)\n",
    "            if mean:\n",
    "                curr_mean = np.mean(current_col[~indices_to_change])\n",
    "                current_col[indices_to_change] = curr_mean\n",
    "            else:\n",
    "                (values,counts) = np.unique(current_col[~indices_to_change], return_counts=True)\n",
    "                ind=np.argmax(counts)\n",
    "                current_col[indices_to_change] = values[ind] if len(values) > 0 else 0\n",
    "\n",
    "    return input_data"
   ]
  },
  {
   "cell_type": "code",
   "execution_count": 7,
   "metadata": {},
   "outputs": [],
   "source": [
    "def standardize(x):\n",
    "    \"\"\"Standardize the given data\"\"\"\n",
    "    means = x.mean(0)\n",
    "    stds = x.std(0)\n",
    "    return (x - means)/stds"
   ]
  },
  {
   "cell_type": "markdown",
   "metadata": {},
   "source": [
    "### Load Higgs Boson dataset"
   ]
  },
  {
   "cell_type": "code",
   "execution_count": 8,
   "metadata": {},
   "outputs": [],
   "source": [
    "y, A = load_csv_data('train.csv')\n",
    "A = standardize(clean(A, True))\n",
    "y = 1 *(y > 0.0)"
   ]
  },
  {
   "cell_type": "markdown",
   "metadata": {},
   "source": [
    "### Compute the baseline with SGD classifier "
   ]
  },
  {
   "cell_type": "code",
   "execution_count": 9,
   "metadata": {},
   "outputs": [
    {
     "name": "stdout",
     "output_type": "stream",
     "text": [
      "Accuracy: 0.748436\n",
      "Final loss: 0.507818140197605\n"
     ]
    }
   ],
   "source": [
    "# Fit a SGD\n",
    "clf = SGDClassifier(loss='log', penalty='l2',alpha =1/A.shape[0], tol=1e-4, n_jobs=1)\n",
    "clf.fit(A, y)\n",
    "\n",
    "accuracy = clf.score(A, y)\n",
    "optimum_x = clf.predict_proba(A)[:, 1]\n",
    "\n",
    "# Optimal loss, useful for plots\n",
    "optimum_loss = (-(y.T.dot(np.log(optimum_x)) + (1 - y).T.dot(np.log(1 - optimum_x))) / A.shape[0])\n",
    "\n",
    "print('Accuracy:', accuracy)\n",
    "print('Final loss:', optimum_loss)"
   ]
  },
  {
   "cell_type": "markdown",
   "metadata": {},
   "source": [
    "### Computing with Decentralized SGD"
   ]
  },
  {
   "cell_type": "code",
   "execution_count": 10,
   "metadata": {},
   "outputs": [],
   "source": [
    "reg = 1 / A.shape[0]\n",
    "n_features = A.shape[1]\n",
    "compute_loss_every = 10\n",
    "params_disconnected = dict(num_epoch=15, lr_type='bottou',\n",
    "                           initial_lr=0.05, tau=n_features, regularizer=reg,\n",
    "                           quantization='full', n_machines=2048,\n",
    "                           method='plain', topology='disconnected', estimate='final',\n",
    "                           split_data_random_seed=2, distribute_data=True,\n",
    "                           split_data_strategy='naive', \n",
    "                           compute_loss_every=compute_loss_every, tol=1e-10)"
   ]
  },
  {
   "cell_type": "markdown",
   "metadata": {},
   "source": [
    "### Real Social Network Graph"
   ]
  },
  {
   "cell_type": "code",
   "execution_count": 11,
   "metadata": {},
   "outputs": [],
   "source": [
    "import networkx as nx"
   ]
  },
  {
   "cell_type": "code",
   "execution_count": 12,
   "metadata": {},
   "outputs": [
    {
     "name": "stdout",
     "output_type": "stream",
     "text": [
      "number of nodes 4941\n",
      "number of edges 6594\n"
     ]
    }
   ],
   "source": [
    "G = nx.read_gml('power.gml', label=None)\n",
    "G = G.to_undirected()\n",
    "\n",
    "print(\"number of nodes \" + str(G.number_of_nodes()))\n",
    "print(\"number of edges \" + str(G.number_of_edges()))\n",
    "\n",
    "compute_loss_every_bigger = 10"
   ]
  },
  {
   "cell_type": "code",
   "execution_count": 13,
   "metadata": {},
   "outputs": [
    {
     "name": "stdout",
     "output_type": "stream",
     "text": [
      "length of indices: 4999\n",
      "length of last machine indices: 50\n",
      "\u001b[32mEpoch      Iteration      Time      Loss      Accuracy      \u001b[0m\n",
      "[1/15]     [50/50]        15s       0.6033    0.7072        \u001b[0m\n",
      "[2/15]     [50/50]        33s       0.5900    0.7107        \u001b[0m\n",
      "[3/15]     [50/50]        51s       0.5847    0.7127        \u001b[0m\n",
      "[4/15]     [50/50]        65s       0.5816    0.7140        \u001b[0m\n",
      "[5/15]     [50/50]        80s       0.5793    0.7152        \u001b[0m\n",
      "[6/15]     [50/50]        100s      0.5775    0.7168        \u001b[0m\n",
      "[7/15]     [50/50]        114s      0.5759    0.7179        \u001b[0m\n",
      "[8/15]     [50/50]        130s      0.5746    0.7186        \u001b[0m\n",
      "[9/15]     [50/50]        146s      0.5734    0.7194        \u001b[0m\n",
      "[10/15]    [50/50]        162s      0.5725    0.7201        \u001b[0m\n",
      "[11/15]    [50/50]        178s      0.5716    0.7207        \u001b[0m\n",
      "[12/15]    [50/50]        193s      0.5708    0.7212        \u001b[0m\n",
      "[13/15]    [50/50]        208s      0.5701    0.7217        \u001b[0m\n",
      "[14/15]    [50/50]        224s      0.5695    0.7224        \u001b[0m\n",
      "[15/15]    [50/50]        239s      0.5690    0.7224        \u001b[0m\n",
      "\n",
      "{'num_epoch': 15, 'lr_type': 'bottou', 'initial_lr': 0.05, 'tau': 30, 'regularizer': 4e-06, 'quantization': 'full', 'n_machines': 4941, 'method': 'plain', 'topology': 'complete', 'estimate': 'final', 'split_data_random_seed': 2, 'distribute_data': True, 'split_data_strategy': 'naive', 'compute_loss_every': 10, 'tol': 1e-10} - score: 0.7224\n"
     ]
    }
   ],
   "source": [
    "# Takes time, but works\n",
    "params_complete = params_disconnected.copy()\n",
    "params_complete['topology'] = 'complete'\n",
    "params_complete['n_machines'] = G.number_of_nodes()\n",
    "losses_complete = run_logistic(A, y, params_complete, logging=True)"
   ]
  },
  {
   "cell_type": "code",
   "execution_count": 14,
   "metadata": {},
   "outputs": [
    {
     "name": "stdout",
     "output_type": "stream",
     "text": [
      "length of indices: 4999\n",
      "length of last machine indices: 50\n",
      "\u001b[32mEpoch      Iteration      Time      Loss      Accuracy      \u001b[0m\n",
      "[1/15]     [50/50]        15s       0.6028    0.7068        \u001b[0m\n",
      "[2/15]     [50/50]        30s       0.5896    0.7105        \u001b[0m\n",
      "[3/15]     [50/50]        45s       0.5851    0.7127        \u001b[0m\n",
      "[4/15]     [50/50]        61s       0.5836    0.7138        \u001b[0m\n",
      "[5/15]     [50/50]        76s       0.5832    0.7151        \u001b[0m\n",
      "[6/15]     [50/50]        91s       0.5838    0.7164        \u001b[0m\n",
      "[7/15]     [50/50]        106s      0.5827    0.7179        \u001b[0m\n",
      "[8/15]     [50/50]        121s      0.5822    0.7189        \u001b[0m\n",
      "[9/15]     [50/50]        136s      0.5817    0.7195        \u001b[0m\n",
      "[10/15]    [50/50]        151s      0.5806    0.7205        \u001b[0m\n",
      "[11/15]    [50/50]        166s      0.5798    0.7214        \u001b[0m\n",
      "[12/15]    [50/50]        182s      0.5799    0.7221        \u001b[0m\n",
      "[13/15]    [50/50]        197s      0.5800    0.7226        \u001b[0m\n",
      "[14/15]    [50/50]        213s      0.5790    0.7236        \u001b[0m\n",
      "[15/15]    [50/50]        228s      0.5773    0.7238        \u001b[0m\n",
      "\n",
      "{'num_epoch': 15, 'lr_type': 'bottou', 'initial_lr': 0.05, 'tau': 30, 'regularizer': 4e-06, 'quantization': 'full', 'n_machines': 4941, 'method': 'plain', 'topology': array([[0, 0, 0, ..., 0, 0, 0],\n",
      "       [0, 0, 0, ..., 0, 0, 0],\n",
      "       [0, 0, 0, ..., 0, 0, 0],\n",
      "       ...,\n",
      "       [0, 0, 0, ..., 0, 0, 0],\n",
      "       [0, 0, 0, ..., 0, 0, 1],\n",
      "       [0, 0, 0, ..., 0, 1, 0]], dtype=int32), 'estimate': 'final', 'split_data_random_seed': 2, 'distribute_data': True, 'split_data_strategy': 'naive', 'compute_loss_every': 10, 'tol': 1e-10} - score: 0.7238\n"
     ]
    }
   ],
   "source": [
    "params_real = params_disconnected.copy()\n",
    "params_real['topology'] = nx.adjacency_matrix(G).toarray()\n",
    "params_real['n_machines'] = G.number_of_nodes()\n",
    "losses_real = run_logistic(A, y, params_real, logging=True)"
   ]
  },
  {
   "cell_type": "code",
   "execution_count": 16,
   "metadata": {},
   "outputs": [
    {
     "data": {
      "image/png": "[encoded data removed]",
      "text/plain": [
       "<Figure size 720x360 with 1 Axes>"
      ]
     },
     "metadata": {
      "needs_background": "light"
     },
     "output_type": "display_data"
    }
   ],
   "source": [
    "iterations_indices = np.arange(0, losses_real.shape[0] * compute_loss_every, \n",
    "                               compute_loss_every)\n",
    "plot_losses(np.stack((losses_complete[:-1], losses_real[:-1])),\n",
    "            iterations_indices[:-1], optimum_loss=optimum_loss,\n",
    "            labels=[\"Complete\",\"Real\"], title=\"Real power grid network\", \n",
    "            save_as_pdf=True, pdf_name=\"real_net\")"
   ]
  },
  {
   "cell_type": "code",
   "execution_count": null,
   "metadata": {},
   "outputs": [],
   "source": []
  }
 ],
 "metadata": {
  "kernelspec": {
   "display_name": "Python 3",
   "language": "python",
   "name": "python3"
  },
  "language_info": {
   "codemirror_mode": {
    "name": "ipython",
    "version": 3
   },
   "file_extension": ".py",
   "mimetype": "text/x-python",
   "name": "python",
   "nbconvert_exporter": "python",
   "pygments_lexer": "ipython3",
   "version": "3.7.6"
  }
 },
 "nbformat": 4,
 "nbformat_minor": 2
}
