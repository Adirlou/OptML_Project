{
 "cells": [
  {
   "cell_type": "code",
   "execution_count": 1,
   "metadata": {},
   "outputs": [],
   "source": [
    "%load_ext autoreload\n",
    "%autoreload 2"
   ]
  },
  {
   "cell_type": "code",
   "execution_count": 2,
   "metadata": {},
   "outputs": [],
   "source": [
    "import argparse\n",
    "import os\n",
    "from matplotlib import pyplot as plt\n",
    "\n",
    "import numpy as np\n",
    "from sklearn.datasets import load_svmlight_file\n",
    "from sklearn.metrics import log_loss\n",
    "from decentralized_SGD_logistic import DecentralizedSGDLogistic\n",
    "from sklearn.linear_model import SGDClassifier\n",
    "from scipy.special import expit as sigmoid\n",
    "\n",
    "from helpers import plot_losses"
   ]
  },
  {
   "cell_type": "code",
   "execution_count": 3,
   "metadata": {},
   "outputs": [],
   "source": [
    "def run_logistic(A, y, param, logging=False):\n",
    "    m = DecentralizedSGDLogistic(**param)\n",
    "    list_losses = m.fit(A, y, logging=logging)\n",
    "    if logging:\n",
    "        print()\n",
    "        print('{0} - score: {1:.4f}'.format(param, m.score(A, y)))\n",
    "    return list_losses"
   ]
  },
  {
   "cell_type": "code",
   "execution_count": 4,
   "metadata": {},
   "outputs": [],
   "source": [
    "def load_csv_data(data_path):\n",
    "    \"\"\"Loads data and returns y (class labels), tX (features) and ids (event ids)\"\"\"\n",
    "    y = np.genfromtxt(data_path, delimiter=\",\", skip_header=1, dtype=str, usecols=1)\n",
    "    x = np.genfromtxt(data_path, delimiter=\",\", skip_header=1)\n",
    "    input_data = x[:, 2:]\n",
    "\n",
    "    # convert class labels from strings to binary (-1,1)\n",
    "    yb = np.ones(len(y))\n",
    "    yb[np.where(y=='b')] = -1\n",
    "\n",
    "    return yb, input_data"
   ]
  },
  {
   "cell_type": "code",
   "execution_count": 5,
   "metadata": {},
   "outputs": [],
   "source": [
    "def clean(input_data, mean=False):\n",
    "\n",
    "    #Replace -999 by most frequent value of column\n",
    "    for i in range(input_data.shape[1]):\n",
    "        current_col = input_data[:, i]\n",
    "\n",
    "        if -999.0 in current_col:\n",
    "            indices_to_change = (current_col == -999.0)\n",
    "            if mean:\n",
    "                curr_mean = np.mean(current_col[~indices_to_change])\n",
    "                current_col[indices_to_change] = curr_mean\n",
    "            else:\n",
    "                (values,counts) = np.unique(current_col[~indices_to_change], return_counts=True)\n",
    "                ind=np.argmax(counts)\n",
    "                current_col[indices_to_change] = values[ind] if len(values) > 0 else 0\n",
    "\n",
    "    return input_data"
   ]
  },
  {
   "cell_type": "code",
   "execution_count": 6,
   "metadata": {},
   "outputs": [],
   "source": [
    "def standardize(x):\n",
    "    \"\"\"Standardize the given data\"\"\"\n",
    "    means = x.mean(0)\n",
    "    stds = x.std(0)\n",
    "    return (x - means)/stds"
   ]
  },
  {
   "cell_type": "markdown",
   "metadata": {},
   "source": [
    "### Load Higgs Boson dataset"
   ]
  },
  {
   "cell_type": "code",
   "execution_count": 7,
   "metadata": {},
   "outputs": [],
   "source": [
    "y, A = load_csv_data('train.csv')\n",
    "A = standardize(clean(A, True))\n",
    "y = 1 *(y > 0.0)"
   ]
  },
  {
   "cell_type": "markdown",
   "metadata": {},
   "source": [
    "### Compute the baseline with SGD classifier "
   ]
  },
  {
   "cell_type": "code",
   "execution_count": 8,
   "metadata": {},
   "outputs": [
    {
     "name": "stdout",
     "output_type": "stream",
     "text": [
      "Accuracy: 0.745272\n",
      "Final loss: 0.5070354539209662\n"
     ]
    }
   ],
   "source": [
    "# Fit a SGD\n",
    "clf = SGDClassifier(loss='log', penalty='l2',alpha =1/A.shape[0], tol=1e-4, n_jobs=1)\n",
    "clf.fit(A, y)\n",
    "\n",
    "accuracy = clf.score(A, y)\n",
    "optimum_x = clf.predict_proba(A)[:, 1]\n",
    "\n",
    "# Optimal loss, useful for plots\n",
    "optimum_loss = (-(y.T.dot(np.log(optimum_x)) + (1 - y).T.dot(np.log(1 - optimum_x))) / A.shape[0])\n",
    "\n",
    "print('Accuracy:', accuracy)\n",
    "print('Final loss:', optimum_loss)"
   ]
  },
  {
   "cell_type": "markdown",
   "metadata": {},
   "source": [
    "### Computing with Decentralized SGD"
   ]
  },
  {
   "cell_type": "code",
   "execution_count": 9,
   "metadata": {},
   "outputs": [
    {
     "name": "stdout",
     "output_type": "stream",
     "text": [
      "length of indices: 512\n",
      "length of last machine indices: 488\n",
      "\u001b[32mEpoch      Iteration      Time      Loss      Accuracy      \u001b[0m\n",
      "[1/25]     [488/488]      13s       0.6128    0.7097        \u001b[0m\n",
      "[2/25]     [488/488]      26s       0.5819    0.7211        \u001b[0m\n",
      "[3/25]     [488/488]      39s       0.5762    0.7250        \u001b[0m\n",
      "[4/25]     [488/488]      51s       0.5729    0.7272        \u001b[0m\n",
      "[5/25]     [488/488]      64s       0.5732    0.7278        \u001b[0m\n",
      "[6/25]     [488/488]      76s       0.5728    0.7290        \u001b[0m\n",
      "[7/25]     [488/488]      89s       0.5725    0.7299        \u001b[0m\n",
      "[8/25]     [488/488]      101s      0.5725    0.7290        \u001b[0m\n",
      "[9/25]     [488/488]      115s      0.5718    0.7295        \u001b[0m\n",
      "[10/25]    [488/488]      129s      0.5721    0.7298        \u001b[0m\n",
      "[11/25]    [488/488]      143s      0.5727    0.7303        \u001b[0m\n",
      "[12/25]    [488/488]      157s      0.5730    0.7308        \u001b[0m\n",
      "[13/25]    [488/488]      171s      0.5730    0.7303        \u001b[0m\n",
      "[14/25]    [488/488]      185s      0.5729    0.7307        \u001b[0m\n",
      "[15/25]    [488/488]      199s      0.5735    0.7304        \u001b[0m\n",
      "[16/25]    [488/488]      212s      0.5737    0.7306        \u001b[0m\n",
      "[17/25]    [488/488]      226s      0.5743    0.7307        \u001b[0m\n",
      "[18/25]    [488/488]      240s      0.5745    0.7309        \u001b[0m\n",
      "[19/25]    [488/488]      254s      0.5737    0.7310        \u001b[0m\n",
      "[20/25]    [488/488]      267s      0.5753    0.7313        \u001b[0m\n",
      "[21/25]    [488/488]      282s      0.5741    0.7309        \u001b[0m\n",
      "[22/25]    [488/488]      296s      0.5746    0.7311        \u001b[0m\n",
      "[23/25]    [488/488]      309s      0.5744    0.7301        \u001b[0m\n",
      "[24/25]    [488/488]      323s      0.5753    0.7310        \u001b[0m\n",
      "[25/25]    [488/488]      337s      0.5757    0.7314        \u001b[0m\n",
      "\n",
      "{'num_epoch': 25, 'lr_type': 'bottou', 'initial_lr': 0.05, 'tau': 30, 'regularizer': 4e-06, 'quantization': 'full', 'n_machines': 512, 'method': 'plain', 'topology': 'disconnected', 'estimate': 'final', 'split_data_random_seed': 2, 'distribute_data': True, 'split_data_strategy': 'naive', 'compute_loss_every': 30, 'tol': 1e-10} - score: 0.7314\n"
     ]
    }
   ],
   "source": [
    "reg = 1 / A.shape[0]\n",
    "n_features = A.shape[1]\n",
    "compute_loss_every = 30\n",
    "params_disconnected = dict(num_epoch=25, lr_type='bottou',\n",
    "                           initial_lr=0.05, tau=n_features, regularizer=reg,\n",
    "                           quantization='full', n_machines=512,\n",
    "                           method='plain', topology='disconnected', estimate='final',\n",
    "                           split_data_random_seed=2, distribute_data=True,\n",
    "                           split_data_strategy='naive', \n",
    "                           compute_loss_every=compute_loss_every, tol=1e-10)\n",
    "\n",
    "losses_disconnected = run_logistic(A, y, params_disconnected, logging=True)"
   ]
  },
  {
   "cell_type": "code",
   "execution_count": 10,
   "metadata": {},
   "outputs": [
    {
     "name": "stdout",
     "output_type": "stream",
     "text": [
      "length of indices: 512\n",
      "length of last machine indices: 488\n",
      "\u001b[32mEpoch      Iteration      Time      Loss      Accuracy      \u001b[0m\n",
      "[1/25]     [488/488]      14s       0.5991    0.7026        \u001b[0m\n",
      "[2/25]     [488/488]      28s       0.5742    0.7177        \u001b[0m\n",
      "[3/25]     [488/488]      42s       0.5684    0.7216        \u001b[0m\n",
      "[4/25]     [488/488]      55s       0.5663    0.7223        \u001b[0m\n",
      "[5/25]     [488/488]      69s       0.5650    0.7245        \u001b[0m\n",
      "[6/25]     [488/488]      83s       0.5643    0.7245        \u001b[0m\n",
      "[7/25]     [488/488]      96s       0.5640    0.7251        \u001b[0m\n",
      "[8/25]     [488/488]      110s      0.5637    0.7254        \u001b[0m\n",
      "[9/25]     [488/488]      124s      0.5635    0.7252        \u001b[0m\n",
      "[10/25]    [488/488]      137s      0.5636    0.7265        \u001b[0m\n",
      "[11/25]    [488/488]      151s      0.5633    0.7255        \u001b[0m\n",
      "[12/25]    [488/488]      165s      0.5632    0.7262        \u001b[0m\n",
      "[13/25]    [488/488]      178s      0.5631    0.7260        \u001b[0m\n",
      "[14/25]    [488/488]      192s      0.5631    0.7263        \u001b[0m\n",
      "[15/25]    [488/488]      205s      0.5629    0.7257        \u001b[0m\n",
      "[16/25]    [488/488]      219s      0.5629    0.7260        \u001b[0m\n",
      "[17/25]    [488/488]      233s      0.5631    0.7261        \u001b[0m\n",
      "[18/25]    [488/488]      247s      0.5628    0.7261        \u001b[0m\n",
      "[19/25]    [488/488]      261s      0.5629    0.7259        \u001b[0m\n",
      "[20/25]    [488/488]      275s      0.5627    0.7255        \u001b[0m\n",
      "[21/25]    [488/488]      289s      0.5628    0.7256        \u001b[0m\n",
      "[22/25]    [488/488]      303s      0.5627    0.7259        \u001b[0m\n",
      "[23/25]    [488/488]      316s      0.5626    0.7254        \u001b[0m\n",
      "[24/25]    [488/488]      330s      0.5627    0.7259        \u001b[0m\n",
      "[25/25]    [488/488]      344s      0.5627    0.7256        \u001b[0m\n",
      "\n",
      "{'num_epoch': 25, 'lr_type': 'bottou', 'initial_lr': 0.05, 'tau': 30, 'regularizer': 4e-06, 'quantization': 'full', 'n_machines': 512, 'method': 'plain', 'topology': 'complete', 'estimate': 'final', 'split_data_random_seed': 2, 'distribute_data': True, 'split_data_strategy': 'naive', 'compute_loss_every': 30, 'tol': 1e-10} - score: 0.7256\n"
     ]
    }
   ],
   "source": [
    "params_complete = params_disconnected.copy()\n",
    "params_complete['topology'] = 'complete'\n",
    "losses_complete = run_logistic(A, y, params_complete, logging=True)"
   ]
  },
  {
   "cell_type": "markdown",
   "metadata": {},
   "source": [
    "### Barbell and Path topologies"
   ]
  },
  {
   "cell_type": "code",
   "execution_count": 11,
   "metadata": {},
   "outputs": [
    {
     "name": "stdout",
     "output_type": "stream",
     "text": [
      "length of indices: 512\n",
      "length of last machine indices: 488\n",
      "\u001b[32mEpoch      Iteration      Time      Loss      Accuracy      \u001b[0m\n",
      "[1/25]     [488/488]      14s       0.6578    0.6819        \u001b[0m\n",
      "[2/25]     [488/488]      28s       0.5889    0.7074        \u001b[0m\n",
      "[3/25]     [488/488]      42s       0.5738    0.7167        \u001b[0m\n",
      "[4/25]     [488/488]      56s       0.5686    0.7209        \u001b[0m\n",
      "[5/25]     [488/488]      70s       0.5665    0.7229        \u001b[0m\n",
      "[6/25]     [488/488]      83s       0.5652    0.7237        \u001b[0m\n",
      "[7/25]     [488/488]      97s       0.5645    0.7243        \u001b[0m\n",
      "[8/25]     [488/488]      111s      0.5641    0.7241        \u001b[0m\n",
      "[9/25]     [488/488]      124s      0.5637    0.7244        \u001b[0m\n",
      "[10/25]    [488/488]      138s      0.5635    0.7250        \u001b[0m\n",
      "[11/25]    [488/488]      152s      0.5633    0.7251        \u001b[0m\n",
      "[12/25]    [488/488]      165s      0.5633    0.7258        \u001b[0m\n",
      "[13/25]    [488/488]      179s      0.5632    0.7255        \u001b[0m\n",
      "[14/25]    [488/488]      193s      0.5630    0.7243        \u001b[0m\n",
      "[15/25]    [488/488]      206s      0.5630    0.7260        \u001b[0m\n",
      "[16/25]    [488/488]      220s      0.5628    0.7252        \u001b[0m\n",
      "[17/25]    [488/488]      234s      0.5628    0.7256        \u001b[0m\n",
      "[18/25]    [488/488]      248s      0.5629    0.7265        \u001b[0m\n",
      "[19/25]    [488/488]      261s      0.5629    0.7256        \u001b[0m\n",
      "[20/25]    [488/488]      275s      0.5627    0.7257        \u001b[0m\n",
      "[21/25]    [488/488]      289s      0.5626    0.7256        \u001b[0m\n",
      "[22/25]    [488/488]      302s      0.5627    0.7259        \u001b[0m\n",
      "[23/25]    [488/488]      316s      0.5626    0.7259        \u001b[0m\n",
      "[24/25]    [488/488]      330s      0.5626    0.7259        \u001b[0m\n",
      "[25/25]    [488/488]      344s      0.5627    0.7259        \u001b[0m\n",
      "\n",
      "{'num_epoch': 25, 'lr_type': 'bottou', 'initial_lr': 0.05, 'tau': 30, 'regularizer': 4e-06, 'quantization': 'full', 'n_machines': 512, 'method': 'plain', 'topology': 'barbell', 'estimate': 'final', 'split_data_random_seed': 2, 'distribute_data': True, 'split_data_strategy': 'naive', 'compute_loss_every': 30, 'tol': 1e-10} - score: 0.7259\n"
     ]
    }
   ],
   "source": [
    "params_barbell = params_disconnected.copy()\n",
    "params_barbell['topology'] = 'barbell'\n",
    "losses_barbell = run_logistic(A, y, params_barbell, logging=True)"
   ]
  },
  {
   "cell_type": "code",
   "execution_count": 12,
   "metadata": {},
   "outputs": [
    {
     "name": "stdout",
     "output_type": "stream",
     "text": [
      "length of indices: 512\n",
      "length of last machine indices: 488\n",
      "\u001b[32mEpoch      Iteration      Time      Loss      Accuracy      \u001b[0m\n",
      "[1/25]     [488/488]      14s       0.5993    0.7059        \u001b[0m\n",
      "[2/25]     [488/488]      28s       0.5773    0.7135        \u001b[0m\n",
      "[3/25]     [488/488]      42s       0.5701    0.7183        \u001b[0m\n",
      "[4/25]     [488/488]      56s       0.5671    0.7199        \u001b[0m\n",
      "[5/25]     [488/488]      69s       0.5654    0.7227        \u001b[0m\n",
      "[6/25]     [488/488]      83s       0.5646    0.7241        \u001b[0m\n",
      "[7/25]     [488/488]      97s       0.5644    0.7248        \u001b[0m\n",
      "[8/25]     [488/488]      110s      0.5639    0.7245        \u001b[0m\n",
      "[9/25]     [488/488]      124s      0.5635    0.7252        \u001b[0m\n",
      "[10/25]    [488/488]      139s      0.5632    0.7255        \u001b[0m\n",
      "[11/25]    [488/488]      153s      0.5631    0.7254        \u001b[0m\n",
      "[12/25]    [488/488]      166s      0.5631    0.7254        \u001b[0m\n",
      "[13/25]    [488/488]      180s      0.5631    0.7255        \u001b[0m\n",
      "[14/25]    [488/488]      194s      0.5630    0.7254        \u001b[0m\n",
      "[15/25]    [488/488]      207s      0.5629    0.7250        \u001b[0m\n",
      "[16/25]    [488/488]      221s      0.5628    0.7262        \u001b[0m\n",
      "[17/25]    [488/488]      235s      0.5627    0.7257        \u001b[0m\n",
      "[18/25]    [488/488]      248s      0.5627    0.7255        \u001b[0m\n",
      "[19/25]    [488/488]      262s      0.5628    0.7261        \u001b[0m\n",
      "[20/25]    [488/488]      276s      0.5627    0.7260        \u001b[0m\n",
      "[21/25]    [488/488]      290s      0.5628    0.7253        \u001b[0m\n",
      "[22/25]    [488/488]      304s      0.5627    0.7265        \u001b[0m\n",
      "[23/25]    [488/488]      317s      0.5626    0.7262        \u001b[0m\n",
      "[24/25]    [488/488]      331s      0.5626    0.7261        \u001b[0m\n",
      "[25/25]    [488/488]      345s      0.5627    0.7270        \u001b[0m\n",
      "\n",
      "{'num_epoch': 25, 'lr_type': 'bottou', 'initial_lr': 0.05, 'tau': 30, 'regularizer': 4e-06, 'quantization': 'full', 'n_machines': 512, 'method': 'plain', 'topology': 'path', 'estimate': 'final', 'split_data_random_seed': 2, 'distribute_data': True, 'split_data_strategy': 'naive', 'compute_loss_every': 30, 'tol': 1e-10} - score: 0.7270\n"
     ]
    }
   ],
   "source": [
    "params_path = params_disconnected.copy()\n",
    "params_path['topology'] = 'path'\n",
    "losses_path = run_logistic(A, y, params_path, logging=True)"
   ]
  },
  {
   "cell_type": "code",
   "execution_count": 13,
   "metadata": {},
   "outputs": [
    {
     "data": {
      "image/png": "[encoded data removed]",
      "text/plain": [
       "<Figure size 720x360 with 1 Axes>"
      ]
     },
     "metadata": {
      "needs_background": "light"
     },
     "output_type": "display_data"
    }
   ],
   "source": [
    "iterations_indices = np.arange(0, losses_complete.shape[0] * compute_loss_every, \n",
    "                               compute_loss_every)\n",
    "plot_losses(np.stack((losses_complete, losses_barbell, losses_path)),\n",
    "            iterations_indices, optimum_loss=optimum_loss, \n",
    "            labels=[\"Complete\",\"Barbell\", \"Path\"], title=\"Different topologies\")"
   ]
  },
  {
   "cell_type": "markdown",
   "metadata": {},
   "source": [
    "### Real Social Network Graph"
   ]
  },
  {
   "cell_type": "code",
   "execution_count": 14,
   "metadata": {},
   "outputs": [],
   "source": [
    "import networkx as nx"
   ]
  },
  {
   "cell_type": "code",
   "execution_count": 15,
   "metadata": {},
   "outputs": [
    {
     "name": "stdout",
     "output_type": "stream",
     "text": [
      "number of nodes 4941\n",
      "number of edges 6595\n"
     ]
    }
   ],
   "source": [
    "G = nx.read_gml('power.gml', label=None)\n",
    "G = G.to_undirected()\n",
    "G.add_edge(0,0)\n",
    "\n",
    "print(\"number of nodes \" + str(G.number_of_nodes()))\n",
    "print(\"number of edges \" + str(G.number_of_edges()))\n",
    "\n",
    "compute_loss_every_bigger = 10"
   ]
  },
  {
   "cell_type": "code",
   "execution_count": 16,
   "metadata": {},
   "outputs": [
    {
     "name": "stdout",
     "output_type": "stream",
     "text": [
      "length of indices: 4999\n",
      "length of last machine indices: 50\n",
      "\u001b[32mEpoch      Iteration      Time      Loss      Accuracy      \u001b[0m\n",
      "[1/25]     [50/50]        15s       1.1853    0.5800        \u001b[0m\n",
      "[2/25]     [50/50]        30s       0.9744    0.6250        \u001b[0m\n",
      "[3/25]     [50/50]        46s       0.8508    0.6564        \u001b[0m\n",
      "[4/25]     [50/50]        61s       0.7696    0.6780        \u001b[0m\n",
      "[5/25]     [50/50]        76s       0.7136    0.6937        \u001b[0m\n",
      "[6/25]     [50/50]        92s       0.6758    0.7038        \u001b[0m\n",
      "[7/25]     [50/50]        107s      0.6496    0.7114        \u001b[0m\n",
      "[8/25]     [50/50]        122s      0.6316    0.7165        \u001b[0m\n",
      "[9/25]     [50/50]        137s      0.6193    0.7202        \u001b[0m\n",
      "[10/25]    [50/50]        152s      0.6109    0.7232        \u001b[0m\n",
      "[11/25]    [50/50]        168s      0.6045    0.7251        \u001b[0m\n",
      "[12/25]    [50/50]        183s      0.5998    0.7267        \u001b[0m\n",
      "[13/25]    [50/50]        198s      0.5963    0.7276        \u001b[0m\n",
      "[14/25]    [50/50]        213s      0.5940    0.7283        \u001b[0m\n",
      "[15/25]    [50/50]        228s      0.5916    0.7286        \u001b[0m\n",
      "[16/25]    [50/50]        243s      0.5906    0.7287        \u001b[0m\n",
      "[17/25]    [50/50]        259s      0.5894    0.7292        \u001b[0m\n",
      "[18/25]    [50/50]        274s      0.5885    0.7293        \u001b[0m\n",
      "[19/25]    [50/50]        289s      0.5873    0.7295        \u001b[0m\n",
      "[20/25]    [50/50]        304s      0.5860    0.7298        \u001b[0m\n",
      "[21/25]    [50/50]        320s      0.5857    0.7300        \u001b[0m\n",
      "[22/25]    [50/50]        335s      0.5851    0.7302        \u001b[0m\n",
      "[23/25]    [50/50]        350s      0.5844    0.7304        \u001b[0m\n",
      "[24/25]    [50/50]        365s      0.5834    0.7305        \u001b[0m\n",
      "[25/25]    [50/50]        380s      0.5831    0.7305        \u001b[0m\n",
      "\n",
      "{'num_epoch': 25, 'lr_type': 'bottou', 'initial_lr': 0.05, 'tau': 30, 'regularizer': 4e-06, 'quantization': 'full', 'n_machines': 4941, 'method': 'plain', 'topology': array([[1, 0, 0, ..., 0, 0, 0],\n",
      "       [0, 0, 0, ..., 0, 0, 0],\n",
      "       [0, 0, 0, ..., 0, 0, 0],\n",
      "       ...,\n",
      "       [0, 0, 0, ..., 0, 0, 0],\n",
      "       [0, 0, 0, ..., 0, 0, 1],\n",
      "       [0, 0, 0, ..., 0, 1, 0]], dtype=int32), 'estimate': 'final', 'split_data_random_seed': 2, 'distribute_data': True, 'split_data_strategy': 'naive', 'compute_loss_every': 10, 'tol': 1e-10} - score: 0.7305\n"
     ]
    }
   ],
   "source": [
    "params_real = params_disconnected.copy()\n",
    "params_real['topology'] = nx.adjacency_matrix(G).toarray()\n",
    "params_real['compute_loss_every'] = compute_loss_every_bigger\n",
    "params_real['n_machines'] = G.number_of_nodes()\n",
    "losses_real = run_logistic(A, y, params_real, logging=True)"
   ]
  },
  {
   "cell_type": "code",
   "execution_count": 17,
   "metadata": {},
   "outputs": [
    {
     "name": "stdout",
     "output_type": "stream",
     "text": [
      "length of indices: 4999\n",
      "length of last machine indices: 50\n",
      "\u001b[32mEpoch      Iteration      Time      Loss      Accuracy      \u001b[0m\n",
      "[1/25]     [50/50]        15s       1.9625    0.4900        \u001b[0m\n",
      "[2/25]     [50/50]        31s       1.4275    0.5440        \u001b[0m\n",
      "[3/25]     [50/50]        46s       1.1530    0.5862        \u001b[0m\n",
      "[4/25]     [50/50]        61s       1.0003    0.6160        \u001b[0m\n",
      "[5/25]     [50/50]        76s       0.9047    0.6358        \u001b[0m\n",
      "[6/25]     [50/50]        91s       0.8373    0.6489        \u001b[0m\n",
      "[7/25]     [50/50]        107s      0.7861    0.6590        \u001b[0m\n",
      "[8/25]     [50/50]        122s      0.7460    0.6670        \u001b[0m\n",
      "[9/25]     [50/50]        138s      0.7142    0.6742        \u001b[0m\n",
      "[10/25]    [50/50]        153s      0.6889    0.6797        \u001b[0m\n",
      "[11/25]    [50/50]        168s      0.6687    0.6846        \u001b[0m\n",
      "[12/25]    [50/50]        183s      0.6529    0.6889        \u001b[0m\n",
      "[13/25]    [50/50]        199s      0.6401    0.6931        \u001b[0m\n",
      "[14/25]    [50/50]        214s      0.6297    0.6965        \u001b[0m\n",
      "[15/25]    [50/50]        229s      0.6215    0.6999        \u001b[0m\n",
      "[16/25]    [50/50]        244s      0.6146    0.7027        \u001b[0m\n",
      "[17/25]    [50/50]        260s      0.6090    0.7055        \u001b[0m\n",
      "[18/25]    [50/50]        275s      0.6041    0.7071        \u001b[0m\n",
      "[19/25]    [50/50]        290s      0.6000    0.7089        \u001b[0m\n",
      "[20/25]    [50/50]        305s      0.5963    0.7104        \u001b[0m\n",
      "[21/25]    [50/50]        320s      0.5932    0.7117        \u001b[0m\n",
      "[22/25]    [50/50]        336s      0.5904    0.7135        \u001b[0m\n",
      "[23/25]    [50/50]        351s      0.5881    0.7151        \u001b[0m\n",
      "[24/25]    [50/50]        366s      0.5859    0.7163        \u001b[0m\n",
      "[25/25]    [50/50]        381s      0.5840    0.7175        \u001b[0m\n",
      "\n",
      "{'num_epoch': 25, 'lr_type': 'bottou', 'initial_lr': 0.05, 'tau': 30, 'regularizer': 4e-06, 'quantization': 'full', 'n_machines': 4941, 'method': 'plain', 'topology': 'complete', 'estimate': 'final', 'split_data_random_seed': 2, 'distribute_data': True, 'split_data_strategy': 'naive', 'compute_loss_every': 10, 'tol': 1e-10} - score: 0.7175\n"
     ]
    }
   ],
   "source": [
    "# Takes time, but works\n",
    "params_complete_bigger = params_disconnected.copy()\n",
    "params_complete_bigger['topology'] = 'complete'\n",
    "params_complete_bigger['compute_loss_every'] = compute_loss_every_bigger\n",
    "params_complete_bigger['n_machines'] = G.number_of_nodes()\n",
    "losses_complete_bigger = run_logistic(A, y, params_complete_bigger, logging=True)"
   ]
  },
  {
   "cell_type": "code",
   "execution_count": 20,
   "metadata": {},
   "outputs": [
    {
     "data": {
      "image/png": "[encoded data removed]",
      "text/plain": [
       "<Figure size 720x360 with 1 Axes>"
      ]
     },
     "metadata": {
      "needs_background": "light"
     },
     "output_type": "display_data"
    }
   ],
   "source": [
    "iterations_indices = np.arange(0, losses_real.shape[0] * compute_loss_every, \n",
    "                               compute_loss_every)\n",
    "plot_losses(np.stack((losses_complete_bigger, losses_real)),\n",
    "            iterations_indices, optimum_loss=optimum_loss, \n",
    "            labels=[\"Complete\",\"Real\"], title=\"Real power grid network\")"
   ]
  },
  {
   "cell_type": "code",
   "execution_count": null,
   "metadata": {},
   "outputs": [],
   "source": []
  }
 ],
 "metadata": {
  "kernelspec": {
   "display_name": "Python 3",
   "language": "python",
   "name": "python3"
  },
  "language_info": {
   "codemirror_mode": {
    "name": "ipython",
    "version": 3
   },
   "file_extension": ".py",
   "mimetype": "text/x-python",
   "name": "python",
   "nbconvert_exporter": "python",
   "pygments_lexer": "ipython3",
   "version": "3.7.6"
  }
 },
 "nbformat": 4,
 "nbformat_minor": 2
}
