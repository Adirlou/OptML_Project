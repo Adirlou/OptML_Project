{
 "cells": [
  {
   "cell_type": "code",
   "execution_count": 43,
   "metadata": {},
   "outputs": [
    {
     "name": "stdout",
     "output_type": "stream",
     "text": [
      "The autoreload extension is already loaded. To reload it, use:\n",
      "  %reload_ext autoreload\n"
     ]
    }
   ],
   "source": [
    "%load_ext autoreload\n",
    "%autoreload 2"
   ]
  },
  {
   "cell_type": "code",
   "execution_count": 44,
   "metadata": {},
   "outputs": [],
   "source": [
    "import argparse\n",
    "import helpers\n",
    "import networkx as nx\n",
    "import numpy as np\n",
    "import os\n",
    "\n",
    "from matplotlib import pyplot as plt\n",
    "from sklearn.metrics import log_loss\n",
    "from networkx.algorithms.distance_measures import diameter\n",
    "from decentralized_SGD_logistic import DecentralizedSGDLogistic\n",
    "from sklearn.linear_model import SGDClassifier"
   ]
  },
  {
   "cell_type": "code",
   "execution_count": 45,
   "metadata": {},
   "outputs": [],
   "source": [
    "def run_logistic(A, y, param, logging=False):\n",
    "    m = DecentralizedSGDLogistic(**param)\n",
    "    list_losses = m.fit(A, y, logging=logging)\n",
    "    if logging:\n",
    "        print()\n",
    "        print('Final score: {0:.4f}'.format(m.score(A, y)))\n",
    "    return list_losses"
   ]
  },
  {
   "cell_type": "markdown",
   "metadata": {},
   "source": [
    "## Load Higgs Boson dataset"
   ]
  },
  {
   "cell_type": "code",
   "execution_count": 46,
   "metadata": {},
   "outputs": [],
   "source": [
    "y, A = helpers.load_data()"
   ]
  },
  {
   "cell_type": "markdown",
   "metadata": {},
   "source": [
    "## Compute the baseline with SGD classifier "
   ]
  },
  {
   "cell_type": "code",
   "execution_count": 47,
   "metadata": {},
   "outputs": [
    {
     "name": "stdout",
     "output_type": "stream",
     "text": [
      "Accuracy: 0.7444\n",
      "Final loss: 0.5063267378689544\n"
     ]
    }
   ],
   "source": [
    "# Fit a SGD\n",
    "clf = SGDClassifier(loss='log', penalty='l2',alpha =1/A.shape[0], tol=1e-4, n_jobs=1, random_state=2)\n",
    "clf.fit(A, y)\n",
    "\n",
    "accuracy = clf.score(A, y)\n",
    "optimum_x = clf.predict_proba(A)[:, 1]\n",
    "\n",
    "# Optimal loss, useful for plots\n",
    "optimum_loss = (-(y.T.dot(np.log(optimum_x)) + (1 - y).T.dot(np.log(1 - optimum_x))) / A.shape[0])\n",
    "\n",
    "print('Accuracy:', accuracy)\n",
    "print('Final loss:', optimum_loss)"
   ]
  },
  {
   "cell_type": "markdown",
   "metadata": {},
   "source": [
    "## Computing with Decentralized SGD"
   ]
  },
  {
   "cell_type": "code",
   "execution_count": 54,
   "metadata": {},
   "outputs": [],
   "source": [
    "reg = 1 / A.shape[0]\n",
    "n_features = A.shape[1]\n",
    "compute_loss_every = 5\n",
    "\n",
    "params = dict(num_epoch=5, lr_type='bottou',\n",
    "                           initial_lr=0.4, regularizer=reg,\n",
    "                           quantization_method='full', n_machines=8100,\n",
    "                           communication_method='plain',\n",
    "                           data_distribution_random_seed=2, random_seed=2,\n",
    "                           data_distribution_strategy='random', \n",
    "                           compute_loss_every=compute_loss_every, tol=1e-10)"
   ]
  },
  {
   "cell_type": "markdown",
   "metadata": {},
   "source": [
    "### Complete graph"
   ]
  },
  {
   "cell_type": "code",
   "execution_count": 49,
   "metadata": {},
   "outputs": [
    {
     "name": "stdout",
     "output_type": "stream",
     "text": [
      "\u001b[32mEpoch      Iteration      Time      Loss      Accuracy      \u001b[0m\n",
      "[1/5]      [30/30]        10s       0.5808    0.7167        \u001b[0m\n",
      "[2/5]      [30/30]        21s       0.5753    0.7210        \u001b[0m\n",
      "[3/5]      [30/30]        33s       0.5722    0.7241        \u001b[0m\n",
      "[4/5]      [30/30]        44s       0.5700    0.7252        \u001b[0m\n",
      "[5/5]      [30/30]        56s       0.5690    0.7260        \u001b[0m\n",
      "\n",
      "Final score: 0.7260\n",
      "\u001b[32mEpoch      Iteration      Time      Loss      Accuracy      \u001b[0m\n",
      "[1/5]      [30/30]        13s       0.5990    0.7087        \u001b[0m\n",
      "[2/5]      [30/30]        26s       0.5872    0.7119        \u001b[0m\n",
      "[3/5]      [30/30]        39s       0.5825    0.7140        \u001b[0m\n",
      "[4/5]      [30/30]        50s       0.5796    0.7157        \u001b[0m\n",
      "[5/5]      [30/30]        62s       0.5774    0.7171        \u001b[0m\n",
      "\n",
      "Final score: 0.7171\n"
     ]
    }
   ],
   "source": [
    "params_complete = params.copy()\n",
    "params_complete['topology'] = 'complete'\n",
    "losses_complete = run_logistic(A, y, params_complete, logging=True)\n",
    "\n",
    "params_complete['initial_lr'] = 0.1\n",
    "losses_complete_bis = run_logistic(A, y, params_complete, logging=True)"
   ]
  },
  {
   "cell_type": "markdown",
   "metadata": {},
   "source": [
    "### Barbell graph"
   ]
  },
  {
   "cell_type": "code",
   "execution_count": 50,
   "metadata": {},
   "outputs": [
    {
     "name": "stdout",
     "output_type": "stream",
     "text": [
      "\u001b[32mEpoch      Iteration      Time      Loss      Accuracy      \u001b[0m\n",
      "[1/5]      [30/30]        11s       0.5809    0.7168        \u001b[0m\n",
      "[2/5]      [30/30]        23s       0.5753    0.7210        \u001b[0m\n",
      "[3/5]      [30/30]        35s       0.5722    0.7241        \u001b[0m\n",
      "[4/5]      [30/30]        47s       0.5700    0.7252        \u001b[0m\n",
      "[5/5]      [30/30]        58s       0.5690    0.7260        \u001b[0m\n",
      "\n",
      "Final score: 0.7260\n",
      "\u001b[32mEpoch      Iteration      Time      Loss      Accuracy      \u001b[0m\n",
      "[1/5]      [30/30]        12s       0.5990    0.7087        \u001b[0m\n",
      "[2/5]      [30/30]        24s       0.5872    0.7119        \u001b[0m\n",
      "[3/5]      [30/30]        36s       0.5825    0.7140        \u001b[0m\n",
      "[4/5]      [30/30]        48s       0.5796    0.7157        \u001b[0m\n",
      "[5/5]      [30/30]        60s       0.5774    0.7171        \u001b[0m\n",
      "\n",
      "Final score: 0.7171\n"
     ]
    }
   ],
   "source": [
    "params_barbell = params.copy()\n",
    "params_barbell['topology'] = 'barbell'\n",
    "losses_barbell = run_logistic(A, y, params_barbell, logging=True)\n",
    "\n",
    "params_barbell['initial_lr'] = 0.1\n",
    "losses_barbell_bis = run_logistic(A, y, params_barbell, logging=True)"
   ]
  },
  {
   "cell_type": "markdown",
   "metadata": {},
   "source": [
    "### Path graph"
   ]
  },
  {
   "cell_type": "code",
   "execution_count": 51,
   "metadata": {},
   "outputs": [
    {
     "name": "stdout",
     "output_type": "stream",
     "text": [
      "\u001b[32mEpoch      Iteration      Time      Loss      Accuracy      \u001b[0m\n",
      "[1/5]      [30/30]        12s       0.5953    0.7156        \u001b[0m\n",
      "[2/5]      [30/30]        23s       0.5972    0.7197        \u001b[0m\n",
      "[3/5]      [30/30]        34s       0.5952    0.7232        \u001b[0m\n",
      "[4/5]      [30/30]        46s       0.5936    0.7252        \u001b[0m\n",
      "[5/5]      [30/30]        57s       0.5926    0.7263        \u001b[0m\n",
      "\n",
      "Final score: 0.7263\n",
      "\u001b[32mEpoch      Iteration      Time      Loss      Accuracy      \u001b[0m\n",
      "[1/5]      [30/30]        11s       0.5996    0.7067        \u001b[0m\n",
      "[2/5]      [30/30]        23s       0.5884    0.7105        \u001b[0m\n",
      "[3/5]      [30/30]        35s       0.5843    0.7127        \u001b[0m\n",
      "[4/5]      [30/30]        47s       0.5816    0.7146        \u001b[0m\n",
      "[5/5]      [30/30]        59s       0.5800    0.7159        \u001b[0m\n",
      "\n",
      "Final score: 0.7159\n"
     ]
    }
   ],
   "source": [
    "params_path = params.copy()\n",
    "params_path['topology'] = 'path'\n",
    "losses_path = run_logistic(A, y, params_path, logging=True)\n",
    "\n",
    "params_path['initial_lr'] = 0.1\n",
    "losses_path_bis = run_logistic(A, y, params_path, logging=True)"
   ]
  },
  {
   "cell_type": "markdown",
   "metadata": {},
   "source": [
    "### Torus graph"
   ]
  },
  {
   "cell_type": "code",
   "execution_count": 52,
   "metadata": {},
   "outputs": [
    {
     "name": "stdout",
     "output_type": "stream",
     "text": [
      "\u001b[32mEpoch      Iteration      Time      Loss      Accuracy      \u001b[0m\n",
      "[1/5]      [30/30]        12s       0.5860    0.7164        \u001b[0m\n",
      "[2/5]      [30/30]        24s       0.5823    0.7210        \u001b[0m\n",
      "[3/5]      [30/30]        36s       0.5792    0.7243        \u001b[0m\n",
      "[4/5]      [30/30]        48s       0.5773    0.7260        \u001b[0m\n",
      "[5/5]      [30/30]        60s       0.5761    0.7268        \u001b[0m\n",
      "\n",
      "Final score: 0.7268\n",
      "\u001b[32mEpoch      Iteration      Time      Loss      Accuracy      \u001b[0m\n",
      "[1/5]      [30/30]        12s       0.5992    0.7078        \u001b[0m\n",
      "[2/5]      [30/30]        24s       0.5874    0.7115        \u001b[0m\n",
      "[3/5]      [30/30]        37s       0.5829    0.7136        \u001b[0m\n",
      "[4/5]      [30/30]        48s       0.5800    0.7154        \u001b[0m\n",
      "[5/5]      [30/30]        61s       0.5779    0.7167        \u001b[0m\n",
      "\n",
      "Final score: 0.7167\n"
     ]
    }
   ],
   "source": [
    "params_torus = params.copy()\n",
    "params_torus['topology'] = 'torus'\n",
    "losses_torus = run_logistic(A, y, params_torus, logging=True)\n",
    "\n",
    "params_torus['initial_lr'] = 0.1\n",
    "losses_torus_bis = run_logistic(A, y, params_torus, logging=True)"
   ]
  },
  {
   "cell_type": "markdown",
   "metadata": {},
   "source": [
    "## Plots of results"
   ]
  },
  {
   "cell_type": "code",
   "execution_count": 63,
   "metadata": {},
   "outputs": [
    {
     "data": {
      "image/png": "[encoded data removed]",
      "text/plain": [
       "<Figure size 288x216 with 1 Axes>"
      ]
     },
     "metadata": {
      "needs_background": "light"
     },
     "output_type": "display_data"
    }
   ],
   "source": [
    "iterations_indices = np.arange(0, losses_complete.shape[0] * compute_loss_every, \n",
    "                               compute_loss_every)\n",
    "helpers.plot_losses(np.stack((losses_complete, losses_barbell, losses_path, losses_torus)),\n",
    "            iterations_indices, optimum_loss=optimum_loss, \n",
    "            labels=['Complete','Barbell', 'Path', 'Torus'], title='Bottleneck topologies (initial $lr=0.4$)', figsize=(4,3))"
   ]
  },
  {
   "cell_type": "code",
   "execution_count": 64,
   "metadata": {},
   "outputs": [
    {
     "data": {
      "image/png": "[encoded data removed]",
      "text/plain": [
       "<Figure size 288x216 with 1 Axes>"
      ]
     },
     "metadata": {
      "needs_background": "light"
     },
     "output_type": "display_data"
    }
   ],
   "source": [
    "iterations_indices = np.arange(0, losses_complete_bis.shape[0] * compute_loss_every, \n",
    "                               compute_loss_every)\n",
    "helpers.plot_losses(np.stack((losses_complete_bis, losses_barbell_bis, losses_path_bis, losses_torus_bis)),\n",
    "            iterations_indices, optimum_loss=optimum_loss, \n",
    "            labels=['Complete','Barbell', 'Path', 'Torus'], title='Bottleneck topologies  (initial $lr=0.1$)', figsize=(4,3))"
   ]
  },
  {
   "cell_type": "markdown",
   "metadata": {},
   "source": [
    "## Comparison in terms of  Spectral gap and Diameter"
   ]
  },
  {
   "cell_type": "code",
   "execution_count": 7,
   "metadata": {},
   "outputs": [],
   "source": [
    "n_machines = 64"
   ]
  },
  {
   "cell_type": "code",
   "execution_count": 8,
   "metadata": {},
   "outputs": [],
   "source": [
    "def spectral_gap(W):\n",
    "    eigs = np.linalg.eigvals(W)\n",
    "    max_eig = np.sort(np.abs(eigs))[-2]\n",
    "    return 1 - max_eig"
   ]
  },
  {
   "cell_type": "code",
   "execution_count": 37,
   "metadata": {},
   "outputs": [
    {
     "name": "stdout",
     "output_type": "stream",
     "text": [
      "Spectral gap for complete graph with 64 machines: 1.0000\n",
      "Diameter for complete graph with 64 machines: 1\n"
     ]
    }
   ],
   "source": [
    "graph = nx.generators.complete_graph(n_machines)\n",
    "mat = np.ones((n_machines, n_machines))\n",
    "sum_rows = mat.sum(axis=1)\n",
    "print('Spectral gap for complete graph with {0} machines: {1:.4f}'.format(n_machines, spectral_gap(mat / sum_rows)))\n",
    "print('Diameter for complete graph with {0} machines: {1}'.format(n_machines, diameter(graph)))"
   ]
  },
  {
   "cell_type": "code",
   "execution_count": 38,
   "metadata": {},
   "outputs": [
    {
     "name": "stdout",
     "output_type": "stream",
     "text": [
      "Spectral gap for torus graph with 64 machines: 0.0355\n",
      "Diameter for torus graph with 64 machines: 14\n"
     ]
    }
   ],
   "source": [
    "graph = nx.generators.lattice.grid_2d_graph(int(np.sqrt(n_machines)),int(np.sqrt(n_machines)))\n",
    "mat = nx.adjacency_matrix(graph).todense()\n",
    "mat += np.eye(n_machines, dtype=np.int64)\n",
    "sum_rows = mat.sum(axis=1)\n",
    "print('Spectral gap for torus graph with {0} machines: {1:.4f}'.format(n_machines, spectral_gap(mat / sum_rows)))\n",
    "print('Diameter for torus graph with {0} machines: {1}'.format(n_machines, diameter(graph)))"
   ]
  },
  {
   "cell_type": "code",
   "execution_count": 39,
   "metadata": {},
   "outputs": [
    {
     "name": "stdout",
     "output_type": "stream",
     "text": [
      "Spectral gap for barbell graph with 64 machines: 0.0018\n",
      "Diameter for barbell graph with 64 machines: 3\n"
     ]
    }
   ],
   "source": [
    "graph = nx.generators.barbell_graph(n_machines // 2, 0)\n",
    "mat = nx.adjacency_matrix(graph).todense()\n",
    "mat += np.eye(n_machines, dtype=np.int64)\n",
    "sum_rows = mat.sum(axis=1)\n",
    "print('Spectral gap for barbell graph with {0} machines: {1:.4f}'.format(n_machines, spectral_gap(mat / sum_rows)))\n",
    "print('Diameter for barbell graph with {0} machines: {1}'.format(n_machines, diameter(graph)))"
   ]
  },
  {
   "cell_type": "code",
   "execution_count": 40,
   "metadata": {},
   "outputs": [
    {
     "name": "stdout",
     "output_type": "stream",
     "text": [
      "Spectral gap for path graph with 64 machines: 0.0008\n",
      "Diameter for path graph with 64 machines: 63\n"
     ]
    }
   ],
   "source": [
    "graph = nx.generators.path_graph(n_machines)\n",
    "mat = nx.adjacency_matrix(graph).todense()\n",
    "mat += np.eye(n_machines, dtype=np.int64)\n",
    "sum_rows = mat.sum(axis=1)\n",
    "print('Spectral gap for path graph with {0} machines: {1:.4f}'.format(n_machines, spectral_gap(mat / sum_rows)))\n",
    "print('Diameter for path graph with {0} machines: {1}'.format(n_machines, diameter(graph)))"
   ]
  }
 ],
 "metadata": {
  "kernelspec": {
   "display_name": "Python [default]",
   "language": "python",
   "name": "python3"
  },
  "language_info": {
   "codemirror_mode": {
    "name": "ipython",
    "version": 3
   },
   "file_extension": ".py",
   "mimetype": "text/x-python",
   "name": "python",
   "nbconvert_exporter": "python",
   "pygments_lexer": "ipython3",
   "version": "3.6.6"
  }
 },
 "nbformat": 4,
 "nbformat_minor": 2
}
