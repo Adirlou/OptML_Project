{
 "cells": [
  {
   "cell_type": "code",
   "execution_count": 1,
   "metadata": {},
   "outputs": [],
   "source": [
    "%load_ext autoreload\n",
    "%autoreload 2"
   ]
  },
  {
   "cell_type": "code",
   "execution_count": 2,
   "metadata": {},
   "outputs": [],
   "source": [
    "import argparse\n",
    "import helpers\n",
    "import networkx as nx\n",
    "import numpy as np\n",
    "import os\n",
    "\n",
    "from matplotlib import pyplot as plt\n",
    "from sklearn.metrics import log_loss\n",
    "from networkx.algorithms.distance_measures import diameter\n",
    "from decentralized_SGD_logistic import DecentralizedSGDLogistic\n",
    "from sklearn.linear_model import SGDClassifier"
   ]
  },
  {
   "cell_type": "markdown",
   "metadata": {},
   "source": [
    "## Load Higgs Boson dataset"
   ]
  },
  {
   "cell_type": "code",
   "execution_count": 3,
   "metadata": {},
   "outputs": [],
   "source": [
    "y, A = helpers.load_data()"
   ]
  },
  {
   "cell_type": "markdown",
   "metadata": {},
   "source": [
    "## Compute the baseline with SGD classifier "
   ]
  },
  {
   "cell_type": "code",
   "execution_count": 4,
   "metadata": {},
   "outputs": [
    {
     "name": "stdout",
     "output_type": "stream",
     "text": [
      "Accuracy: 0.7444\n",
      "Final loss: 0.5063267378689544\n"
     ]
    }
   ],
   "source": [
    "# Fit a SGD\n",
    "clf = SGDClassifier(loss='log', penalty='l2',alpha =1/A.shape[0], tol=1e-4, n_jobs=1, random_state=2)\n",
    "clf.fit(A, y)\n",
    "\n",
    "accuracy = clf.score(A, y)\n",
    "optimum_x = clf.predict_proba(A)[:, 1]\n",
    "\n",
    "# Optimal loss, useful for plots\n",
    "optimum_loss = (-(y.T.dot(np.log(optimum_x)) + (1 - y).T.dot(np.log(1 - optimum_x))) / A.shape[0])\n",
    "\n",
    "print('Accuracy:', accuracy)\n",
    "print('Final loss:', optimum_loss)"
   ]
  },
  {
   "cell_type": "markdown",
   "metadata": {},
   "source": [
    "## Computing with Decentralized SGD"
   ]
  },
  {
   "cell_type": "code",
   "execution_count": 5,
   "metadata": {},
   "outputs": [],
   "source": [
    "reg = 1 / A.shape[0]\n",
    "n_features = A.shape[1]\n",
    "compute_loss_every = 5\n",
    "\n",
    "params = dict(num_epoch=5, lr_type='bottou',\n",
    "                           initial_lr=0.4, regularizer=reg,\n",
    "                           quantization_method='full', n_machines=8100,\n",
    "                           communication_method='plain',\n",
    "                           data_distribution_random_seed=2, random_seed=2,\n",
    "                           data_distribution_strategy='random', \n",
    "                           compute_loss_every=compute_loss_every, tol=1e-10)"
   ]
  },
  {
   "cell_type": "markdown",
   "metadata": {},
   "source": [
    "### Complete graph"
   ]
  },
  {
   "cell_type": "code",
   "execution_count": 6,
   "metadata": {},
   "outputs": [
    {
     "name": "stdout",
     "output_type": "stream",
     "text": [
      "Decentralized optimization, run number 1 \n",
      "\n",
      "\u001b[32mEpoch      Iteration      Time      Loss      Accuracy      \u001b[0m\n",
      "[1/5]      [30/30]        11s       0.5815    0.7163        \u001b[0m\n",
      "[2/5]      [30/30]        22s       0.5757    0.7208        \u001b[0m\n",
      "[3/5]      [30/30]        33s       0.5728    0.7237        \u001b[0m\n",
      "[4/5]      [30/30]        44s       0.5697    0.7253        \u001b[0m\n",
      "[5/5]      [30/30]        56s       0.5684    0.7256        \u001b[0m\n",
      "\n",
      "Final score: 0.7256\n",
      "Decentralized optimization, run number 2 \n",
      "\n",
      "\u001b[32mEpoch      Iteration      Time      Loss      Accuracy      \u001b[0m\n",
      "[1/5]      [30/30]        11s       0.5808    0.7167        \u001b[0m\n",
      "[2/5]      [30/30]        22s       0.5753    0.7210        \u001b[0m\n",
      "[3/5]      [30/30]        34s       0.5722    0.7241        \u001b[0m\n",
      "[4/5]      [30/30]        45s       0.5700    0.7252        \u001b[0m\n",
      "[5/5]      [30/30]        56s       0.5690    0.7260        \u001b[0m\n",
      "\n",
      "Final score: 0.7260\n",
      "Decentralized optimization, run number 3 \n",
      "\n",
      "\u001b[32mEpoch      Iteration      Time      Loss      Accuracy      \u001b[0m\n",
      "[1/5]      [30/30]        11s       0.5815    0.7160        \u001b[0m\n",
      "[2/5]      [30/30]        23s       0.5756    0.7209        \u001b[0m\n",
      "[3/5]      [30/30]        35s       0.5722    0.7234        \u001b[0m\n",
      "[4/5]      [30/30]        48s       0.5703    0.7248        \u001b[0m\n",
      "[5/5]      [30/30]        60s       0.5686    0.7256        \u001b[0m\n",
      "\n",
      "Final score: 0.7256\n",
      "Decentralized optimization, run number 1 \n",
      "\n",
      "\u001b[32mEpoch      Iteration      Time      Loss      Accuracy      \u001b[0m\n",
      "[1/5]      [30/30]        13s       0.5987    0.7089        \u001b[0m\n",
      "[2/5]      [30/30]        25s       0.5870    0.7114        \u001b[0m\n",
      "[3/5]      [30/30]        37s       0.5825    0.7139        \u001b[0m\n",
      "[4/5]      [30/30]        51s       0.5796    0.7151        \u001b[0m\n",
      "[5/5]      [30/30]        63s       0.5774    0.7168        \u001b[0m\n",
      "\n",
      "Final score: 0.7168\n",
      "Decentralized optimization, run number 2 \n",
      "\n",
      "\u001b[32mEpoch      Iteration      Time      Loss      Accuracy      \u001b[0m\n",
      "[1/5]      [30/30]        13s       0.5990    0.7087        \u001b[0m\n",
      "[2/5]      [30/30]        26s       0.5872    0.7119        \u001b[0m\n",
      "[3/5]      [30/30]        39s       0.5825    0.7140        \u001b[0m\n",
      "[4/5]      [30/30]        52s       0.5796    0.7157        \u001b[0m\n",
      "[5/5]      [30/30]        63s       0.5774    0.7171        \u001b[0m\n",
      "\n",
      "Final score: 0.7171\n",
      "Decentralized optimization, run number 3 \n",
      "\n",
      "\u001b[32mEpoch      Iteration      Time      Loss      Accuracy      \u001b[0m\n",
      "[1/5]      [30/30]        12s       0.5989    0.7079        \u001b[0m\n",
      "[2/5]      [30/30]        24s       0.5871    0.7120        \u001b[0m\n",
      "[3/5]      [30/30]        36s       0.5825    0.7140        \u001b[0m\n",
      "[4/5]      [30/30]        48s       0.5797    0.7152        \u001b[0m\n",
      "[5/5]      [30/30]        60s       0.5775    0.7169        \u001b[0m\n",
      "\n",
      "Final score: 0.7169\n"
     ]
    }
   ],
   "source": [
    "params_complete = params.copy()\n",
    "params_complete['topology'] = 'complete'\n",
    "losses_complete = helpers.run_logistic_n_times(A, y, params_complete, 3)\n",
    "\n",
    "params_complete['initial_lr'] = 0.1\n",
    "losses_complete_bis = helpers.run_logistic_n_times(A, y, params_complete, 3)"
   ]
  },
  {
   "cell_type": "markdown",
   "metadata": {},
   "source": [
    "### Barbell graph"
   ]
  },
  {
   "cell_type": "code",
   "execution_count": 7,
   "metadata": {},
   "outputs": [
    {
     "name": "stdout",
     "output_type": "stream",
     "text": [
      "Decentralized optimization, run number 1 \n",
      "\n",
      "\u001b[32mEpoch      Iteration      Time      Loss      Accuracy      \u001b[0m\n",
      "[1/5]      [30/30]        12s       0.5815    0.7163        \u001b[0m\n",
      "[2/5]      [30/30]        24s       0.5757    0.7208        \u001b[0m\n",
      "[3/5]      [30/30]        36s       0.5728    0.7237        \u001b[0m\n",
      "[4/5]      [30/30]        48s       0.5697    0.7254        \u001b[0m\n",
      "[5/5]      [30/30]        60s       0.5684    0.7256        \u001b[0m\n",
      "\n",
      "Final score: 0.7256\n",
      "Decentralized optimization, run number 2 \n",
      "\n",
      "\u001b[32mEpoch      Iteration      Time      Loss      Accuracy      \u001b[0m\n",
      "[1/5]      [30/30]        12s       0.5809    0.7168        \u001b[0m\n",
      "[2/5]      [30/30]        25s       0.5753    0.7210        \u001b[0m\n",
      "[3/5]      [30/30]        36s       0.5722    0.7241        \u001b[0m\n",
      "[4/5]      [30/30]        48s       0.5700    0.7252        \u001b[0m\n",
      "[5/5]      [30/30]        61s       0.5690    0.7260        \u001b[0m\n",
      "\n",
      "Final score: 0.7260\n",
      "Decentralized optimization, run number 3 \n",
      "\n",
      "\u001b[32mEpoch      Iteration      Time      Loss      Accuracy      \u001b[0m\n",
      "[1/5]      [30/30]        12s       0.5815    0.7160        \u001b[0m\n",
      "[2/5]      [30/30]        24s       0.5756    0.7209        \u001b[0m\n",
      "[3/5]      [30/30]        37s       0.5722    0.7234        \u001b[0m\n",
      "[4/5]      [30/30]        49s       0.5703    0.7248        \u001b[0m\n",
      "[5/5]      [30/30]        61s       0.5687    0.7256        \u001b[0m\n",
      "\n",
      "Final score: 0.7256\n",
      "Decentralized optimization, run number 1 \n",
      "\n",
      "\u001b[32mEpoch      Iteration      Time      Loss      Accuracy      \u001b[0m\n",
      "[1/5]      [30/30]        12s       0.5987    0.7089        \u001b[0m\n",
      "[2/5]      [30/30]        24s       0.5871    0.7114        \u001b[0m\n",
      "[3/5]      [30/30]        36s       0.5825    0.7139        \u001b[0m\n",
      "[4/5]      [30/30]        48s       0.5796    0.7151        \u001b[0m\n",
      "[5/5]      [30/30]        62s       0.5774    0.7168        \u001b[0m\n",
      "\n",
      "Final score: 0.7168\n",
      "Decentralized optimization, run number 2 \n",
      "\n",
      "\u001b[32mEpoch      Iteration      Time      Loss      Accuracy      \u001b[0m\n",
      "[1/5]      [30/30]        12s       0.5990    0.7087        \u001b[0m\n",
      "[2/5]      [30/30]        24s       0.5872    0.7119        \u001b[0m\n",
      "[3/5]      [30/30]        36s       0.5825    0.7140        \u001b[0m\n",
      "[4/5]      [30/30]        47s       0.5796    0.7157        \u001b[0m\n",
      "[5/5]      [30/30]        59s       0.5774    0.7171        \u001b[0m\n",
      "\n",
      "Final score: 0.7171\n",
      "Decentralized optimization, run number 3 \n",
      "\n",
      "\u001b[32mEpoch      Iteration      Time      Loss      Accuracy      \u001b[0m\n",
      "[1/5]      [30/30]        12s       0.5989    0.7079        \u001b[0m\n",
      "[2/5]      [30/30]        24s       0.5871    0.7120        \u001b[0m\n",
      "[3/5]      [30/30]        36s       0.5825    0.7140        \u001b[0m\n",
      "[4/5]      [30/30]        48s       0.5797    0.7152        \u001b[0m\n",
      "[5/5]      [30/30]        60s       0.5775    0.7168        \u001b[0m\n",
      "\n",
      "Final score: 0.7168\n"
     ]
    }
   ],
   "source": [
    "params_barbell = params.copy()\n",
    "params_barbell['topology'] = 'barbell'\n",
    "losses_barbell = helpers.run_logistic_n_times(A, y, params_barbell, 3)\n",
    "\n",
    "params_barbell['initial_lr'] = 0.1\n",
    "losses_barbell_bis = helpers.run_logistic_n_times(A, y, params_barbell, 3)"
   ]
  },
  {
   "cell_type": "markdown",
   "metadata": {},
   "source": [
    "### Path graph"
   ]
  },
  {
   "cell_type": "code",
   "execution_count": 8,
   "metadata": {},
   "outputs": [
    {
     "name": "stdout",
     "output_type": "stream",
     "text": [
      "Decentralized optimization, run number 1 \n",
      "\n",
      "\u001b[32mEpoch      Iteration      Time      Loss      Accuracy      \u001b[0m\n",
      "[1/5]      [30/30]        12s       0.5956    0.7152        \u001b[0m\n",
      "[2/5]      [30/30]        24s       0.5973    0.7192        \u001b[0m\n",
      "[3/5]      [30/30]        35s       0.5958    0.7225        \u001b[0m\n",
      "[4/5]      [30/30]        47s       0.5927    0.7247        \u001b[0m\n",
      "[5/5]      [30/30]        58s       0.5916    0.7266        \u001b[0m\n",
      "\n",
      "Final score: 0.7266\n",
      "Decentralized optimization, run number 2 \n",
      "\n",
      "\u001b[32mEpoch      Iteration      Time      Loss      Accuracy      \u001b[0m\n",
      "[1/5]      [30/30]        12s       0.5953    0.7156        \u001b[0m\n",
      "[2/5]      [30/30]        23s       0.5972    0.7197        \u001b[0m\n",
      "[3/5]      [30/30]        35s       0.5952    0.7232        \u001b[0m\n",
      "[4/5]      [30/30]        46s       0.5936    0.7252        \u001b[0m\n",
      "[5/5]      [30/30]        59s       0.5926    0.7263        \u001b[0m\n",
      "\n",
      "Final score: 0.7263\n",
      "Decentralized optimization, run number 3 \n",
      "\n",
      "\u001b[32mEpoch      Iteration      Time      Loss      Accuracy      \u001b[0m\n",
      "[1/5]      [30/30]        12s       0.5959    0.7149        \u001b[0m\n",
      "[2/5]      [30/30]        24s       0.5965    0.7194        \u001b[0m\n",
      "[3/5]      [30/30]        35s       0.5956    0.7222        \u001b[0m\n",
      "[4/5]      [30/30]        48s       0.5943    0.7248        \u001b[0m\n",
      "[5/5]      [30/30]        59s       0.5914    0.7264        \u001b[0m\n",
      "\n",
      "Final score: 0.7264\n",
      "Decentralized optimization, run number 1 \n",
      "\n",
      "\u001b[32mEpoch      Iteration      Time      Loss      Accuracy      \u001b[0m\n",
      "[1/5]      [30/30]        11s       0.5992    0.7069        \u001b[0m\n",
      "[2/5]      [30/30]        23s       0.5882    0.7098        \u001b[0m\n",
      "[3/5]      [30/30]        34s       0.5841    0.7129        \u001b[0m\n",
      "[4/5]      [30/30]        46s       0.5815    0.7141        \u001b[0m\n",
      "[5/5]      [30/30]        57s       0.5798    0.7157        \u001b[0m\n",
      "\n",
      "Final score: 0.7157\n",
      "Decentralized optimization, run number 2 \n",
      "\n",
      "\u001b[32mEpoch      Iteration      Time      Loss      Accuracy      \u001b[0m\n",
      "[1/5]      [30/30]        11s       0.5996    0.7067        \u001b[0m\n",
      "[2/5]      [30/30]        23s       0.5884    0.7105        \u001b[0m\n",
      "[3/5]      [30/30]        34s       0.5843    0.7127        \u001b[0m\n",
      "[4/5]      [30/30]        45s       0.5816    0.7146        \u001b[0m\n",
      "[5/5]      [30/30]        57s       0.5800    0.7159        \u001b[0m\n",
      "\n",
      "Final score: 0.7159\n",
      "Decentralized optimization, run number 3 \n",
      "\n",
      "\u001b[32mEpoch      Iteration      Time      Loss      Accuracy      \u001b[0m\n",
      "[1/5]      [30/30]        11s       0.5996    0.7063        \u001b[0m\n",
      "[2/5]      [30/30]        23s       0.5882    0.7103        \u001b[0m\n",
      "[3/5]      [30/30]        34s       0.5843    0.7125        \u001b[0m\n",
      "[4/5]      [30/30]        46s       0.5819    0.7142        \u001b[0m\n",
      "[5/5]      [30/30]        57s       0.5799    0.7157        \u001b[0m\n",
      "\n",
      "Final score: 0.7157\n"
     ]
    }
   ],
   "source": [
    "params_path = params.copy()\n",
    "params_path['topology'] = 'path'\n",
    "losses_path = helpers.run_logistic_n_times(A, y, params_path, 3)\n",
    "\n",
    "params_path['initial_lr'] = 0.1\n",
    "losses_path_bis = helpers.run_logistic_n_times(A, y, params_path, 3)"
   ]
  },
  {
   "cell_type": "markdown",
   "metadata": {},
   "source": [
    "### Torus graph"
   ]
  },
  {
   "cell_type": "code",
   "execution_count": 9,
   "metadata": {},
   "outputs": [
    {
     "name": "stdout",
     "output_type": "stream",
     "text": [
      "Decentralized optimization, run number 1 \n",
      "\n",
      "\u001b[32mEpoch      Iteration      Time      Loss      Accuracy      \u001b[0m\n",
      "[1/5]      [30/30]        11s       0.5866    0.7159        \u001b[0m\n",
      "[2/5]      [30/30]        23s       0.5828    0.7204        \u001b[0m\n",
      "[3/5]      [30/30]        34s       0.5800    0.7240        \u001b[0m\n",
      "[4/5]      [30/30]        46s       0.5768    0.7259        \u001b[0m\n",
      "[5/5]      [30/30]        57s       0.5754    0.7270        \u001b[0m\n",
      "\n",
      "Final score: 0.7270\n",
      "Decentralized optimization, run number 2 \n",
      "\n",
      "\u001b[32mEpoch      Iteration      Time      Loss      Accuracy      \u001b[0m\n",
      "[1/5]      [30/30]        12s       0.5860    0.7164        \u001b[0m\n",
      "[2/5]      [30/30]        23s       0.5823    0.7210        \u001b[0m\n",
      "[3/5]      [30/30]        35s       0.5792    0.7243        \u001b[0m\n",
      "[4/5]      [30/30]        46s       0.5773    0.7260        \u001b[0m\n",
      "[5/5]      [30/30]        57s       0.5761    0.7268        \u001b[0m\n",
      "\n",
      "Final score: 0.7268\n",
      "Decentralized optimization, run number 3 \n",
      "\n",
      "\u001b[32mEpoch      Iteration      Time      Loss      Accuracy      \u001b[0m\n",
      "[1/5]      [30/30]        12s       0.5869    0.7157        \u001b[0m\n",
      "[2/5]      [30/30]        23s       0.5823    0.7207        \u001b[0m\n",
      "[3/5]      [30/30]        35s       0.5795    0.7236        \u001b[0m\n",
      "[4/5]      [30/30]        46s       0.5771    0.7257        \u001b[0m\n",
      "[5/5]      [30/30]        58s       0.5755    0.7267        \u001b[0m\n",
      "\n",
      "Final score: 0.7267\n",
      "Decentralized optimization, run number 1 \n",
      "\n",
      "\u001b[32mEpoch      Iteration      Time      Loss      Accuracy      \u001b[0m\n",
      "[1/5]      [30/30]        11s       0.5988    0.7083        \u001b[0m\n",
      "[2/5]      [30/30]        23s       0.5874    0.7110        \u001b[0m\n",
      "[3/5]      [30/30]        34s       0.5828    0.7135        \u001b[0m\n",
      "[4/5]      [30/30]        46s       0.5800    0.7150        \u001b[0m\n",
      "[5/5]      [30/30]        57s       0.5778    0.7164        \u001b[0m\n",
      "\n",
      "Final score: 0.7164\n",
      "Decentralized optimization, run number 2 \n",
      "\n",
      "\u001b[32mEpoch      Iteration      Time      Loss      Accuracy      \u001b[0m\n",
      "[1/5]      [30/30]        12s       0.5992    0.7078        \u001b[0m\n",
      "[2/5]      [30/30]        23s       0.5874    0.7115        \u001b[0m\n",
      "[3/5]      [30/30]        35s       0.5829    0.7136        \u001b[0m\n",
      "[4/5]      [30/30]        46s       0.5800    0.7154        \u001b[0m\n",
      "[5/5]      [30/30]        58s       0.5779    0.7167        \u001b[0m\n",
      "\n",
      "Final score: 0.7167\n",
      "Decentralized optimization, run number 3 \n",
      "\n",
      "\u001b[32mEpoch      Iteration      Time      Loss      Accuracy      \u001b[0m\n",
      "[1/5]      [30/30]        12s       0.5991    0.7073        \u001b[0m\n",
      "[2/5]      [30/30]        23s       0.5874    0.7117        \u001b[0m\n",
      "[3/5]      [30/30]        34s       0.5829    0.7135        \u001b[0m\n",
      "[4/5]      [30/30]        46s       0.5801    0.7152        \u001b[0m\n",
      "[5/5]      [30/30]        57s       0.5779    0.7166        \u001b[0m\n",
      "\n",
      "Final score: 0.7166\n"
     ]
    }
   ],
   "source": [
    "params_torus = params.copy()\n",
    "params_torus['topology'] = 'torus'\n",
    "losses_torus = helpers.run_logistic_n_times(A, y, params_torus, 3)\n",
    "\n",
    "params_torus['initial_lr'] = 0.1\n",
    "losses_torus_bis = helpers.run_logistic_n_times(A, y, params_torus, 3)"
   ]
  },
  {
   "cell_type": "markdown",
   "metadata": {},
   "source": [
    "## Plots of results"
   ]
  },
  {
   "cell_type": "code",
   "execution_count": 16,
   "metadata": {},
   "outputs": [
    {
     "data": {
      "image/png": "[encoded data removed]",
      "text/plain": [
       "<Figure size 288x216 with 1 Axes>"
      ]
     },
     "metadata": {
      "needs_background": "light"
     },
     "output_type": "display_data"
    }
   ],
   "source": [
    "iterations_indices = np.arange(0, losses_complete[0].shape[0] * compute_loss_every, \n",
    "                               compute_loss_every)\n",
    "helpers.plot_losses_with_std([losses_complete, losses_barbell, losses_path, losses_torus],\n",
    "            iterations_indices, optimum_loss=optimum_loss, \n",
    "            labels=['Complete','Barbell', 'Path', 'Torus'], title='Bottleneck topologies (initial $lr=0.4$)', figsize=(4,3), save_as_pdf=True, pdf_name='info_small_right')"
   ]
  },
  {
   "cell_type": "code",
   "execution_count": 17,
   "metadata": {},
   "outputs": [
    {
     "data": {
      "image/png": "[encoded data removed]",
      "text/plain": [
       "<Figure size 288x216 with 1 Axes>"
      ]
     },
     "metadata": {
      "needs_background": "light"
     },
     "output_type": "display_data"
    }
   ],
   "source": [
    "iterations_indices = np.arange(0, losses_complete_bis[0].shape[0] * compute_loss_every, \n",
    "                               compute_loss_every)\n",
    "helpers.plot_losses_with_std(np.stack((losses_complete_bis, losses_barbell_bis, losses_path_bis, losses_torus_bis)),\n",
    "            iterations_indices, optimum_loss=optimum_loss, \n",
    "            labels=['Complete','Barbell', 'Path', 'Torus'], title='Bottleneck topologies  (initial $lr=0.1$)', figsize=(4,3), save_as_pdf=True, pdf_name='info_small_left')"
   ]
  },
  {
   "cell_type": "markdown",
   "metadata": {},
   "source": [
    "## Comparison in terms of  Spectral gap and Diameter"
   ]
  },
  {
   "cell_type": "code",
   "execution_count": 7,
   "metadata": {},
   "outputs": [],
   "source": [
    "n_machines = 64"
   ]
  },
  {
   "cell_type": "code",
   "execution_count": 8,
   "metadata": {},
   "outputs": [],
   "source": [
    "def spectral_gap(W):\n",
    "    eigs = np.linalg.eigvals(W)\n",
    "    max_eig = np.sort(np.abs(eigs))[-2]\n",
    "    return 1 - max_eig"
   ]
  },
  {
   "cell_type": "code",
   "execution_count": 37,
   "metadata": {},
   "outputs": [
    {
     "name": "stdout",
     "output_type": "stream",
     "text": [
      "Spectral gap for complete graph with 64 machines: 1.0000\n",
      "Diameter for complete graph with 64 machines: 1\n"
     ]
    }
   ],
   "source": [
    "graph = nx.generators.complete_graph(n_machines)\n",
    "mat = np.ones((n_machines, n_machines))\n",
    "sum_rows = mat.sum(axis=1)\n",
    "print('Spectral gap for complete graph with {0} machines: {1:.4f}'.format(n_machines, spectral_gap(mat / sum_rows)))\n",
    "print('Diameter for complete graph with {0} machines: {1}'.format(n_machines, diameter(graph)))"
   ]
  },
  {
   "cell_type": "code",
   "execution_count": 38,
   "metadata": {},
   "outputs": [
    {
     "name": "stdout",
     "output_type": "stream",
     "text": [
      "Spectral gap for torus graph with 64 machines: 0.0355\n",
      "Diameter for torus graph with 64 machines: 14\n"
     ]
    }
   ],
   "source": [
    "graph = nx.generators.lattice.grid_2d_graph(int(np.sqrt(n_machines)),int(np.sqrt(n_machines)))\n",
    "mat = nx.adjacency_matrix(graph).todense()\n",
    "mat += np.eye(n_machines, dtype=np.int64)\n",
    "sum_rows = mat.sum(axis=1)\n",
    "print('Spectral gap for torus graph with {0} machines: {1:.4f}'.format(n_machines, spectral_gap(mat / sum_rows)))\n",
    "print('Diameter for torus graph with {0} machines: {1}'.format(n_machines, diameter(graph)))"
   ]
  },
  {
   "cell_type": "code",
   "execution_count": 39,
   "metadata": {},
   "outputs": [
    {
     "name": "stdout",
     "output_type": "stream",
     "text": [
      "Spectral gap for barbell graph with 64 machines: 0.0018\n",
      "Diameter for barbell graph with 64 machines: 3\n"
     ]
    }
   ],
   "source": [
    "graph = nx.generators.barbell_graph(n_machines // 2, 0)\n",
    "mat = nx.adjacency_matrix(graph).todense()\n",
    "mat += np.eye(n_machines, dtype=np.int64)\n",
    "sum_rows = mat.sum(axis=1)\n",
    "print('Spectral gap for barbell graph with {0} machines: {1:.4f}'.format(n_machines, spectral_gap(mat / sum_rows)))\n",
    "print('Diameter for barbell graph with {0} machines: {1}'.format(n_machines, diameter(graph)))"
   ]
  },
  {
   "cell_type": "code",
   "execution_count": 40,
   "metadata": {},
   "outputs": [
    {
     "name": "stdout",
     "output_type": "stream",
     "text": [
      "Spectral gap for path graph with 64 machines: 0.0008\n",
      "Diameter for path graph with 64 machines: 63\n"
     ]
    }
   ],
   "source": [
    "graph = nx.generators.path_graph(n_machines)\n",
    "mat = nx.adjacency_matrix(graph).todense()\n",
    "mat += np.eye(n_machines, dtype=np.int64)\n",
    "sum_rows = mat.sum(axis=1)\n",
    "print('Spectral gap for path graph with {0} machines: {1:.4f}'.format(n_machines, spectral_gap(mat / sum_rows)))\n",
    "print('Diameter for path graph with {0} machines: {1}'.format(n_machines, diameter(graph)))"
   ]
  }
 ],
 "metadata": {
  "kernelspec": {
   "display_name": "Python [default]",
   "language": "python",
   "name": "python3"
  },
  "language_info": {
   "codemirror_mode": {
    "name": "ipython",
    "version": 3
   },
   "file_extension": ".py",
   "mimetype": "text/x-python",
   "name": "python",
   "nbconvert_exporter": "python",
   "pygments_lexer": "ipython3",
   "version": "3.6.6"
  }
 },
 "nbformat": 4,
 "nbformat_minor": 2
}
