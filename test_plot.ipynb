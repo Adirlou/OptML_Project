{
 "cells": [
  {
   "cell_type": "code",
   "execution_count": 55,
   "metadata": {},
   "outputs": [
    {
     "name": "stdout",
     "output_type": "stream",
     "text": [
      "The autoreload extension is already loaded. To reload it, use:\n",
      "  %reload_ext autoreload\n"
     ]
    }
   ],
   "source": [
    "%load_ext autoreload\n",
    "%autoreload 2"
   ]
  },
  {
   "cell_type": "code",
   "execution_count": 56,
   "metadata": {},
   "outputs": [],
   "source": [
    "import argparse\n",
    "import os\n",
    "from matplotlib import pyplot as plt\n",
    "\n",
    "import numpy as np\n",
    "from sklearn.datasets import load_svmlight_file\n",
    "from sklearn.metrics import log_loss\n",
    "from decentralized_SGD_logistic import DecentralizedSGDLogistic\n",
    "from sklearn.linear_model import SGDClassifier\n",
    "from scipy.special import expit as sigmoid\n",
    "\n",
    "from helpers import plot_losses"
   ]
  },
  {
   "cell_type": "markdown",
   "metadata": {},
   "source": [
    "## RCV dataset from ChocoSGD Paper"
   ]
  },
  {
   "cell_type": "code",
   "execution_count": 11,
   "metadata": {},
   "outputs": [],
   "source": [
    "def run_logistic(A, y, param):\n",
    "    m = DecentralizedSGDLogistic(param)\n",
    "    res = m.fit(A, y)\n",
    "    print('{} - score: {}'.format(param, m.score(A, y)))\n",
    "    return res, m"
   ]
  },
  {
   "cell_type": "markdown",
   "metadata": {},
   "source": [
    "### Load dataset"
   ]
  },
  {
   "cell_type": "code",
   "execution_count": 3,
   "metadata": {},
   "outputs": [
    {
     "name": "stdout",
     "output_type": "stream",
     "text": [
      "Loading dataset...\n"
     ]
    }
   ],
   "source": [
    "dataset_path = os.path.expanduser('../ChocoSGD/data/rcv1_test.binary.bz2')\n",
    "print('Loading dataset...')\n",
    "A, y = load_svmlight_file(dataset_path)\n",
    "A_p = A[:100000]\n",
    "y_p = y[:100000]\n",
    "y_p = 1*(y_p > 0)"
   ]
  },
  {
   "cell_type": "markdown",
   "metadata": {},
   "source": [
    "### Compute the baseline with SGD"
   ]
  },
  {
   "cell_type": "code",
   "execution_count": 5,
   "metadata": {},
   "outputs": [
    {
     "name": "stderr",
     "output_type": "stream",
     "text": [
      "/home/adirlou/.local/lib/python3.6/site-packages/sklearn/linear_model/stochastic_gradient.py:166: FutureWarning: max_iter and tol parameters have been added in SGDClassifier in 0.19. If both are left unset, they default to max_iter=5 and tol=None. If tol is not None, max_iter defaults to max_iter=1000. From 0.21, default max_iter will be 1000, and default tol will be 1e-3.\n",
      "  FutureWarning)\n"
     ]
    },
    {
     "name": "stdout",
     "output_type": "stream",
     "text": [
      "0.97885\n"
     ]
    }
   ],
   "source": [
    "clf = SGDClassifier(loss='log', penalty='l2',alpha =1/A_p.shape[0])\n",
    "clf.fit(A_p, y_p)\n",
    "print(clf.score(A_p, y_p))\n",
    "x_predict = clf.predict(A_p)\n",
    "exact_optimum = log_loss(x_predict, y_p) + (1 / A_p.shape[0]) * np.sum(x_predict**2)"
   ]
  },
  {
   "cell_type": "markdown",
   "metadata": {},
   "source": [
    "### Compute with Decentralized SGD"
   ]
  },
  {
   "cell_type": "code",
   "execution_count": null,
   "metadata": {},
   "outputs": [],
   "source": [
    "reg = 1 / A_p.shape[0]\n",
    "n_features = A_p.shape[1]\n",
    "\n",
    "params_disconnected = Parameters(num_epoch=5, lr_type='bottou',\n",
    "                           initial_lr=10, tau=n_features, regularizer=reg,\n",
    "                           quantization='full', n_machines=128,\n",
    "                           method='plain',topology='complete', estimate='final',\n",
    "                           split_data_random_seed=2, distribute_data=True,\n",
    "                           split_data_strategy='naive')\n",
    "\n",
    "res_disconnected, dec_log = run_logistic(A_p, y_p, params_disconnected)\n",
    "\n",
    "\"\"\"params_ring = dict(name=\"chocosgd-centralized\", num_epoch=5, lr_type='bottou',\n",
    "                           initial_lr=0.2, tau=n_features, regularizer=reg,\n",
    "                           quantization='full', n_cores=10,\n",
    "                           method='plain', topology='centralized', estimate='final',\n",
    "                           split_data_random_seed=2, distribute_data=True,\n",
    "                           split_data_strategy='naive')\n",
    "\n",
    "res_centralized = run_logistic(A_p, y_p, params_ring)\"\"\"\n"
   ]
  },
  {
   "cell_type": "markdown",
   "metadata": {},
   "source": [
    "## Higgs Boson Dataset"
   ]
  },
  {
   "cell_type": "code",
   "execution_count": 23,
   "metadata": {},
   "outputs": [],
   "source": [
    "def run_logistic(A, y, param):\n",
    "    m = DecentralizedSGDLogistic(**param)\n",
    "    list_losses = m.fit(A, y)\n",
    "    print('{} - score: {}'.format(param, m.score(A, y)))\n",
    "    return list_losses"
   ]
  },
  {
   "cell_type": "code",
   "execution_count": 24,
   "metadata": {},
   "outputs": [],
   "source": [
    "def load_csv_data(data_path):\n",
    "    \"\"\"Loads data and returns y (class labels), tX (features) and ids (event ids)\"\"\"\n",
    "    y = np.genfromtxt(data_path, delimiter=\",\", skip_header=1, dtype=str, usecols=1)\n",
    "    x = np.genfromtxt(data_path, delimiter=\",\", skip_header=1)\n",
    "    input_data = x[:, 2:]\n",
    "\n",
    "    # convert class labels from strings to binary (-1,1)\n",
    "    yb = np.ones(len(y))\n",
    "    yb[np.where(y=='b')] = -1\n",
    "\n",
    "    return yb, input_data"
   ]
  },
  {
   "cell_type": "code",
   "execution_count": 25,
   "metadata": {},
   "outputs": [],
   "source": [
    "def clean(input_data, mean=False):\n",
    "\n",
    "    #Replace -999 by most frequent value of column\n",
    "    for i in range(input_data.shape[1]):\n",
    "        current_col = input_data[:, i]\n",
    "\n",
    "        if -999.0 in current_col:\n",
    "            indices_to_change = (current_col == -999.0)\n",
    "            if mean:\n",
    "                curr_mean = np.mean(current_col[~indices_to_change])\n",
    "                current_col[indices_to_change] = curr_mean\n",
    "            else:\n",
    "                (values,counts) = np.unique(current_col[~indices_to_change], return_counts=True)\n",
    "                ind=np.argmax(counts)\n",
    "                current_col[indices_to_change] = values[ind] if len(values) > 0 else 0\n",
    "\n",
    "    return input_data"
   ]
  },
  {
   "cell_type": "code",
   "execution_count": 26,
   "metadata": {},
   "outputs": [],
   "source": [
    "def standardize(x):\n",
    "    \"\"\"Standardize the given data\"\"\"\n",
    "    means = x.mean(0)\n",
    "    stds = x.std(0)\n",
    "    return (x - means)/stds"
   ]
  },
  {
   "cell_type": "markdown",
   "metadata": {},
   "source": [
    "### Load dataset"
   ]
  },
  {
   "cell_type": "code",
   "execution_count": 27,
   "metadata": {},
   "outputs": [],
   "source": [
    "y, A = load_csv_data('train.csv')\n",
    "A = standardize(clean(A, True))\n",
    "y = 1 *(y > 0.0)"
   ]
  },
  {
   "cell_type": "markdown",
   "metadata": {},
   "source": [
    "### Compute the baseline with SGD classifier "
   ]
  },
  {
   "cell_type": "code",
   "execution_count": 28,
   "metadata": {},
   "outputs": [
    {
     "name": "stdout",
     "output_type": "stream",
     "text": [
      "Accuracy: 0.747132\n",
      "Final loss: 0.505799416943578\n"
     ]
    }
   ],
   "source": [
    "# Fit a SGD\n",
    "clf = SGDClassifier(loss='log', penalty='l2',alpha =1/A.shape[0], tol=1e-4, n_jobs=1)\n",
    "clf.fit(A, y)\n",
    "\n",
    "accuracy = clf.score(A, y)\n",
    "optimum_x = clf.predict_proba(A)[:, 1]\n",
    "\n",
    "# Optimal loss, useful for plots\n",
    "optimum_loss = (-(y.T.dot(np.log(optimum_x)) + (1 - y).T.dot(np.log(1 - optimum_x))) / A.shape[0])\n",
    "\n",
    "print('Accuracy:', accuracy)\n",
    "print('Final loss:', optimum_loss)"
   ]
  },
  {
   "cell_type": "markdown",
   "metadata": {},
   "source": [
    "### Computing with Decentralized SGD"
   ]
  },
  {
   "cell_type": "code",
   "execution_count": 75,
   "metadata": {},
   "outputs": [
    {
     "name": "stdout",
     "output_type": "stream",
     "text": [
      "length of indices: 512\n",
      "length of last machine indices: 488\n",
      "current iteration: 0 epoch: 0 epoch_iteration 0 loss 1.5920398503931399 elapsed 0.02684617042541504s\n",
      "current iteration: 30 epoch: 0 epoch_iteration 30 loss 1.2656548868139803 elapsed 0.8059828281402588s\n",
      "current iteration: 60 epoch: 0 epoch_iteration 60 loss 1.0484439654146755 elapsed 1.5671215057373047s\n",
      "current iteration: 90 epoch: 0 epoch_iteration 90 loss 0.9026857104556367 elapsed 2.320585250854492s\n",
      "current iteration: 120 epoch: 0 epoch_iteration 120 loss 0.7998419267397896 elapsed 3.0820844173431396s\n",
      "current iteration: 150 epoch: 0 epoch_iteration 150 loss 0.7304380399716018 elapsed 3.8499443531036377s\n",
      "current iteration: 180 epoch: 0 epoch_iteration 180 loss 0.6858879834675914 elapsed 4.604231119155884s\n",
      "current iteration: 210 epoch: 0 epoch_iteration 210 loss 0.6526703722909616 elapsed 5.34389853477478s\n",
      "current iteration: 240 epoch: 0 epoch_iteration 240 loss 0.6297029676410937 elapsed 6.0893590450286865s\n",
      "current iteration: 270 epoch: 0 epoch_iteration 270 loss 0.6152022588553161 elapsed 6.832594156265259s\n",
      "current iteration: 300 epoch: 0 epoch_iteration 300 loss 0.6039534407765967 elapsed 7.578026056289673s\n",
      "current iteration: 330 epoch: 0 epoch_iteration 330 loss 0.5966325614488659 elapsed 8.326112985610962s\n",
      "current iteration: 360 epoch: 0 epoch_iteration 360 loss 0.5906040658523644 elapsed 9.0669584274292s\n",
      "current iteration: 390 epoch: 0 epoch_iteration 390 loss 0.5861256506066645 elapsed 9.80403733253479s\n",
      "current iteration: 420 epoch: 0 epoch_iteration 420 loss 0.5826761766304854 elapsed 10.540769815444946s\n",
      "current iteration: 450 epoch: 0 epoch_iteration 450 loss 0.5796816150655697 elapsed 11.29066252708435s\n",
      "current iteration: 480 epoch: 0 epoch_iteration 480 loss 0.5769609542373317 elapsed 12.035744667053223s\n",
      "epoch 0: loss 0.5764027913073267 score 0.722028\n",
      "current iteration: 510 epoch: 1 epoch_iteration 22 loss 0.5751054774746959 elapsed 12.773425340652466s\n",
      "current iteration: 540 epoch: 1 epoch_iteration 52 loss 0.5733477376283114 elapsed 13.520464420318604s\n",
      "current iteration: 570 epoch: 1 epoch_iteration 82 loss 0.5718524993197519 elapsed 14.32138967514038s\n",
      "current iteration: 600 epoch: 1 epoch_iteration 112 loss 0.570613356559531 elapsed 15.062133312225342s\n",
      "current iteration: 630 epoch: 1 epoch_iteration 142 loss 0.5694863351552885 elapsed 15.793797254562378s\n",
      "current iteration: 660 epoch: 1 epoch_iteration 172 loss 0.568733867171943 elapsed 16.545042514801025s\n",
      "current iteration: 690 epoch: 1 epoch_iteration 202 loss 0.5679356775820498 elapsed 17.291411638259888s\n",
      "current iteration: 720 epoch: 1 epoch_iteration 232 loss 0.5672583849636483 elapsed 18.0335590839386s\n",
      "current iteration: 750 epoch: 1 epoch_iteration 262 loss 0.5669533326612594 elapsed 18.768906831741333s\n",
      "current iteration: 780 epoch: 1 epoch_iteration 292 loss 0.5664734992617371 elapsed 19.544477701187134s\n",
      "current iteration: 810 epoch: 1 epoch_iteration 322 loss 0.5658213641595209 elapsed 20.31642985343933s\n",
      "current iteration: 840 epoch: 1 epoch_iteration 352 loss 0.5658502820608973 elapsed 21.057381629943848s\n",
      "current iteration: 870 epoch: 1 epoch_iteration 382 loss 0.5654141842310759 elapsed 21.80994987487793s\n",
      "current iteration: 900 epoch: 1 epoch_iteration 412 loss 0.5649560558744952 elapsed 22.54437756538391s\n",
      "current iteration: 930 epoch: 1 epoch_iteration 442 loss 0.5648411530218653 elapsed 23.287779092788696s\n",
      "current iteration: 960 epoch: 1 epoch_iteration 472 loss 0.5647614717085414 elapsed 24.030261516571045s\n",
      "epoch 1: loss 0.5645366776190148 score 0.725408\n",
      "current iteration: 990 epoch: 2 epoch_iteration 14 loss 0.5645478663408542 elapsed 24.78184461593628s\n",
      "current iteration: 1020 epoch: 2 epoch_iteration 44 loss 0.5644732230004081 elapsed 25.533082485198975s\n",
      "current iteration: 1050 epoch: 2 epoch_iteration 74 loss 0.5642469782241687 elapsed 26.268259525299072s\n",
      "current iteration: 1080 epoch: 2 epoch_iteration 104 loss 0.5641032436315144 elapsed 27.016740560531616s\n",
      "current iteration: 1110 epoch: 2 epoch_iteration 134 loss 0.5642842619964035 elapsed 27.7715106010437s\n",
      "current iteration: 1140 epoch: 2 epoch_iteration 164 loss 0.5639534767902274 elapsed 28.5131413936615s\n",
      "current iteration: 1170 epoch: 2 epoch_iteration 194 loss 0.5641192085954773 elapsed 29.251054763793945s\n",
      "current iteration: 1200 epoch: 2 epoch_iteration 224 loss 0.5637326016494169 elapsed 30.001550674438477s\n",
      "current iteration: 1230 epoch: 2 epoch_iteration 254 loss 0.5636354408260532 elapsed 30.742396593093872s\n",
      "current iteration: 1260 epoch: 2 epoch_iteration 284 loss 0.5636440303525397 elapsed 31.484238624572754s\n",
      "current iteration: 1290 epoch: 2 epoch_iteration 314 loss 0.5635268771678693 elapsed 32.23391819000244s\n",
      "current iteration: 1320 epoch: 2 epoch_iteration 344 loss 0.5636470573623196 elapsed 32.98104429244995s\n",
      "current iteration: 1350 epoch: 2 epoch_iteration 374 loss 0.563398875157396 elapsed 33.846096992492676s\n",
      "current iteration: 1380 epoch: 2 epoch_iteration 404 loss 0.5639118455189785 elapsed 34.60178017616272s\n",
      "current iteration: 1410 epoch: 2 epoch_iteration 434 loss 0.563232291381013 elapsed 35.40317416191101s\n",
      "current iteration: 1440 epoch: 2 epoch_iteration 464 loss 0.5632087962126213 elapsed 36.20835876464844s\n",
      "epoch 2: loss 0.5633095315987892 score 0.725196\n",
      "epoch 3: loss 0.5633095315987892 score 0.725196\n",
      "epoch 4: loss 0.5633095315987892 score 0.725196\n",
      "Training took: 36.798073530197144s\n",
      "{'num_epoch': 5, 'lr_type': 'bottou', 'initial_lr': 0.1, 'tau': 30, 'regularizer': 4e-06, 'quantization': 'full', 'n_machines': 512, 'method': 'plain', 'topology': 'complete', 'estimate': 'final', 'split_data_random_seed': 2, 'distribute_data': True, 'split_data_strategy': 'naive', 'compute_loss_every': 30} - score: 0.725196\n"
     ]
    }
   ],
   "source": [
    "reg = 1 / A.shape[0]\n",
    "n_features = A.shape[1]\n",
    "compute_loss_every = 30\n",
    "\n",
    "params_disconnected = dict(num_epoch=5, lr_type='bottou',\n",
    "                           initial_lr=0.1, tau=n_features, regularizer=reg,\n",
    "                           quantization='full', n_machines=512,\n",
    "                           method='plain', topology='complete', estimate='final',\n",
    "                           split_data_random_seed=2, distribute_data=True,\n",
    "                           split_data_strategy='naive', \n",
    "                           compute_loss_every=compute_loss_every)\n",
    "\n",
    "params_complete = params_disconnected.copy()\n",
    "\n",
    "losses_complete = run_logistic(A, y, params_complete)"
   ]
  },
  {
   "cell_type": "markdown",
   "metadata": {},
   "source": [
    "### Barbell and Path topologies"
   ]
  },
  {
   "cell_type": "code",
   "execution_count": 76,
   "metadata": {},
   "outputs": [
    {
     "name": "stdout",
     "output_type": "stream",
     "text": [
      "length of indices: 512\n",
      "length of last machine indices: 488\n",
      "current iteration: 0 epoch: 0 epoch_iteration 0 loss 1.7971129396432846 elapsed 0.027198076248168945s\n",
      "current iteration: 30 epoch: 0 epoch_iteration 30 loss 1.3166894336883561 elapsed 0.7927143573760986s\n",
      "current iteration: 60 epoch: 0 epoch_iteration 60 loss 1.0537606827052988 elapsed 1.5613818168640137s\n",
      "current iteration: 90 epoch: 0 epoch_iteration 90 loss 0.8974830871795015 elapsed 2.3299202919006348s\n",
      "current iteration: 120 epoch: 0 epoch_iteration 120 loss 0.7998170787861831 elapsed 3.10394287109375s\n",
      "current iteration: 150 epoch: 0 epoch_iteration 150 loss 0.7305780444393379 elapsed 3.8519654273986816s\n",
      "current iteration: 180 epoch: 0 epoch_iteration 180 loss 0.678957064429257 elapsed 4.610030174255371s\n",
      "current iteration: 210 epoch: 0 epoch_iteration 210 loss 0.6440390177235721 elapsed 5.3663170337677s\n",
      "current iteration: 240 epoch: 0 epoch_iteration 240 loss 0.6195763109361624 elapsed 6.11906886100769s\n",
      "current iteration: 270 epoch: 0 epoch_iteration 270 loss 0.6043575026407363 elapsed 6.8611159324646s\n",
      "current iteration: 300 epoch: 0 epoch_iteration 300 loss 0.5933181436308652 elapsed 7.615226984024048s\n",
      "current iteration: 330 epoch: 0 epoch_iteration 330 loss 0.5869124456694057 elapsed 8.3614182472229s\n",
      "current iteration: 360 epoch: 0 epoch_iteration 360 loss 0.582443803646004 elapsed 9.106711149215698s\n",
      "current iteration: 390 epoch: 0 epoch_iteration 390 loss 0.578973268961569 elapsed 9.850144386291504s\n",
      "current iteration: 420 epoch: 0 epoch_iteration 420 loss 0.5761231667880463 elapsed 10.602314472198486s\n",
      "current iteration: 450 epoch: 0 epoch_iteration 450 loss 0.5741714972821856 elapsed 11.356184720993042s\n",
      "current iteration: 480 epoch: 0 epoch_iteration 480 loss 0.5726878188792797 elapsed 12.093315839767456s\n",
      "epoch 0: loss 0.5722997629713031 score 0.71888\n",
      "current iteration: 510 epoch: 1 epoch_iteration 22 loss 0.5714466194873367 elapsed 12.844083309173584s\n",
      "current iteration: 540 epoch: 1 epoch_iteration 52 loss 0.5701741839185687 elapsed 13.5979163646698s\n",
      "current iteration: 570 epoch: 1 epoch_iteration 82 loss 0.5695340235346947 elapsed 14.348827123641968s\n",
      "current iteration: 600 epoch: 1 epoch_iteration 112 loss 0.5690798773715684 elapsed 15.087834596633911s\n",
      "current iteration: 630 epoch: 1 epoch_iteration 142 loss 0.5683991513918304 elapsed 15.83755087852478s\n",
      "current iteration: 660 epoch: 1 epoch_iteration 172 loss 0.5678196766966789 elapsed 16.58945870399475s\n",
      "current iteration: 690 epoch: 1 epoch_iteration 202 loss 0.5675742822130445 elapsed 17.32221293449402s\n",
      "current iteration: 720 epoch: 1 epoch_iteration 232 loss 0.5668874019071282 elapsed 18.07464361190796s\n",
      "current iteration: 750 epoch: 1 epoch_iteration 262 loss 0.5663883520766063 elapsed 18.81836247444153s\n",
      "current iteration: 780 epoch: 1 epoch_iteration 292 loss 0.5662298030351018 elapsed 19.575066328048706s\n",
      "current iteration: 810 epoch: 1 epoch_iteration 322 loss 0.5658051582267365 elapsed 20.31136131286621s\n",
      "current iteration: 840 epoch: 1 epoch_iteration 352 loss 0.5655402979136602 elapsed 21.061877250671387s\n",
      "current iteration: 870 epoch: 1 epoch_iteration 382 loss 0.5653919880690637 elapsed 21.806893587112427s\n",
      "current iteration: 900 epoch: 1 epoch_iteration 412 loss 0.5649258925240777 elapsed 22.54417371749878s\n",
      "current iteration: 930 epoch: 1 epoch_iteration 442 loss 0.5651258404404153 elapsed 23.297603368759155s\n",
      "current iteration: 960 epoch: 1 epoch_iteration 472 loss 0.5647668891406499 elapsed 24.051987648010254s\n",
      "epoch 1: loss 0.5646267431545056 score 0.724536\n",
      "epoch 2: loss 0.5646267431545056 score 0.724536\n",
      "epoch 3: loss 0.5646267431545056 score 0.724536\n",
      "epoch 4: loss 0.5646267431545056 score 0.724536\n",
      "Training took: 24.442981481552124s\n",
      "{'num_epoch': 5, 'lr_type': 'bottou', 'initial_lr': 0.1, 'tau': 30, 'regularizer': 4e-06, 'quantization': 'full', 'n_machines': 512, 'method': 'plain', 'topology': 'barbell', 'estimate': 'final', 'split_data_random_seed': 2, 'distribute_data': True, 'split_data_strategy': 'naive', 'compute_loss_every': 30} - score: 0.724536\n"
     ]
    }
   ],
   "source": [
    "params_barbell = params_disconnected.copy()\n",
    "params_barbell['topology'] = 'barbell'\n",
    "losses_barbell = run_logistic(A, y, params_barbell)"
   ]
  },
  {
   "cell_type": "code",
   "execution_count": 77,
   "metadata": {},
   "outputs": [
    {
     "name": "stdout",
     "output_type": "stream",
     "text": [
      "length of indices: 512\n",
      "length of last machine indices: 488\n",
      "current iteration: 0 epoch: 0 epoch_iteration 0 loss 2.273379955171478 elapsed 0.027978181838989258s\n",
      "current iteration: 30 epoch: 0 epoch_iteration 30 loss 1.510775650633685 elapsed 0.8049638271331787s\n",
      "current iteration: 60 epoch: 0 epoch_iteration 60 loss 1.0754757014351857 elapsed 1.5895848274230957s\n",
      "current iteration: 90 epoch: 0 epoch_iteration 90 loss 0.8683361363867258 elapsed 2.3527257442474365s\n",
      "current iteration: 120 epoch: 0 epoch_iteration 120 loss 0.7740928672589413 elapsed 3.1077940464019775s\n",
      "current iteration: 150 epoch: 0 epoch_iteration 150 loss 0.7172132378184558 elapsed 3.8638858795166016s\n",
      "current iteration: 180 epoch: 0 epoch_iteration 180 loss 0.68174610965828 elapsed 4.617648124694824s\n",
      "current iteration: 210 epoch: 0 epoch_iteration 210 loss 0.6569797896835075 elapsed 5.365100860595703s\n",
      "current iteration: 240 epoch: 0 epoch_iteration 240 loss 0.6390053769700381 elapsed 6.118823289871216s\n",
      "current iteration: 270 epoch: 0 epoch_iteration 270 loss 0.6263006624234877 elapsed 6.871372699737549s\n",
      "current iteration: 300 epoch: 0 epoch_iteration 300 loss 0.617712230561863 elapsed 7.6215245723724365s\n",
      "current iteration: 330 epoch: 0 epoch_iteration 330 loss 0.6109548236128277 elapsed 8.356512069702148s\n",
      "current iteration: 360 epoch: 0 epoch_iteration 360 loss 0.6053928798627786 elapsed 9.117350101470947s\n",
      "current iteration: 390 epoch: 0 epoch_iteration 390 loss 0.600413888519639 elapsed 9.873863935470581s\n",
      "current iteration: 420 epoch: 0 epoch_iteration 420 loss 0.5964536522846278 elapsed 10.619802474975586s\n",
      "current iteration: 450 epoch: 0 epoch_iteration 450 loss 0.5930984298144295 elapsed 11.356739044189453s\n",
      "current iteration: 480 epoch: 0 epoch_iteration 480 loss 0.5900396141804832 elapsed 12.100318908691406s\n",
      "epoch 0: loss 0.5893971184243672 score 0.719148\n",
      "current iteration: 510 epoch: 1 epoch_iteration 22 loss 0.5871928158508745 elapsed 12.867925643920898s\n",
      "current iteration: 540 epoch: 1 epoch_iteration 52 loss 0.5853774578220939 elapsed 13.604394435882568s\n",
      "current iteration: 570 epoch: 1 epoch_iteration 82 loss 0.5842084095551644 elapsed 14.349782943725586s\n",
      "current iteration: 600 epoch: 1 epoch_iteration 112 loss 0.5822689308303752 elapsed 15.090996026992798s\n",
      "current iteration: 630 epoch: 1 epoch_iteration 142 loss 0.580430479394555 elapsed 15.839866876602173s\n",
      "current iteration: 660 epoch: 1 epoch_iteration 172 loss 0.5791378843033147 elapsed 16.577197313308716s\n",
      "current iteration: 690 epoch: 1 epoch_iteration 202 loss 0.5779327935928592 elapsed 17.320968627929688s\n",
      "current iteration: 720 epoch: 1 epoch_iteration 232 loss 0.5767930825111405 elapsed 18.06490993499756s\n",
      "current iteration: 750 epoch: 1 epoch_iteration 262 loss 0.5758116867890859 elapsed 18.800037145614624s\n",
      "current iteration: 780 epoch: 1 epoch_iteration 292 loss 0.5753403282632543 elapsed 19.548459768295288s\n",
      "current iteration: 810 epoch: 1 epoch_iteration 322 loss 0.5741011547271142 elapsed 20.29753828048706s\n",
      "current iteration: 840 epoch: 1 epoch_iteration 352 loss 0.5733660592591874 elapsed 21.044772624969482s\n",
      "current iteration: 870 epoch: 1 epoch_iteration 382 loss 0.572662661481868 elapsed 21.77674627304077s\n",
      "current iteration: 900 epoch: 1 epoch_iteration 412 loss 0.5718483964481791 elapsed 22.533862590789795s\n",
      "current iteration: 930 epoch: 1 epoch_iteration 442 loss 0.5715518043444354 elapsed 23.27989673614502s\n",
      "current iteration: 960 epoch: 1 epoch_iteration 472 loss 0.5708604261925481 elapsed 24.016510248184204s\n",
      "epoch 1: loss 0.5706145026930435 score 0.727436\n",
      "current iteration: 990 epoch: 2 epoch_iteration 14 loss 0.5708705631311958 elapsed 24.772534370422363s\n",
      "current iteration: 1020 epoch: 2 epoch_iteration 44 loss 0.5695017473066836 elapsed 25.527430057525635s\n",
      "current iteration: 1050 epoch: 2 epoch_iteration 74 loss 0.5693548852168074 elapsed 26.26815676689148s\n",
      "current iteration: 1080 epoch: 2 epoch_iteration 104 loss 0.5687528921924377 elapsed 27.004064559936523s\n",
      "current iteration: 1110 epoch: 2 epoch_iteration 134 loss 0.5685994006803087 elapsed 27.757159948349s\n",
      "current iteration: 1140 epoch: 2 epoch_iteration 164 loss 0.5680961885445195 elapsed 28.50708508491516s\n",
      "current iteration: 1170 epoch: 2 epoch_iteration 194 loss 0.5683468774541927 elapsed 29.243043422698975s\n",
      "current iteration: 1200 epoch: 2 epoch_iteration 224 loss 0.5676924866501912 elapsed 29.99656915664673s\n",
      "current iteration: 1230 epoch: 2 epoch_iteration 254 loss 0.5673325703294427 elapsed 30.75364112854004s\n",
      "current iteration: 1260 epoch: 2 epoch_iteration 284 loss 0.5673249312207252 elapsed 31.502652645111084s\n",
      "current iteration: 1290 epoch: 2 epoch_iteration 314 loss 0.5672205133046563 elapsed 32.240885496139526s\n",
      "current iteration: 1320 epoch: 2 epoch_iteration 344 loss 0.5671778631226347 elapsed 33.0058913230896s\n",
      "current iteration: 1350 epoch: 2 epoch_iteration 374 loss 0.5666216848629498 elapsed 33.764262199401855s\n",
      "current iteration: 1380 epoch: 2 epoch_iteration 404 loss 0.5665566707381676 elapsed 34.51694107055664s\n",
      "current iteration: 1410 epoch: 2 epoch_iteration 434 loss 0.566210584097975 elapsed 35.26659393310547s\n",
      "current iteration: 1440 epoch: 2 epoch_iteration 464 loss 0.5661569404887148 elapsed 36.01641392707825s\n",
      "epoch 2: loss 0.5663389737676884 score 0.729728\n",
      "epoch 3: loss 0.5663389737676884 score 0.729728\n",
      "epoch 4: loss 0.5663389737676884 score 0.729728\n",
      "Training took: 36.61989235877991s\n",
      "{'num_epoch': 5, 'lr_type': 'bottou', 'initial_lr': 0.1, 'tau': 30, 'regularizer': 4e-06, 'quantization': 'full', 'n_machines': 512, 'method': 'plain', 'topology': 'path', 'estimate': 'final', 'split_data_random_seed': 2, 'distribute_data': True, 'split_data_strategy': 'naive', 'compute_loss_every': 30} - score: 0.729728\n"
     ]
    }
   ],
   "source": [
    "params_path = params_disconnected.copy()\n",
    "params_path['topology'] = 'path'\n",
    "losses_path = run_logistic(A, y, params_path)"
   ]
  },
  {
   "cell_type": "code",
   "execution_count": 80,
   "metadata": {},
   "outputs": [
    {
     "data": {
      "image/png": "[encoded data removed]",
      "text/plain": [
       "<Figure size 720x360 with 1 Axes>"
      ]
     },
     "metadata": {
      "needs_background": "light"
     },
     "output_type": "display_data"
    }
   ],
   "source": [
    "iterations_indices = np.arange(0, losses_complete.shape[0] * compute_loss_every, \n",
    "                               compute_loss_every)\n",
    "plot_losses(np.stack((losses_complete, losses_barbell, losses_path)),\n",
    "            iterations_indices, optimum_loss=optimum_loss, \n",
    "            labels=[\"Complete\",\"Barbell\", \"Path\"], title=\"Different topologies\")"
   ]
  },
  {
   "cell_type": "code",
   "execution_count": null,
   "metadata": {},
   "outputs": [],
   "source": []
  },
  {
   "cell_type": "code",
   "execution_count": null,
   "metadata": {},
   "outputs": [],
   "source": []
  }
 ],
 "metadata": {
  "kernelspec": {
   "display_name": "Python 3",
   "language": "python",
   "name": "python3"
  },
  "language_info": {
   "codemirror_mode": {
    "name": "ipython",
    "version": 3
   },
   "file_extension": ".py",
   "mimetype": "text/x-python",
   "name": "python",
   "nbconvert_exporter": "python",
   "pygments_lexer": "ipython3",
   "version": "3.7.6"
  }
 },
 "nbformat": 4,
 "nbformat_minor": 2
}
