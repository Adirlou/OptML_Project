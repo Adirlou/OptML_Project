{
 "cells": [
  {
   "cell_type": "code",
   "execution_count": 1,
   "metadata": {},
   "outputs": [],
   "source": [
    "%load_ext autoreload\n",
    "%autoreload 2"
   ]
  },
  {
   "cell_type": "code",
   "execution_count": 2,
   "metadata": {},
   "outputs": [],
   "source": [
    "import argparse\n",
    "import helpers\n",
    "import os\n",
    "from matplotlib import pyplot as plt\n",
    "\n",
    "import numpy as np\n",
    "import networkx as nx\n",
    "from sklearn.metrics import log_loss\n",
    "from decentralized_SGD_logistic import DecentralizedSGDLogistic\n",
    "from sklearn.linear_model import SGDClassifier"
   ]
  },
  {
   "cell_type": "markdown",
   "metadata": {},
   "source": [
    "## Load Higgs Boson dataset"
   ]
  },
  {
   "cell_type": "code",
   "execution_count": 3,
   "metadata": {},
   "outputs": [],
   "source": [
    "y, A = helpers.load_data()"
   ]
  },
  {
   "cell_type": "markdown",
   "metadata": {},
   "source": [
    "## Compute the baseline with SGD classifier "
   ]
  },
  {
   "cell_type": "code",
   "execution_count": 4,
   "metadata": {},
   "outputs": [
    {
     "name": "stdout",
     "output_type": "stream",
     "text": [
      "Accuracy: 0.7444\n",
      "Final loss: 0.5063267378689544\n"
     ]
    }
   ],
   "source": [
    "# Fit a SGD\n",
    "clf = SGDClassifier(loss='log', penalty='l2', alpha =1/A.shape[0], tol=1e-4, n_jobs=1, random_state=2)\n",
    "clf.fit(A, y)\n",
    "\n",
    "accuracy = clf.score(A, y)\n",
    "optimum_x = clf.predict_proba(A)[:, 1]\n",
    "\n",
    "# Optimal loss, useful for plots\n",
    "optimum_loss = (-(y.T.dot(np.log(optimum_x)) + (1 - y).T.dot(np.log(1 - optimum_x))) / A.shape[0])\n",
    "\n",
    "print('Accuracy:', accuracy)\n",
    "print('Final loss:', optimum_loss)"
   ]
  },
  {
   "cell_type": "markdown",
   "metadata": {},
   "source": [
    "## Computing with Decentralized SGD"
   ]
  },
  {
   "cell_type": "markdown",
   "metadata": {},
   "source": [
    "### Cycle topologies to be used"
   ]
  },
  {
   "cell_type": "code",
   "execution_count": 9,
   "metadata": {},
   "outputs": [],
   "source": [
    "def cycle_rw(p, n_states):\n",
    "    \"\"\"Return the transition matrix of a Markov chain corresponding\n",
    "    to a cyclic random walk (no self-loops)\n",
    "    :param p: the probability of going to one of the neighboring states\n",
    "    :param n_states: number of states in the Markov chain\"\"\"\n",
    "    q = 1-p\n",
    "\n",
    "    W = np.zeros(shape=(n_states, n_states))\n",
    "    np.fill_diagonal(W[1:], q, wrap=False)\n",
    "    np.fill_diagonal(W[:, 1:], p, wrap=False)\n",
    "    W[0, n_states - 1] = q\n",
    "    W[n_states - 1, 0] = p\n",
    "    return W"
   ]
  },
  {
   "cell_type": "code",
   "execution_count": 10,
   "metadata": {},
   "outputs": [],
   "source": [
    "def cycle_lazy_rw(lazy_p, p, n_states):\n",
    "    \"\"\"Return the transition matrix of a Markov chain corresponding\n",
    "    to a lazy cyclic random walk (self-loops are included)\n",
    "    :param lazy_p: the probability of staying at the same state\n",
    "    :param p: the probability of going to one of the neighboring states\n",
    "    :param n_states: number of states in the Markov chain\"\"\"\n",
    "    if lazy_p + p > 1:\n",
    "        raise ValueError('Wrong proba')\n",
    "    q = 1-p - lazy_p\n",
    "\n",
    "    W = np.zeros(shape=(n_states, n_states))\n",
    "    np.fill_diagonal(W, lazy_p, wrap=False)\n",
    "    np.fill_diagonal(W[1:], q, wrap=False)\n",
    "    np.fill_diagonal(W[:, 1:], p, wrap=False)\n",
    "    W[0, n_states - 1] = q\n",
    "    W[n_states - 1, 0] = p\n",
    "    return W"
   ]
  },
  {
   "cell_type": "code",
   "execution_count": 34,
   "metadata": {},
   "outputs": [],
   "source": [
    "reg = 1 / A.shape[0]\n",
    "n_features = A.shape[1]\n",
    "n_machines = 512\n",
    "compute_loss_every = 5\n",
    "\n",
    "params = dict(num_epoch=5, lr_type='bottou',\n",
    "                           initial_lr=0.1, regularizer=reg,\n",
    "                           quantization_method='full', n_machines=n_machines,\n",
    "                           communication_method='plain',\n",
    "                           data_distribution_random_seed=2, random_seed=2,\n",
    "                           data_distribution_strategy='random', tol=1e-10, compute_loss_every=compute_loss_every)"
   ]
  },
  {
   "cell_type": "markdown",
   "metadata": {},
   "source": [
    "### Comparison Unbalanced Ring with no self-loops VS Unbalanced Ring with self-loops"
   ]
  },
  {
   "cell_type": "code",
   "execution_count": 35,
   "metadata": {},
   "outputs": [
    {
     "name": "stdout",
     "output_type": "stream",
     "text": [
      "Decentralized optimization, run number 1 \n",
      "\n",
      "\u001b[32mEpoch      Iteration      Time      Loss      Accuracy      \u001b[0m\n",
      "[1/5]      [488/488]      24s       3.7840    0.6835        \u001b[0m\n",
      "[2/5]      [488/488]      50s       6.3214    0.6822        \u001b[0m\n",
      "[3/5]      [488/488]      73s       7.6109    0.6820        \u001b[0m\n",
      "[4/5]      [488/488]      95s       8.2979    0.6826        \u001b[0m\n",
      "[5/5]      [488/488]      117s      8.7461    0.6829        \u001b[0m\n",
      "\n",
      "Final score: 0.6829\n",
      "Decentralized optimization, run number 2 \n",
      "\n",
      "\u001b[32mEpoch      Iteration      Time      Loss      Accuracy      \u001b[0m\n",
      "[1/5]      [488/488]      25s       3.7674    0.6842        \u001b[0m\n",
      "[2/5]      [488/488]      51s       6.3488    0.6828        \u001b[0m\n",
      "[3/5]      [488/488]      73s       7.6044    0.6825        \u001b[0m\n",
      "[4/5]      [488/488]      95s       8.3950    0.6822        \u001b[0m\n",
      "[5/5]      [488/488]      118s      8.9189    0.6818        \u001b[0m\n",
      "\n",
      "Final score: 0.6818\n",
      "Decentralized optimization, run number 3 \n",
      "\n",
      "\u001b[32mEpoch      Iteration      Time      Loss      Accuracy      \u001b[0m\n",
      "[1/5]      [488/488]      22s       3.6571    0.6835        \u001b[0m\n",
      "[2/5]      [488/488]      44s       5.8780    0.6830        \u001b[0m\n",
      "[3/5]      [488/488]      68s       6.9945    0.6835        \u001b[0m\n",
      "[4/5]      [488/488]      89s       7.7405    0.6836        \u001b[0m\n",
      "[5/5]      [488/488]      112s      8.1926    0.6841        \u001b[0m\n",
      "\n",
      "Final score: 0.6841\n",
      "Decentralized optimization, run number 1 \n",
      "\n",
      "\u001b[32mEpoch      Iteration      Time      Loss      Accuracy      \u001b[0m\n",
      "[1/5]      [488/488]      24s       0.5671    0.7243        \u001b[0m\n",
      "[2/5]      [488/488]      51s       0.5643    0.7258        \u001b[0m\n",
      "[3/5]      [488/488]      76s       0.5642    0.7281        \u001b[0m\n",
      "[4/5]      [488/488]      100s      0.5638    0.7269        \u001b[0m\n",
      "[5/5]      [488/488]      123s      0.5636    0.7271        \u001b[0m\n",
      "\n",
      "Final score: 0.7271\n",
      "Decentralized optimization, run number 2 \n",
      "\n",
      "\u001b[32mEpoch      Iteration      Time      Loss      Accuracy      \u001b[0m\n",
      "[1/5]      [488/488]      24s       0.5671    0.7252        \u001b[0m\n",
      "[2/5]      [488/488]      49s       0.5642    0.7266        \u001b[0m\n",
      "[3/5]      [488/488]      75s       0.5632    0.7263        \u001b[0m\n",
      "[4/5]      [488/488]      101s      0.5636    0.7275        \u001b[0m\n",
      "[5/5]      [488/488]      125s      0.5638    0.7275        \u001b[0m\n",
      "\n",
      "Final score: 0.7275\n",
      "Decentralized optimization, run number 3 \n",
      "\n",
      "\u001b[32mEpoch      Iteration      Time      Loss      Accuracy      \u001b[0m\n",
      "[1/5]      [488/488]      26s       0.5673    0.7246        \u001b[0m\n",
      "[2/5]      [488/488]      51s       0.5646    0.7243        \u001b[0m\n",
      "[3/5]      [488/488]      77s       0.5635    0.7263        \u001b[0m\n",
      "[4/5]      [488/488]      103s      0.5635    0.7265        \u001b[0m\n",
      "[5/5]      [488/488]      126s      0.5633    0.7275        \u001b[0m\n",
      "\n",
      "Final score: 0.7275\n"
     ]
    }
   ],
   "source": [
    "params_cyle_rw = params.copy()\n",
    "params_cyle_rw['topology'] = cycle_rw(0.7, n_machines)\n",
    "list_losses_rw = helpers.run_logistic_n_times(A, y, params_cyle_rw, 3)\n",
    "\n",
    "\n",
    "params_cyle_lazy_rw = params.copy()\n",
    "params_cyle_lazy_rw['topology'] = cycle_lazy_rw(0.3, 0.6, n_machines)\n",
    "list_losses_lazy_rw = helpers.run_logistic_n_times(A, y, params_cyle_lazy_rw, 3)"
   ]
  },
  {
   "cell_type": "code",
   "execution_count": 63,
   "metadata": {},
   "outputs": [
    {
     "data": {
      "image/png": "[encoded data removed]",
      "text/plain": [
       "<Figure size 360x360 with 1 Axes>"
      ]
     },
     "metadata": {
      "needs_background": "light"
     },
     "output_type": "display_data"
    }
   ],
   "source": [
    "iterations_indices = np.arange(0, list_losses_rw[0].shape[0] * compute_loss_every, compute_loss_every)\n",
    "title = 'Evolution of error for $W_1 \\; (p_1=0, p_2=0.7, p_3=0.3)$ and\\n $W_2 \\; (p_1=0.3, p_2=0.6, p_3=0.1)$ with $n=512$ machines'\n",
    "labels = ['$W_1$ with initial $lr=0.1$','$W_2$ with initial $lr=0.1$']\n",
    "\n",
    "helpers.plot_losses_with_std([list_losses_rw, list_losses_lazy_rw],\n",
    "            iterations_indices, optimum_loss=optimum_loss, \n",
    "            labels=labels, title=title, figsize=(5,5))"
   ]
  },
  {
   "cell_type": "markdown",
   "metadata": {},
   "source": [
    "### Comparison Ring with no self-loops VS Ring close to no self-loops"
   ]
  },
  {
   "cell_type": "code",
   "execution_count": 37,
   "metadata": {},
   "outputs": [
    {
     "name": "stdout",
     "output_type": "stream",
     "text": [
      "Decentralized optimization, run number 1 \n",
      "\n",
      "\u001b[32mEpoch      Iteration      Time      Loss      Accuracy      \u001b[0m\n",
      "[1/5]      [488/488]      25s       3.8826    0.6832        \u001b[0m\n",
      "[2/5]      [488/488]      48s       6.3414    0.6821        \u001b[0m\n",
      "[3/5]      [488/488]      73s       7.5656    0.6825        \u001b[0m\n",
      "[4/5]      [488/488]      100s      8.2355    0.6828        \u001b[0m\n",
      "[5/5]      [488/488]      127s      8.6828    0.6831        \u001b[0m\n",
      "\n",
      "Final score: 0.6831\n",
      "Decentralized optimization, run number 2 \n",
      "\n",
      "\u001b[32mEpoch      Iteration      Time      Loss      Accuracy      \u001b[0m\n",
      "[1/5]      [488/488]      26s       3.9160    0.6834        \u001b[0m\n",
      "[2/5]      [488/488]      50s       6.3692    0.6829        \u001b[0m\n",
      "[3/5]      [488/488]      72s       7.6194    0.6825        \u001b[0m\n",
      "[4/5]      [488/488]      96s       8.2971    0.6826        \u001b[0m\n",
      "[5/5]      [488/488]      121s      8.7372    0.6829        \u001b[0m\n",
      "\n",
      "Final score: 0.6829\n",
      "Decentralized optimization, run number 3 \n",
      "\n",
      "\u001b[32mEpoch      Iteration      Time      Loss      Accuracy      \u001b[0m\n",
      "[1/5]      [488/488]      25s       3.7944    0.6830        \u001b[0m\n",
      "[2/5]      [488/488]      49s       6.0223    0.6828        \u001b[0m\n",
      "[3/5]      [488/488]      69s       7.1696    0.6833        \u001b[0m\n",
      "[4/5]      [488/488]      93s       7.7911    0.6841        \u001b[0m\n",
      "[5/5]      [488/488]      117s      8.4425    0.6834        \u001b[0m\n",
      "\n",
      "Final score: 0.6834\n",
      "Decentralized optimization, run number 1 \n",
      "\n",
      "\u001b[32mEpoch      Iteration      Time      Loss      Accuracy      \u001b[0m\n",
      "[1/5]      [488/488]      24s       1.0939    0.7057        \u001b[0m\n",
      "[2/5]      [488/488]      48s       1.1023    0.7179        \u001b[0m\n",
      "[3/5]      [488/488]      71s       1.0766    0.7238        \u001b[0m\n",
      "[4/5]      [488/488]      92s       1.0800    0.7262        \u001b[0m\n",
      "[5/5]      [488/488]      115s      1.0738    0.7264        \u001b[0m\n",
      "\n",
      "Final score: 0.7264\n",
      "Decentralized optimization, run number 2 \n",
      "\n",
      "\u001b[32mEpoch      Iteration      Time      Loss      Accuracy      \u001b[0m\n",
      "[1/5]      [488/488]      28s       1.0616    0.7061        \u001b[0m\n",
      "[2/5]      [488/488]      54s       1.0937    0.7177        \u001b[0m\n",
      "[3/5]      [488/488]      79s       1.0822    0.7231        \u001b[0m\n",
      "[4/5]      [488/488]      106s      1.0695    0.7268        \u001b[0m\n",
      "[5/5]      [488/488]      129s      1.0771    0.7272        \u001b[0m\n",
      "\n",
      "Final score: 0.7272\n",
      "Decentralized optimization, run number 3 \n",
      "\n",
      "\u001b[32mEpoch      Iteration      Time      Loss      Accuracy      \u001b[0m\n",
      "[1/5]      [488/488]      26s       1.0675    0.7065        \u001b[0m\n",
      "[2/5]      [488/488]      45s       1.0163    0.7195        \u001b[0m\n",
      "[3/5]      [488/488]      61s       0.9937    0.7248        \u001b[0m\n",
      "[4/5]      [488/488]      77s       0.9928    0.7273        \u001b[0m\n",
      "[5/5]      [488/488]      93s       0.9982    0.7287        \u001b[0m\n",
      "\n",
      "Final score: 0.7287\n",
      "Decentralized optimization, run number 1 \n",
      "\n",
      "\u001b[32mEpoch      Iteration      Time      Loss      Accuracy      \u001b[0m\n",
      "[1/5]      [488/488]      15s       0.5984    0.7046        \u001b[0m\n",
      "[2/5]      [488/488]      31s       0.7892    0.6891        \u001b[0m\n",
      "[3/5]      [488/488]      47s       1.1475    0.6854        \u001b[0m\n",
      "[4/5]      [488/488]      63s       1.5151    0.6848        \u001b[0m\n",
      "[5/5]      [488/488]      78s       1.8862    0.6843        \u001b[0m\n",
      "\n",
      "Final score: 0.6843\n",
      "Decentralized optimization, run number 2 \n",
      "\n",
      "\u001b[32mEpoch      Iteration      Time      Loss      Accuracy      \u001b[0m\n",
      "[1/5]      [488/488]      15s       0.6030    0.7028        \u001b[0m\n",
      "[2/5]      [488/488]      31s       0.8346    0.6884        \u001b[0m\n",
      "[3/5]      [488/488]      46s       1.2558    0.6844        \u001b[0m\n",
      "[4/5]      [488/488]      62s       1.7088    0.6831        \u001b[0m\n",
      "[5/5]      [488/488]      78s       2.1590    0.6826        \u001b[0m\n",
      "\n",
      "Final score: 0.6826\n",
      "Decentralized optimization, run number 3 \n",
      "\n",
      "\u001b[32mEpoch      Iteration      Time      Loss      Accuracy      \u001b[0m\n",
      "[1/5]      [488/488]      15s       0.5958    0.7064        \u001b[0m\n",
      "[2/5]      [488/488]      30s       0.8309    0.6875        \u001b[0m\n",
      "[3/5]      [488/488]      46s       1.2481    0.6841        \u001b[0m\n",
      "[4/5]      [488/488]      61s       1.6965    0.6831        \u001b[0m\n",
      "[5/5]      [488/488]      77s       2.1492    0.6826        \u001b[0m\n",
      "\n",
      "Final score: 0.6826\n",
      "Decentralized optimization, run number 1 \n",
      "\n",
      "\u001b[32mEpoch      Iteration      Time      Loss      Accuracy      \u001b[0m\n",
      "[1/5]      [488/488]      15s       0.5905    0.7105        \u001b[0m\n",
      "[2/5]      [488/488]      30s       0.5818    0.7135        \u001b[0m\n",
      "[3/5]      [488/488]      46s       0.5777    0.7163        \u001b[0m\n",
      "[4/5]      [488/488]      63s       0.5749    0.7184        \u001b[0m\n",
      "[5/5]      [488/488]      79s       0.5727    0.7200        \u001b[0m\n",
      "\n",
      "Final score: 0.7200\n",
      "Decentralized optimization, run number 2 \n",
      "\n",
      "\u001b[32mEpoch      Iteration      Time      Loss      Accuracy      \u001b[0m\n",
      "[1/5]      [488/488]      15s       0.5906    0.7108        \u001b[0m\n",
      "[2/5]      [488/488]      31s       0.5818    0.7143        \u001b[0m\n",
      "[3/5]      [488/488]      46s       0.5777    0.7166        \u001b[0m\n",
      "[4/5]      [488/488]      62s       0.5749    0.7184        \u001b[0m\n",
      "[5/5]      [488/488]      78s       0.5728    0.7195        \u001b[0m\n",
      "\n",
      "Final score: 0.7195\n",
      "Decentralized optimization, run number 3 \n",
      "\n",
      "\u001b[32mEpoch      Iteration      Time      Loss      Accuracy      \u001b[0m\n",
      "[1/5]      [488/488]      15s       0.5906    0.7108        \u001b[0m\n",
      "[2/5]      [488/488]      30s       0.5819    0.7138        \u001b[0m\n",
      "[3/5]      [488/488]      46s       0.5778    0.7163        \u001b[0m\n",
      "[4/5]      [488/488]      61s       0.5749    0.7183        \u001b[0m\n",
      "[5/5]      [488/488]      77s       0.5727    0.7196        \u001b[0m\n",
      "\n",
      "Final score: 0.7196\n"
     ]
    }
   ],
   "source": [
    "params_cycle_rw_new = params.copy()\n",
    "params_cycle_rw_new['topology'] = cycle_rw(0.5, n_machines)\n",
    "list_losses_rw_new = helpers.run_logistic_n_times(A, y, params_cycle_rw_new, 3)\n",
    "\n",
    "params_cycle_lazy_rw_new = params.copy()\n",
    "params_cycle_lazy_rw_new['topology'] = cycle_lazy_rw(0.01, 0.5, n_machines)\n",
    "list_losses_lazy_rw_new = helpers.run_logistic_n_times(A, y, params_cycle_lazy_rw_new, 3)\n",
    "\n",
    "params_cycle_rw_new2 = params_cycle_rw_new.copy()\n",
    "params_cycle_rw_new2['initial_lr'] = 0.01\n",
    "list_losses_rw_new2 = helpers.run_logistic_n_times(A, y, params_cycle_rw_new2, 3)\n",
    "\n",
    "params_cycle_lazy_rw_new2 = params_cycle_lazy_rw_new.copy()\n",
    "params_cycle_lazy_rw_new2['initial_lr'] = 0.01\n",
    "list_losses_lazy_rw_new2 = helpers.run_logistic_n_times(A, y, params_cycle_lazy_rw_new2, 3)"
   ]
  },
  {
   "cell_type": "code",
   "execution_count": 62,
   "metadata": {},
   "outputs": [
    {
     "data": {
      "image/png": "[encoded data removed]",
      "text/plain": [
       "<Figure size 360x360 with 1 Axes>"
      ]
     },
     "metadata": {
      "needs_background": "light"
     },
     "output_type": "display_data"
    }
   ],
   "source": [
    "iterations_indices = np.arange(0, list_losses_rw_new[0].shape[0] * compute_loss_every, compute_loss_every)\n",
    "title = 'Evolution of error for $W_1 \\; (p_1=0, p_2=0.5, p_3=0.5)$ and\\n $W_2 \\; (p_1=0.01, p_2=0.5, p_3=0.49)$ with $n=512$ machines'\n",
    "labels = ['$W_1$ with initial $lr=0.1$', '$W_2$ with initial $lr=0.1$', '$W_1$ with initial $lr=0.01$', '$W_2$ with initial $lr=0.01$']\n",
    "\n",
    "helpers.plot_losses_with_std([list_losses_rw_new, list_losses_lazy_rw_new,list_losses_rw_new2, list_losses_lazy_rw_new2],\n",
    "            iterations_indices, optimum_loss=optimum_loss, \n",
    "            labels=labels, title=title, figsize=(5,5))"
   ]
  },
  {
   "cell_type": "code",
   "execution_count": null,
   "metadata": {},
   "outputs": [],
   "source": []
  }
 ],
 "metadata": {
  "kernelspec": {
   "display_name": "Python [conda env:anaconda3]",
   "language": "python",
   "name": "conda-env-anaconda3-py"
  },
  "language_info": {
   "codemirror_mode": {
    "name": "ipython",
    "version": 3
   },
   "file_extension": ".py",
   "mimetype": "text/x-python",
   "name": "python",
   "nbconvert_exporter": "python",
   "pygments_lexer": "ipython3",
   "version": "3.6.6"
  }
 },
 "nbformat": 4,
 "nbformat_minor": 2
}
