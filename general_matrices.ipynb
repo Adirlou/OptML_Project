{
 "cells": [
  {
   "cell_type": "code",
   "execution_count": 1,
   "metadata": {},
   "outputs": [],
   "source": [
    "%load_ext autoreload\n",
    "%autoreload 2"
   ]
  },
  {
   "cell_type": "code",
   "execution_count": 2,
   "metadata": {},
   "outputs": [],
   "source": [
    "import argparse\n",
    "import os\n",
    "from matplotlib import pyplot as plt\n",
    "\n",
    "import numpy as np\n",
    "from sklearn.datasets import load_svmlight_file\n",
    "from sklearn.metrics import log_loss\n",
    "from decentralized_SGD_logistic import DecentralizedSGDLogistic\n",
    "from sklearn.linear_model import SGDClassifier\n",
    "from scipy.special import expit as sigmoid\n",
    "from helpers import plot_losses"
   ]
  },
  {
   "cell_type": "markdown",
   "metadata": {},
   "source": [
    "## Higgs Boson Dataset"
   ]
  },
  {
   "cell_type": "code",
   "execution_count": 4,
   "metadata": {},
   "outputs": [],
   "source": [
    "def run_logistic(A, y, param):\n",
    "    m = DecentralizedSGDLogistic(**param)\n",
    "    list_losses = m.fit(A, y, logging=True)\n",
    "    print('{0} - score: {1:.4f}'.format(param, m.score(A, y)))\n",
    "    return list_losses, np.arange(0.0, len(list_losses)) * m.compute_loss_every"
   ]
  },
  {
   "cell_type": "code",
   "execution_count": 5,
   "metadata": {},
   "outputs": [],
   "source": [
    "def load_csv_data(data_path):\n",
    "    \"\"\"Loads data and returns y (class labels), tX (features) and ids (event ids)\"\"\"\n",
    "    y = np.genfromtxt(data_path, delimiter=\",\", skip_header=1, dtype=str, usecols=1)\n",
    "    x = np.genfromtxt(data_path, delimiter=\",\", skip_header=1)\n",
    "    input_data = x[:, 2:]\n",
    "\n",
    "    # convert class labels from strings to binary (-1,1)\n",
    "    yb = np.ones(len(y))\n",
    "    yb[np.where(y=='b')] = -1\n",
    "\n",
    "    return yb, input_data"
   ]
  },
  {
   "cell_type": "code",
   "execution_count": 6,
   "metadata": {},
   "outputs": [],
   "source": [
    "def clean(input_data, mean=False):\n",
    "\n",
    "    #Replace -999 by most frequent value of column\n",
    "    for i in range(input_data.shape[1]):\n",
    "        current_col = input_data[:, i]\n",
    "\n",
    "        if -999.0 in current_col:\n",
    "            indices_to_change = (current_col == -999.0)\n",
    "            if mean:\n",
    "                curr_mean = np.mean(current_col[~indices_to_change])\n",
    "                current_col[indices_to_change] = curr_mean\n",
    "            else:\n",
    "                (values,counts) = np.unique(current_col[~indices_to_change], return_counts=True)\n",
    "                ind=np.argmax(counts)\n",
    "                current_col[indices_to_change] = values[ind] if len(values) > 0 else 0\n",
    "\n",
    "    return input_data"
   ]
  },
  {
   "cell_type": "code",
   "execution_count": 7,
   "metadata": {},
   "outputs": [],
   "source": [
    "def standardize(x):\n",
    "    \"\"\"Standardize the given data\"\"\"\n",
    "    means = x.mean(0)\n",
    "    stds = x.std(0)\n",
    "    return (x - means)/stds"
   ]
  },
  {
   "cell_type": "markdown",
   "metadata": {},
   "source": [
    "### Load dataset"
   ]
  },
  {
   "cell_type": "code",
   "execution_count": 8,
   "metadata": {},
   "outputs": [],
   "source": [
    "y, A = load_csv_data('train.csv')\n",
    "A = standardize(clean(A, True))\n",
    "y = 1 *(y > 0.0)"
   ]
  },
  {
   "cell_type": "markdown",
   "metadata": {},
   "source": [
    "### Compute the baseline with SGD classifier "
   ]
  },
  {
   "cell_type": "code",
   "execution_count": 9,
   "metadata": {},
   "outputs": [
    {
     "name": "stdout",
     "output_type": "stream",
     "text": [
      "Accuracy: 0.745812\n",
      "Final loss: 0.5064191793315126\n"
     ]
    }
   ],
   "source": [
    "# Fit a SGD\n",
    "clf = SGDClassifier(loss='log', penalty='l2',alpha =1/A.shape[0], tol=1e-4, n_jobs=1)\n",
    "clf.fit(A, y)\n",
    "\n",
    "accuracy = clf.score(A, y)\n",
    "optimum_x = clf.predict_proba(A)[:, 1]\n",
    "\n",
    "# Optimal loss, useful for plots\n",
    "optimum_loss = (-(y.T.dot(np.log(optimum_x)) + (1 - y).T.dot(np.log(1 - optimum_x))) / A.shape[0])\n",
    "\n",
    "print('Accuracy:', accuracy)\n",
    "print('Final loss:', optimum_loss)"
   ]
  },
  {
   "cell_type": "markdown",
   "metadata": {},
   "source": [
    "### Computing with Decentralized SGD"
   ]
  },
  {
   "cell_type": "code",
   "execution_count": 10,
   "metadata": {},
   "outputs": [],
   "source": [
    "def cycle_rw(p, n_cores):\n",
    "    q = 1-p\n",
    "\n",
    "    W = np.zeros(shape=(n_cores, n_cores))\n",
    "    np.fill_diagonal(W[1:], q, wrap=False)\n",
    "    np.fill_diagonal(W[:, 1:], p, wrap=False)\n",
    "    W[0, n_cores - 1] = q\n",
    "    W[n_cores - 1, 0] = p\n",
    "    return W"
   ]
  },
  {
   "cell_type": "code",
   "execution_count": 11,
   "metadata": {},
   "outputs": [],
   "source": [
    "def cycle_lazy_rw(lazy_p, p, n_cores):\n",
    "    if lazy_p + p > 1:\n",
    "        raise ValueError('Wrong proba')\n",
    "    q = 1-p - lazy_p\n",
    "\n",
    "    W = np.zeros(shape=(n_cores, n_cores))\n",
    "    np.fill_diagonal(W, lazy_p, wrap=False)\n",
    "    np.fill_diagonal(W[1:], q, wrap=False)\n",
    "    np.fill_diagonal(W[:, 1:], p, wrap=False)\n",
    "    W[0, n_cores - 1] = q\n",
    "    W[n_cores - 1, 0] = p\n",
    "    return W"
   ]
  },
  {
   "cell_type": "code",
   "execution_count": 12,
   "metadata": {},
   "outputs": [],
   "source": [
    "def spectral_gap(W):\n",
    "    eigs = np.linalg.eigvals(W)\n",
    "    max_eig = np.sort(np.abs(eigs))[-2]\n",
    "    return 1 - max_eig"
   ]
  },
  {
   "cell_type": "markdown",
   "metadata": {},
   "source": [
    "### Comparison Unbalanced Ring with no self-loops VS Unbalanced Ring with self-loops"
   ]
  },
  {
   "cell_type": "code",
   "execution_count": 14,
   "metadata": {},
   "outputs": [
    {
     "name": "stdout",
     "output_type": "stream",
     "text": [
      "\u001b[32mEpoch      Iteration      Time      Loss      Accuracy      \u001b[0m\n",
      "[1/5]      [980/980]      24s       5.9997    0.6834        \u001b[0m\n",
      "[2/5]      [980/980]      49s       7.9555    0.6837        \u001b[0m\n",
      "[3/5]      [980/980]      74s       8.6957    0.6841        \u001b[0m\n",
      "[4/5]      [980/980]      99s       9.0295    0.6851        \u001b[0m\n",
      "[5/5]      [980/980]      124s      9.1662    0.6866        \u001b[0m\n",
      "{'num_epoch': 5, 'lr_type': 'bottou', 'initial_lr': 0.1, 'tau': 30, 'regularizer': 4e-06, 'quantization_method': 'full', 'n_machines': 255, 'communication_method': 'plain', 'topology': array([[0. , 0.7, 0. , ..., 0. , 0. , 0.3],\n",
      "       [0.3, 0. , 0.7, ..., 0. , 0. , 0. ],\n",
      "       [0. , 0.3, 0. , ..., 0. , 0. , 0. ],\n",
      "       ...,\n",
      "       [0. , 0. , 0. , ..., 0. , 0.7, 0. ],\n",
      "       [0. , 0. , 0. , ..., 0.3, 0. , 0.7],\n",
      "       [0.7, 0. , 0. , ..., 0. , 0.3, 0. ]]), 'data_distribution_random_seed': 2, 'data_distribution_strategy': 'naive', 'tol': 1e-06, 'compute_loss_every': 5} - score: 0.6866\n",
      "\u001b[32mEpoch      Iteration      Time      Loss      Accuracy      \u001b[0m\n",
      "[1/5]      [980/980]      28s       0.5648    0.7250        \u001b[0m\n",
      "[2/5]      [980/980]      57s       0.5647    0.7273        \u001b[0m\n",
      "[3/5]      [980/980]      85s       0.5638    0.7277        \u001b[0m\n",
      "[4/5]      [980/980]      116s      0.5636    0.7262        \u001b[0m\n",
      "[5/5]      [980/980]      145s      0.5633    0.7266        \u001b[0m\n",
      "{'num_epoch': 5, 'lr_type': 'bottou', 'initial_lr': 0.1, 'tau': 30, 'regularizer': 4e-06, 'quantization_method': 'full', 'n_machines': 255, 'communication_method': 'plain', 'topology': array([[0.3, 0.6, 0. , ..., 0. , 0. , 0.1],\n",
      "       [0.1, 0.3, 0.6, ..., 0. , 0. , 0. ],\n",
      "       [0. , 0.1, 0.3, ..., 0. , 0. , 0. ],\n",
      "       ...,\n",
      "       [0. , 0. , 0. , ..., 0.3, 0.6, 0. ],\n",
      "       [0. , 0. , 0. , ..., 0.1, 0.3, 0.6],\n",
      "       [0.6, 0. , 0. , ..., 0. , 0.1, 0.3]]), 'data_distribution_random_seed': 2, 'data_distribution_strategy': 'naive', 'tol': 1e-06, 'compute_loss_every': 5} - score: 0.7266\n"
     ]
    }
   ],
   "source": [
    "reg = 1 / A.shape[0]\n",
    "n_features = A.shape[1]\n",
    "\n",
    "params_cyle_rw = dict(num_epoch=5, lr_type='bottou',\n",
    "                           initial_lr=0.1, tau=n_features, regularizer=reg,\n",
    "                           quantization_method='full', n_machines=255,\n",
    "                           communication_method='plain',topology=cycle_rw(0.7, 255),\n",
    "                           data_distribution_random_seed=2,\n",
    "                           data_distribution_strategy='naive', tol=1e-6, compute_loss_every=5)\n",
    "\n",
    "list_losses_rw, list_iterations_rw = run_logistic(A, y, params_cyle_rw)\n",
    "\n",
    "params_cyle_lazy_rw = dict(num_epoch=5, lr_type='bottou',\n",
    "                           initial_lr=0.1, tau=n_features, regularizer=reg,\n",
    "                           quantization_method='full', n_machines=255,\n",
    "                           communication_method='plain',topology=cycle_lazy_rw(0.3, 0.6, 255),\n",
    "                           data_distribution_random_seed=2,\n",
    "                           data_distribution_strategy='naive', tol=1e-6, compute_loss_every=5)\n",
    "\n",
    "list_losses_lazy_rw, list_iterations_lazy_rw = run_logistic(A, y, params_cyle_lazy_rw)"
   ]
  },
  {
   "cell_type": "code",
   "execution_count": 15,
   "metadata": {},
   "outputs": [
    {
     "data": {
      "image/png": "[encoded data removed]",
      "text/plain": [
       "<Figure size 720x360 with 1 Axes>"
      ]
     },
     "metadata": {
      "needs_background": "light"
     },
     "output_type": "display_data"
    }
   ],
   "source": [
    "plt.figure(figsize=(10, 5))\n",
    "\n",
    "plt.plot(list_iterations_rw, list_losses_rw-optimum_loss, 'r', label='$W_1$ with $lr=0.1$')\n",
    "plt.plot(list_iterations_rw, list_losses_lazy_rw-optimum_loss, 'b', label='$W_2$ with $lr=0.1$')\n",
    "\n",
    "plt.yscale('log')\n",
    "plt.title('Evolution of error for $W_1 \\; (p_1=0, p_2=0.7, p_3=0.3)$ and $W_2 \\; (p_1=0.3, p_2=0.6, p_3=0.1)$ with $n=255$ machines')\n",
    "plt.xlabel('Iterations')\n",
    "plt.ylabel('Error')\n",
    "plt.legend(loc=\"best\")\n",
    "\n",
    "plt.show()"
   ]
  },
  {
   "cell_type": "markdown",
   "metadata": {},
   "source": [
    "### Comparison Ring with no self-loops VS Ring close to no self-loops"
   ]
  },
  {
   "cell_type": "code",
   "execution_count": 16,
   "metadata": {},
   "outputs": [
    {
     "name": "stdout",
     "output_type": "stream",
     "text": [
      "\u001b[32mEpoch      Iteration      Time      Loss      Accuracy      \u001b[0m\n",
      "[1/5]      [980/980]      24s       6.0689    0.6832        \u001b[0m\n",
      "[2/5]      [980/980]      51s       7.8937    0.6838        \u001b[0m\n",
      "[3/5]      [980/980]      78s       8.5678    0.6850        \u001b[0m\n",
      "[4/5]      [980/980]      104s      8.8684    0.6863        \u001b[0m\n",
      "[5/5]      [980/980]      130s      8.9647    0.6888        \u001b[0m\n",
      "{'num_epoch': 5, 'lr_type': 'bottou', 'initial_lr': 0.1, 'tau': 30, 'regularizer': 4e-06, 'quantization_method': 'full', 'n_machines': 255, 'communication_method': 'plain', 'topology': array([[0. , 0.5, 0. , ..., 0. , 0. , 0.5],\n",
      "       [0.5, 0. , 0.5, ..., 0. , 0. , 0. ],\n",
      "       [0. , 0.5, 0. , ..., 0. , 0. , 0. ],\n",
      "       ...,\n",
      "       [0. , 0. , 0. , ..., 0. , 0.5, 0. ],\n",
      "       [0. , 0. , 0. , ..., 0.5, 0. , 0.5],\n",
      "       [0.5, 0. , 0. , ..., 0. , 0.5, 0. ]]), 'data_distribution_random_seed': 2, 'data_distribution_strategy': 'naive', 'tol': 1e-10, 'compute_loss_every': 5} - score: 0.6888\n",
      "\u001b[32mEpoch      Iteration      Time      Loss      Accuracy      \u001b[0m\n",
      "[1/5]      [980/980]      28s       1.0588    0.7184        \u001b[0m\n",
      "[2/5]      [980/980]      56s       1.0467    0.7260        \u001b[0m\n",
      "[3/5]      [980/980]      85s       1.0121    0.7295        \u001b[0m\n",
      "[4/5]      [980/980]      113s      1.0171    0.7288        \u001b[0m\n",
      "[5/5]      [980/980]      142s      1.0058    0.7314        \u001b[0m\n",
      "{'num_epoch': 5, 'lr_type': 'bottou', 'initial_lr': 0.1, 'tau': 30, 'regularizer': 4e-06, 'quantization_method': 'full', 'n_machines': 255, 'communication_method': 'plain', 'topology': array([[0.01, 0.5 , 0.  , ..., 0.  , 0.  , 0.49],\n",
      "       [0.49, 0.01, 0.5 , ..., 0.  , 0.  , 0.  ],\n",
      "       [0.  , 0.49, 0.01, ..., 0.  , 0.  , 0.  ],\n",
      "       ...,\n",
      "       [0.  , 0.  , 0.  , ..., 0.01, 0.5 , 0.  ],\n",
      "       [0.  , 0.  , 0.  , ..., 0.49, 0.01, 0.5 ],\n",
      "       [0.5 , 0.  , 0.  , ..., 0.  , 0.49, 0.01]]), 'data_distribution_random_seed': 2, 'data_distribution_strategy': 'naive', 'tol': 1e-10, 'compute_loss_every': 5} - score: 0.7314\n",
      "\u001b[32mEpoch      Iteration      Time      Loss      Accuracy      \u001b[0m\n",
      "[1/5]      [980/980]      29s       0.8291    0.6893        \u001b[0m\n",
      "[2/5]      [980/980]      57s       1.6940    0.6840        \u001b[0m\n",
      "[3/5]      [980/980]      85s       2.5781    0.6829        \u001b[0m\n",
      "[4/5]      [980/980]      112s      3.3439    0.6824        \u001b[0m\n",
      "[5/5]      [980/980]      139s      3.9800    0.6825        \u001b[0m\n",
      "{'num_epoch': 5, 'lr_type': 'bottou', 'initial_lr': 0.01, 'tau': 30, 'regularizer': 4e-06, 'quantization_method': 'full', 'n_machines': 255, 'communication_method': 'plain', 'topology': array([[0. , 0.5, 0. , ..., 0. , 0. , 0.5],\n",
      "       [0.5, 0. , 0.5, ..., 0. , 0. , 0. ],\n",
      "       [0. , 0.5, 0. , ..., 0. , 0. , 0. ],\n",
      "       ...,\n",
      "       [0. , 0. , 0. , ..., 0. , 0.5, 0. ],\n",
      "       [0. , 0. , 0. , ..., 0.5, 0. , 0.5],\n",
      "       [0.5, 0. , 0. , ..., 0. , 0.5, 0. ]]), 'data_distribution_random_seed': 2, 'data_distribution_strategy': 'naive', 'tol': 1e-10, 'compute_loss_every': 5} - score: 0.6825\n",
      "\u001b[32mEpoch      Iteration      Time      Loss      Accuracy      \u001b[0m\n",
      "[1/5]      [980/980]      28s       0.5819    0.7143        \u001b[0m\n",
      "[2/5]      [980/980]      57s       0.5748    0.7182        \u001b[0m\n",
      "[3/5]      [980/980]      85s       0.5711    0.7212        \u001b[0m\n",
      "[4/5]      [980/980]      114s      0.5688    0.7223        \u001b[0m\n",
      "[5/5]      [980/980]      143s      0.5672    0.7232        \u001b[0m\n",
      "{'num_epoch': 5, 'lr_type': 'bottou', 'initial_lr': 0.01, 'tau': 30, 'regularizer': 4e-06, 'quantization_method': 'full', 'n_machines': 255, 'communication_method': 'plain', 'topology': array([[0.01, 0.5 , 0.  , ..., 0.  , 0.  , 0.49],\n",
      "       [0.49, 0.01, 0.5 , ..., 0.  , 0.  , 0.  ],\n",
      "       [0.  , 0.49, 0.01, ..., 0.  , 0.  , 0.  ],\n",
      "       ...,\n",
      "       [0.  , 0.  , 0.  , ..., 0.01, 0.5 , 0.  ],\n",
      "       [0.  , 0.  , 0.  , ..., 0.49, 0.01, 0.5 ],\n",
      "       [0.5 , 0.  , 0.  , ..., 0.  , 0.49, 0.01]]), 'data_distribution_random_seed': 2, 'data_distribution_strategy': 'naive', 'tol': 1e-10, 'compute_loss_every': 5} - score: 0.7232\n"
     ]
    }
   ],
   "source": [
    "reg = 1 / A.shape[0]\n",
    "n_features = A.shape[1]\n",
    "\n",
    "params_cyle_rw_new = dict(num_epoch=5, lr_type='bottou',\n",
    "                           initial_lr=0.1, tau=n_features, regularizer=reg,\n",
    "                           quantization_method='full', n_machines=255,\n",
    "                           communication_method='plain',topology=cycle_rw(0.5, 255),\n",
    "                           data_distribution_random_seed=2,\n",
    "                           data_distribution_strategy='naive', tol=1e-10, compute_loss_every=5)\n",
    "\n",
    "list_losses_rw_new, list_iterations_rw_new = run_logistic(A, y, params_cyle_rw_new)\n",
    "\n",
    "params_cyle_lazy_rw_new = dict(num_epoch=5, lr_type='bottou',\n",
    "                           initial_lr=0.1, tau=n_features, regularizer=reg,\n",
    "                           quantization_method='full', n_machines=255,\n",
    "                           communication_method='plain',topology=cycle_lazy_rw(0.01, 0.5, 255),\n",
    "                           data_distribution_random_seed=2,\n",
    "                           data_distribution_strategy='naive', tol=1e-10, compute_loss_every=5)\n",
    "\n",
    "list_losses_lazy_rw_new, list_iterations_lazy_rw_new = run_logistic(A, y, params_cyle_lazy_rw_new)\n",
    "\n",
    "params_cyle_rw_new2 = dict(num_epoch=5, lr_type='bottou',\n",
    "                           initial_lr=0.01, tau=n_features, regularizer=reg,\n",
    "                           quantization_method='full', n_machines=255,\n",
    "                           communication_method='plain',topology=cycle_rw(0.5, 255),\n",
    "                           data_distribution_random_seed=2,\n",
    "                           data_distribution_strategy='naive', tol=1e-10, compute_loss_every=5)\n",
    "\n",
    "list_losses_rw_new2, list_iterations_rw_new2 = run_logistic(A, y, params_cyle_rw_new2)\n",
    "\n",
    "params_cyle_lazy_rw_new2 = dict(num_epoch=5, lr_type='bottou',\n",
    "                           initial_lr=0.01, tau=n_features, regularizer=reg,\n",
    "                           quantization_method='full', n_machines=255,\n",
    "                           communication_method='plain',topology=cycle_lazy_rw(0.01, 0.5, 255),\n",
    "                           data_distribution_random_seed=2,\n",
    "                           data_distribution_strategy='naive', tol=1e-10, compute_loss_every=5)\n",
    "\n",
    "list_losses_lazy_rw_new2, list_iterations_lazy_rw_new2 = run_logistic(A, y, params_cyle_lazy_rw_new2)"
   ]
  },
  {
   "cell_type": "code",
   "execution_count": 17,
   "metadata": {},
   "outputs": [
    {
     "data": {
      "image/png": "[encoded data removed]",
      "text/plain": [
       "<Figure size 720x360 with 1 Axes>"
      ]
     },
     "metadata": {
      "needs_background": "light"
     },
     "output_type": "display_data"
    }
   ],
   "source": [
    "plt.figure(figsize=(10, 5))\n",
    "\n",
    "plt.plot(list_iterations_lazy_rw_new2, list_losses_rw_new-optimum_loss, 'r', label='$W_1$ with $lr=0.1$')\n",
    "plt.plot(list_iterations_lazy_rw_new2, list_losses_lazy_rw_new-optimum_loss, 'b', label='$W_2$ with $lr=0.1$')\n",
    "plt.plot(list_iterations_lazy_rw_new2, list_losses_rw_new2-optimum_loss, 'r--', label='$W_1$ with $lr=0.01$')\n",
    "plt.plot(list_iterations_lazy_rw_new2, list_losses_lazy_rw_new2-optimum_loss, 'b--', label='$W_2$ with $lr=0.01$')\n",
    "\n",
    "plt.yscale('log')\n",
    "plt.title('Evolution of error for $W_1 \\; (p_1=0, p_2=0.5, p_3=0.5)$ and $W_2 \\; (p_1=0.01, p_2=0.5, p_3=0.49)$ with $n=255$ machines')\n",
    "plt.xlabel('Iterations')\n",
    "plt.ylabel('Error')\n",
    "plt.legend(loc=\"best\")\n",
    "\n",
    "plt.show()"
   ]
  }
 ],
 "metadata": {
  "kernelspec": {
   "display_name": "Python [conda env:anaconda3]",
   "language": "python",
   "name": "conda-env-anaconda3-py"
  },
  "language_info": {
   "codemirror_mode": {
    "name": "ipython",
    "version": 3
   },
   "file_extension": ".py",
   "mimetype": "text/x-python",
   "name": "python",
   "nbconvert_exporter": "python",
   "pygments_lexer": "ipython3",
   "version": "3.6.6"
  }
 },
 "nbformat": 4,
 "nbformat_minor": 2
}
